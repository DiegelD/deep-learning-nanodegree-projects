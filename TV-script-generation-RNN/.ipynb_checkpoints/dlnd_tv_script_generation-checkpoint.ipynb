{
 "cells": [
  {
   "cell_type": "markdown",
   "metadata": {
    "deletable": true,
    "editable": true
   },
   "source": [
    "# TV Script Generation\n",
    "In this project, you'll generate your own [Simpsons](https://en.wikipedia.org/wiki/The_Simpsons) TV scripts using RNNs.  You'll be using part of the [Simpsons dataset](https://www.kaggle.com/wcukierski/the-simpsons-by-the-data) of scripts from 27 seasons.  The Neural Network you'll build will generate a new TV script for a scene at [Moe's Tavern](https://simpsonswiki.com/wiki/Moe's_Tavern).\n",
    "## Get the Data\n",
    "The data is already provided for you.  You'll be using a subset of the original dataset.  It consists of only the scenes in Moe's Tavern.  This doesn't include other versions of the tavern, like \"Moe's Cavern\", \"Flaming Moe's\", \"Uncle Moe's Family Feed-Bag\", etc.."
   ]
  },
  {
   "cell_type": "code",
   "execution_count": 82,
   "metadata": {
    "collapsed": true,
    "deletable": true,
    "editable": true
   },
   "outputs": [],
   "source": [
    "\"\"\"\n",
    "DON'T MODIFY ANYTHING IN THIS CELL\n",
    "\"\"\"\n",
    "import helper\n",
    "\n",
    "data_dir = './data/simpsons/moes_tavern_lines.txt'\n",
    "text = helper.load_data(data_dir)\n",
    "# Ignore notice, since we don't use it for analysing the data\n",
    "text = text[81:]"
   ]
  },
  {
   "cell_type": "markdown",
   "metadata": {
    "deletable": true,
    "editable": true
   },
   "source": [
    "## Explore the Data\n",
    "Play around with `view_sentence_range` to view different parts of the data."
   ]
  },
  {
   "cell_type": "code",
   "execution_count": 83,
   "metadata": {
    "collapsed": false,
    "deletable": true,
    "editable": true
   },
   "outputs": [
    {
     "name": "stdout",
     "output_type": "stream",
     "text": [
      "Dataset Stats\n",
      "Roughly the number of unique words: 11492\n",
      "Number of scenes: 262\n",
      "Average number of sentences in each scene: 15.251908396946565\n",
      "Number of lines: 4258\n",
      "Average number of words in each line: 11.50164396430249\n",
      "\n",
      "The sentences 0 to 10:\n",
      "\n",
      "Moe_Szyslak: (INTO PHONE) Moe's Tavern. Where the elite meet to drink.\n",
      "Bart_Simpson: Eh, yeah, hello, is Mike there? Last name, Rotch.\n",
      "Moe_Szyslak: (INTO PHONE) Hold on, I'll check. (TO BARFLIES) Mike Rotch. Mike Rotch. Hey, has anybody seen Mike Rotch, lately?\n",
      "Moe_Szyslak: (INTO PHONE) Listen you little puke. One of these days I'm gonna catch you, and I'm gonna carve my name on your back with an ice pick.\n",
      "Moe_Szyslak: What's the matter Homer? You're not your normal effervescent self.\n",
      "Homer_Simpson: I got my problems, Moe. Give me another one.\n",
      "Moe_Szyslak: Homer, hey, you should not drink to forget your problems.\n",
      "Barney_Gumble: Yeah, you should only drink to enhance your social skills.\n",
      "\n"
     ]
    }
   ],
   "source": [
    "view_sentence_range = (0, 10)\n",
    "\n",
    "\"\"\"\n",
    "DON'T MODIFY ANYTHING IN THIS CELL\n",
    "\"\"\"\n",
    "import numpy as np\n",
    "\n",
    "print('Dataset Stats')\n",
    "print('Roughly the number of unique words: {}'.format(len({word: None for word in text.split()})))\n",
    "scenes = text.split('\\n\\n')\n",
    "print('Number of scenes: {}'.format(len(scenes)))\n",
    "sentence_count_scene = [scene.count('\\n') for scene in scenes]\n",
    "print('Average number of sentences in each scene: {}'.format(np.average(sentence_count_scene)))\n",
    "\n",
    "sentences = [sentence for scene in scenes for sentence in scene.split('\\n')]\n",
    "print('Number of lines: {}'.format(len(sentences)))\n",
    "word_count_sentence = [len(sentence.split()) for sentence in sentences]\n",
    "print('Average number of words in each line: {}'.format(np.average(word_count_sentence)))\n",
    "\n",
    "print()\n",
    "print('The sentences {} to {}:'.format(*view_sentence_range))\n",
    "print('\\n'.join(text.split('\\n')[view_sentence_range[0]:view_sentence_range[1]]))"
   ]
  },
  {
   "cell_type": "markdown",
   "metadata": {
    "deletable": true,
    "editable": true
   },
   "source": [
    "## Implement Preprocessing Functions\n",
    "The first thing to do to any dataset is preprocessing.  Implement the following preprocessing functions below:\n",
    "- Lookup Table\n",
    "- Tokenize Punctuation\n",
    "\n",
    "### Lookup Table\n",
    "To create a word embedding, you first need to transform the words to ids.  In this function, create two dictionaries:\n",
    "- Dictionary to go from the words to an id, we'll call `vocab_to_int`\n",
    "- Dictionary to go from the id to word, we'll call `int_to_vocab`\n",
    "\n",
    "Return these dictionaries in the following tuple `(vocab_to_int, int_to_vocab)`"
   ]
  },
  {
   "cell_type": "code",
   "execution_count": 84,
   "metadata": {
    "collapsed": false,
    "deletable": true,
    "editable": true
   },
   "outputs": [
    {
     "name": "stdout",
     "output_type": "stream",
     "text": [
      "Tests Passed\n"
     ]
    }
   ],
   "source": [
    "import numpy as np\n",
    "import problem_unittests as tests\n",
    "from string import punctuation\n",
    "from collections import Counter\n",
    "\n",
    "def create_lookup_tables(text):\n",
    "    \"\"\"\n",
    "    Create lookup tables for vocabulary\n",
    "    :param text: The text of tv scripts split into words\n",
    "    :return: A tuple of dicts (vocab_to_int, int_to_vocab)\n",
    "    \"\"\"\n",
    "    # TODO: Implement Function\n",
    "    # Join the list of words into a single string, removing punctuation\n",
    "    # all_text = ''.join([c for c in text if c not in punctuation])\n",
    "    \n",
    "    # Split the string into words\n",
    "    #words = text.split()\n",
    "    \n",
    "    # Count the frequency of each word in the text\n",
    "    counts = Counter(text)\n",
    "    \n",
    "    # Sort the vocabulary by frequency in descending order\n",
    "    vocab = sorted(counts, key=counts.get, reverse=True)\n",
    "    \n",
    "    # Create a dictionary that maps words to integers\n",
    "    vocab_to_int = {word: ii for ii, word in enumerate(vocab, 1)}\n",
    "    \n",
    "    # Create a dictionary that maps integers to words\n",
    "    int_to_vocab = {ii: word for word, ii in vocab_to_int.items()}\n",
    "    \n",
    "    return vocab_to_int, int_to_vocab\n",
    "\n",
    "\n",
    "\"\"\"\n",
    "DON'T MODIFY ANYTHING IN THIS CELL THAT IS BELOW THIS LINE\n",
    "\"\"\"\n",
    "tests.test_create_lookup_tables(create_lookup_tables)"
   ]
  },
  {
   "cell_type": "markdown",
   "metadata": {
    "deletable": true,
    "editable": true
   },
   "source": [
    "### Tokenize Punctuation\n",
    "We'll be splitting the script into a word array using spaces as delimiters.  However, punctuations like periods and exclamation marks make it hard for the neural network to distinguish between the word \"bye\" and \"bye!\".\n",
    "\n",
    "Implement the function `token_lookup` to return a dict that will be used to tokenize symbols like \"!\" into \"||Exclamation_Mark||\".  Create a dictionary for the following symbols where the symbol is the key and value is the token:\n",
    "- Period ( . )\n",
    "- Comma ( , )\n",
    "- Quotation Mark ( \" )\n",
    "- Semicolon ( ; )\n",
    "- Exclamation mark ( ! )\n",
    "- Question mark ( ? )\n",
    "- Left Parentheses ( ( )\n",
    "- Right Parentheses ( ) )\n",
    "- Dash ( -- )\n",
    "- Return ( \\n )\n",
    "\n",
    "This dictionary will be used to token the symbols and add the delimiter (space) around it.  This separates the symbols as it's own word, making it easier for the neural network to predict on the next word. Make sure you don't use a token that could be confused as a word. Instead of using the token \"dash\", try using something like \"||dash||\"."
   ]
  },
  {
   "cell_type": "code",
   "execution_count": 85,
   "metadata": {
    "collapsed": false,
    "deletable": true,
    "editable": true
   },
   "outputs": [
    {
     "name": "stdout",
     "output_type": "stream",
     "text": [
      "Tests Passed\n"
     ]
    }
   ],
   "source": [
    "def token_lookup():\n",
    "    \"\"\"\n",
    "    Generate a dict to turn punctuation into a token.\n",
    "    :return: Tokenize dictionary where the key is the punctuation and the value is the token\n",
    "    \"\"\"\n",
    "    # TODO: Implement Function\n",
    "    dict = {\n",
    "        '.': '||Period||',\n",
    "        ',': '||Comma||',\n",
    "        '\"': '||Quotation_Mark||',\n",
    "        ';': '||Semicolon||',\n",
    "        '!': '||Exclamation_mark||',\n",
    "        '?': '||Question_mark||',\n",
    "        '(': '||Left_Parentheses||',\n",
    "        ')': '||Right_Parentheses||',\n",
    "        '--': '||Dash||',\n",
    "        '\\n': '||Return||'\n",
    "    }\n",
    "    return dict\n",
    "\n",
    "\"\"\"\n",
    "DON'T MODIFY ANYTHING IN THIS CELL THAT IS BELOW THIS LINE\n",
    "\"\"\"\n",
    "tests.test_tokenize(token_lookup)"
   ]
  },
  {
   "cell_type": "markdown",
   "metadata": {
    "deletable": true,
    "editable": true
   },
   "source": [
    "## Preprocess all the data and save it\n",
    "Running the code cell below will preprocess all the data and save it to file."
   ]
  },
  {
   "cell_type": "code",
   "execution_count": 86,
   "metadata": {
    "collapsed": true,
    "deletable": true,
    "editable": true
   },
   "outputs": [],
   "source": [
    "\"\"\"\n",
    "DON'T MODIFY ANYTHING IN THIS CELL\n",
    "\"\"\"\n",
    "# Preprocess Training, Validation, and Testing Data\n",
    "helper.preprocess_and_save_data(data_dir, token_lookup, create_lookup_tables)"
   ]
  },
  {
   "cell_type": "markdown",
   "metadata": {
    "deletable": true,
    "editable": true
   },
   "source": [
    "# Check Point\n",
    "This is your first checkpoint. If you ever decide to come back to this notebook or have to restart the notebook, you can start from here. The preprocessed data has been saved to disk."
   ]
  },
  {
   "cell_type": "code",
   "execution_count": 102,
   "metadata": {
    "collapsed": false,
    "deletable": true,
    "editable": true
   },
   "outputs": [
    {
     "name": "stdout",
     "output_type": "stream",
     "text": [
      "vocab_to_int 6780\n"
     ]
    }
   ],
   "source": [
    "\"\"\"\n",
    "DON'T MODIFY ANYTHING IN THIS CELL\n",
    "\"\"\"\n",
    "import helper\n",
    "import numpy as np\n",
    "import problem_unittests as tests\n",
    "\n",
    "int_text, vocab_to_int, int_to_vocab, token_dict = helper.load_preprocess()\n",
    "\n",
    "vocab_size = len(vocab_to_int) \n",
    "print('vocab_size',len(vocab_to_int))"
   ]
  },
  {
   "cell_type": "markdown",
   "metadata": {
    "deletable": true,
    "editable": true
   },
   "source": [
    "## Build the Neural Network\n",
    "You'll build the components necessary to build a RNN by implementing the following functions below:\n",
    "- get_inputs\n",
    "- get_init_cell\n",
    "- get_embed\n",
    "- build_rnn\n",
    "- build_nn\n",
    "- get_batches\n",
    "\n",
    "### Check the Version of TensorFlow and Access to GPU"
   ]
  },
  {
   "cell_type": "code",
   "execution_count": 88,
   "metadata": {
    "collapsed": false,
    "deletable": true,
    "editable": true
   },
   "outputs": [
    {
     "name": "stdout",
     "output_type": "stream",
     "text": [
      "TensorFlow Version: 1.4.0\n",
      "TensorFlow Version: 1.4.0\n"
     ]
    },
    {
     "name": "stderr",
     "output_type": "stream",
     "text": [
      "d:\\software\\mambaforge\\envs\\deep-learning_2\\lib\\site-packages\\ipykernel\\__main__.py:15: UserWarning: No GPU found. Please use a GPU to train your neural network.\n"
     ]
    }
   ],
   "source": [
    "\"\"\"\n",
    "DON'T MODIFY ANYTHING IN THIS CELL\n",
    "\"\"\"\n",
    "from distutils.version import LooseVersion\n",
    "import warnings\n",
    "import tensorflow as tf\n",
    "\n",
    "# Check TensorFlow Version\n",
    "print('TensorFlow Version: {}'.format(tf.__version__))\n",
    "assert LooseVersion(tf.__version__) >= LooseVersion('1.3'), 'Please use TensorFlow version 1.3 or newer'\n",
    "print('TensorFlow Version: {}'.format(tf.__version__))\n",
    "\n",
    "# Check for a GPU\n",
    "if not tf.test.gpu_device_name():\n",
    "    warnings.warn('No GPU found. Please use a GPU to train your neural network.')\n",
    "else:\n",
    "    print('Default GPU Device: {}'.format(tf.test.gpu_device_name()))"
   ]
  },
  {
   "cell_type": "markdown",
   "metadata": {
    "deletable": true,
    "editable": true
   },
   "source": [
    "### Input\n",
    "Implement the `get_inputs()` function to create TF Placeholders for the Neural Network.  It should create the following placeholders:\n",
    "- Input text placeholder named \"input\" using the [TF Placeholder](https://www.tensorflow.org/api_docs/python/tf/placeholder) `name` parameter.\n",
    "- Targets placeholder\n",
    "- Learning Rate placeholder\n",
    "\n",
    "Return the placeholders in the following tuple `(Input, Targets, LearningRate)`"
   ]
  },
  {
   "cell_type": "code",
   "execution_count": 89,
   "metadata": {
    "collapsed": false,
    "deletable": true,
    "editable": true
   },
   "outputs": [
    {
     "name": "stdout",
     "output_type": "stream",
     "text": [
      "Tests Passed\n"
     ]
    }
   ],
   "source": [
    "def get_inputs():\n",
    "    \"\"\"\n",
    "    Create TF Placeholders for input, targets, and learning rate.\n",
    "    :return: Tuple (input, targets, learning rate)\n",
    "    \"\"\"\n",
    "    # TODO: Implement Function\n",
    "    input_ = tf.placeholder(tf.int32, [None, None], name='input')\n",
    "    target_ = tf.placeholder(tf.int32, [None, None], name='targets')\n",
    "    lr_ = tf.placeholder(tf.float32, name='learning_rate')\n",
    "        \n",
    "    return input_, target_, lr_\n",
    "\n",
    "\n",
    "\"\"\"\n",
    "DON'T MODIFY ANYTHING IN THIS CELL THAT IS BELOW THIS LINE\n",
    "\"\"\"\n",
    "tests.test_get_inputs(get_inputs)"
   ]
  },
  {
   "cell_type": "markdown",
   "metadata": {
    "deletable": true,
    "editable": true
   },
   "source": [
    "### Build RNN Cell and Initialize\n",
    "Stack one or more [`BasicLSTMCells`](https://www.tensorflow.org/api_docs/python/tf/contrib/rnn/BasicLSTMCell) in a [`MultiRNNCell`](https://www.tensorflow.org/api_docs/python/tf/contrib/rnn/MultiRNNCell).\n",
    "- The Rnn size should be set using `rnn_size`\n",
    "- Initalize Cell State using the MultiRNNCell's [`zero_state()`](https://www.tensorflow.org/api_docs/python/tf/contrib/rnn/MultiRNNCell#zero_state) function\n",
    "    - Apply the name \"initial_state\" to the initial state using [`tf.identity()`](https://www.tensorflow.org/api_docs/python/tf/identity)\n",
    "\n",
    "Return the cell and initial state in the following tuple `(Cell, InitialState)`"
   ]
  },
  {
   "cell_type": "code",
   "execution_count": 97,
   "metadata": {
    "collapsed": false,
    "deletable": true,
    "editable": true
   },
   "outputs": [
    {
     "name": "stdout",
     "output_type": "stream",
     "text": [
      "Tests Passed\n"
     ]
    }
   ],
   "source": [
    "def get_init_cell(batch_size, rnn_size):\n",
    "    \"\"\"\n",
    "    Create an RNN Cell and initialize it.\n",
    "    :param batch_size: Size of batches\n",
    "    :param rnn_size: Size of RNNs\n",
    "    :return: Tuple (cell, initialize state)\n",
    "    \"\"\"\n",
    "    # TODO: Implement Function\n",
    "    lstm_layers = 2; keep_prob = 0.8\n",
    "    \n",
    "    def build_lstm_cell(rnn_size):\n",
    "        lstm = tf.contrib.rnn.BasicLSTMCell(rnn_size)\n",
    "        return lstm\n",
    "\n",
    "    cell = tf.contrib.rnn.MultiRNNCell([build_lstm_cell(rnn_size) for _ in range(lstm_layers)])\n",
    "    initial_state = cell.zero_state(batch_size, tf.float32)\n",
    "    initial_state = tf.identity(initial_state, name=\"initial_state\")\n",
    "    \n",
    "    return (cell, initial_state)\n",
    "\n",
    "\n",
    "\"\"\"\n",
    "DON'T MODIFY ANYTHING IN THIS CELL THAT IS BELOW THIS LINE\n",
    "\"\"\"\n",
    "tests.test_get_init_cell(get_init_cell)"
   ]
  },
  {
   "cell_type": "markdown",
   "metadata": {
    "deletable": true,
    "editable": true
   },
   "source": [
    "### Word Embedding\n",
    "Apply embedding to `input_data` using TensorFlow.  Return the embedded sequence."
   ]
  },
  {
   "cell_type": "code",
   "execution_count": 91,
   "metadata": {
    "collapsed": false,
    "deletable": true,
    "editable": true
   },
   "outputs": [
    {
     "name": "stdout",
     "output_type": "stream",
     "text": [
      "Tests Passed\n"
     ]
    }
   ],
   "source": [
    "def get_embed(input_data, vocab_size, embed_dim):\n",
    "    \"\"\"\n",
    "    Create embedding for <input_data>.\n",
    "    :param input_data: TF placeholder for text input.\n",
    "    :param vocab_size: Number of words in vocabulary.\n",
    "    :param embed_dim: Number of embedding dimensions\n",
    "    :return: Embedded input.\n",
    "    \"\"\"\n",
    "    # TODO: Implement Function\n",
    "    embedding = tf.Variable(tf.random_uniform((vocab_size, embed_dim), -1, 1))\n",
    "    embed = tf.nn.embedding_lookup(embedding, input_data)\n",
    "    return embed\n",
    "\n",
    "\n",
    "\"\"\"\n",
    "DON'T MODIFY ANYTHING IN THIS CELL THAT IS BELOW THIS LINE\n",
    "\"\"\"\n",
    "tests.test_get_embed(get_embed)"
   ]
  },
  {
   "cell_type": "markdown",
   "metadata": {
    "deletable": true,
    "editable": true
   },
   "source": [
    "### Build RNN\n",
    "You created a RNN Cell in the `get_init_cell()` function.  Time to use the cell to create a RNN.\n",
    "- Build the RNN using the [`tf.nn.dynamic_rnn()`](https://www.tensorflow.org/api_docs/python/tf/nn/dynamic_rnn)\n",
    " - Apply the name \"final_state\" to the final state using [`tf.identity()`](https://www.tensorflow.org/api_docs/python/tf/identity)\n",
    "\n",
    "Return the outputs and final_state state in the following tuple `(Outputs, FinalState)` "
   ]
  },
  {
   "cell_type": "code",
   "execution_count": 92,
   "metadata": {
    "collapsed": false,
    "deletable": true,
    "editable": true
   },
   "outputs": [
    {
     "name": "stdout",
     "output_type": "stream",
     "text": [
      "Tests Passed\n"
     ]
    }
   ],
   "source": [
    "def build_rnn(cell, inputs):\n",
    "    \"\"\"\n",
    "    Create a RNN using a RNN Cell\n",
    "    :param cell: RNN Cell\n",
    "    :param inputs: Input text data\n",
    "    :return: Tuple (Outputs, Final State)\n",
    "    \"\"\"\n",
    "    # TODO: Implement Function\n",
    "    outputs, final_state = tf.nn.dynamic_rnn(cell, inputs, dtype=tf.float32)\n",
    "    final_state = tf.identity(final_state, 'final_state')\n",
    "    \n",
    "    return (outputs, final_state)\n",
    "\n",
    "\n",
    "\"\"\"\n",
    "DON'T MODIFY ANYTHING IN THIS CELL THAT IS BELOW THIS LINE\n",
    "\"\"\"\n",
    "tests.test_build_rnn(build_rnn)"
   ]
  },
  {
   "cell_type": "markdown",
   "metadata": {
    "deletable": true,
    "editable": true
   },
   "source": [
    "### Build the Neural Network\n",
    "Apply the functions you implemented above to:\n",
    "- Apply embedding to `input_data` using your `get_embed(input_data, vocab_size, embed_dim)` function.\n",
    "- Build RNN using `cell` and your `build_rnn(cell, inputs)` function.\n",
    "- Apply a fully connected layer with a linear activation and `vocab_size` as the number of outputs.\n",
    "\n",
    "Return the logits and final state in the following tuple (Logits, FinalState) "
   ]
  },
  {
   "cell_type": "code",
   "execution_count": 93,
   "metadata": {
    "collapsed": false,
    "deletable": true,
    "editable": true
   },
   "outputs": [
    {
     "name": "stdout",
     "output_type": "stream",
     "text": [
      "Tests Passed\n"
     ]
    }
   ],
   "source": [
    "def build_nn(cell, rnn_size, input_data, vocab_size, embed_dim):\n",
    "    \"\"\"\n",
    "    Build part of the neural network\n",
    "    :param cell: RNN cell\n",
    "    :param rnn_size: Size of rnns\n",
    "    :param input_data: Input data\n",
    "    :param vocab_size: Vocabulary size\n",
    "    :param embed_dim: Number of embedding dimensions\n",
    "    :return: Tuple (Logits, FinalState)\n",
    "    \"\"\"\n",
    "    # TODO: Implement Function\n",
    "    embed = get_embed(input_data, vocab_size, embed_dim)\n",
    "    outputs, final_state = build_rnn(cell, embed)\n",
    "    logits = tf.contrib.layers.fully_connected(outputs, vocab_size, activation_fn=None)\n",
    "    \n",
    "    return (logits, final_state)\n",
    "\n",
    "\n",
    "\"\"\"\n",
    "DON'T MODIFY ANYTHING IN THIS CELL THAT IS BELOW THIS LINE\n",
    "\"\"\"\n",
    "tests.test_build_nn(build_nn)"
   ]
  },
  {
   "cell_type": "markdown",
   "metadata": {
    "deletable": true,
    "editable": true
   },
   "source": [
    "### Batches\n",
    "Implement `get_batches` to create batches of input and targets using `int_text`.  The batches should be a Numpy array with the shape `(number of batches, 2, batch size, sequence length)`. Each batch contains two elements:\n",
    "- The first element is a single batch of **input** with the shape `[batch size, sequence length]`\n",
    "- The second element is a single batch of **targets** with the shape `[batch size, sequence length]`\n",
    "\n",
    "If you can't fill the last batch with enough data, drop the last batch.\n",
    "\n",
    "For example, `get_batches([1, 2, 3, 4, 5, 6, 7, 8, 9, 10, 11, 12, 13, 14, 15, 16, 17, 18, 19, 20], 3, 2)` would return a Numpy array of the following:\n",
    "```\n",
    "[\n",
    "  # First Batch\n",
    "  [\n",
    "    # Batch of Input\n",
    "    [[ 1  2], [ 7  8], [13 14]]\n",
    "    # Batch of targets\n",
    "    [[ 2  3], [ 8  9], [14 15]]\n",
    "  ]\n",
    "\n",
    "  # Second Batch\n",
    "  [\n",
    "    # Batch of Input\n",
    "    [[ 3  4], [ 9 10], [15 16]]\n",
    "    # Batch of targets\n",
    "    [[ 4  5], [10 11], [16 17]]\n",
    "  ]\n",
    "\n",
    "  # Third Batch\n",
    "  [\n",
    "    # Batch of Input\n",
    "    [[ 5  6], [11 12], [17 18]]\n",
    "    # Batch of targets\n",
    "    [[ 6  7], [12 13], [18  1]]\n",
    "  ]\n",
    "]\n",
    "```\n",
    "\n",
    "Notice that the last target value in the last batch is the first input value of the first batch. In this case, `1`. This is a common technique used when creating sequence batches, although it is rather unintuitive."
   ]
  },
  {
   "cell_type": "code",
   "execution_count": 94,
   "metadata": {
    "collapsed": false,
    "deletable": true,
    "editable": true
   },
   "outputs": [
    {
     "name": "stdout",
     "output_type": "stream",
     "text": [
      "Tests Passed\n"
     ]
    }
   ],
   "source": [
    "def get_batches(int_text, batch_size, seq_length):\n",
    "    \"\"\"\n",
    "    Return batches of input and target\n",
    "    :param int_text: Text with the words replaced by their ids\n",
    "    :param batch_size: The size of batch\n",
    "    :param seq_length: The length of sequence\n",
    "    :return: Batches as a Numpy array\n",
    "    \"\"\"\n",
    "    # TODO: Implement Function\n",
    "    slice_size = batch_size * seq_length\n",
    "    n_batches = int(len(int_text) / slice_size)\n",
    "    \n",
    "    # Drop the last few characters to make only full batches\n",
    "    x_data = np.array(int_text[: n_batches*slice_size])\n",
    "    y_data = np.array(int_text[1: n_batches*slice_size + 1])\n",
    "    \n",
    "    # Handle the wrap-around for the last target\n",
    "    y_data[-1] = x_data[0]\n",
    "    \n",
    "    # Split the data into batch_size slices, then stack them into a 2D matrix \n",
    "    x = np.split(x_data.reshape(batch_size, -1), n_batches, 1)\n",
    "    y = np.split(y_data.reshape(batch_size, -1), n_batches, 1)\n",
    "\n",
    "    batches = np.array(list(zip(x, y)))  \n",
    "    \n",
    "    return batches\n",
    "\n",
    "\n",
    "\"\"\"\n",
    "DON'T MODIFY ANYTHING IN THIS CELL THAT IS BELOW THIS LINE\n",
    "\"\"\"\n",
    "tests.test_get_batches(get_batches)"
   ]
  },
  {
   "cell_type": "markdown",
   "metadata": {
    "deletable": true,
    "editable": true
   },
   "source": [
    "## Neural Network Training\n",
    "### Hyperparameters\n",
    "Tune the following parameters:\n",
    "\n",
    "- Set `num_epochs` to the number of epochs.\n",
    "- Set `batch_size` to the batch size.\n",
    "- Set `rnn_size` to the size of the RNNs.\n",
    "- Set `embed_dim` to the size of the embedding.\n",
    "- Set `seq_length` to the length of sequence.\n",
    "- Set `learning_rate` to the learning rate.\n",
    "- Set `show_every_n_batches` to the number of batches the neural network should print progress."
   ]
  },
  {
   "cell_type": "code",
   "execution_count": 95,
   "metadata": {
    "collapsed": true,
    "deletable": true,
    "editable": true
   },
   "outputs": [],
   "source": [
    "# Number of Epochs\n",
    "num_epochs = 100\n",
    "# Batch Size\n",
    "batch_size = 256\n",
    "# RNN Size\n",
    "rnn_size = 512\n",
    "# Embedding Dimension Size\n",
    "embed_dim = 200\n",
    "# Sequence Length\n",
    "seq_length = 30\n",
    "# Learning Rate\n",
    "learning_rate = 0.001\n",
    "# Show stats for every n number of batches\n",
    "show_every_n_batches = 30\n",
    "\n",
    "\"\"\"\n",
    "DON'T MODIFY ANYTHING IN THIS CELL THAT IS BELOW THIS LINE\n",
    "\"\"\"\n",
    "save_dir = './save'"
   ]
  },
  {
   "cell_type": "markdown",
   "metadata": {
    "deletable": true,
    "editable": true
   },
   "source": [
    "### Build the Graph\n",
    "Build the graph using the neural network you implemented."
   ]
  },
  {
   "cell_type": "code",
   "execution_count": 99,
   "metadata": {
    "collapsed": false,
    "deletable": true,
    "editable": true
   },
   "outputs": [],
   "source": [
    "\"\"\"\n",
    "DON'T MODIFY ANYTHING IN THIS CELL\n",
    "\"\"\"\n",
    "from tensorflow.contrib import seq2seq\n",
    "\n",
    "train_graph = tf.Graph()\n",
    "with train_graph.as_default():\n",
    "    vocab_size = len(int_to_vocab)\n",
    "    input_text, targets, lr = get_inputs()\n",
    "    input_data_shape = tf.shape(input_text)\n",
    "    cell, initial_state = get_init_cell(input_data_shape[0], rnn_size)\n",
    "    logits, final_state = build_nn(cell, rnn_size, input_text, vocab_size, embed_dim)\n",
    "\n",
    "    # Probabilities for generating words\n",
    "    probs = tf.nn.softmax(logits, name='probs')\n",
    "\n",
    "    # Loss function\n",
    "    cost = seq2seq.sequence_loss(\n",
    "        logits,\n",
    "        targets,\n",
    "        tf.ones([input_data_shape[0], input_data_shape[1]]))\n",
    "\n",
    "    # Optimizer\n",
    "    optimizer = tf.train.AdamOptimizer(lr)\n",
    "\n",
    "    # Gradient Clipping\n",
    "    gradients = optimizer.compute_gradients(cost)\n",
    "    capped_gradients = [(tf.clip_by_value(grad, -1., 1.), var) for grad, var in gradients if grad is not None]\n",
    "    train_op = optimizer.apply_gradients(capped_gradients)\n"
   ]
  },
  {
   "cell_type": "markdown",
   "metadata": {
    "deletable": true,
    "editable": true
   },
   "source": [
    "## Train\n",
    "Train the neural network on the preprocessed data.  If you have a hard time getting a good loss, check the [forums](https://discussions.udacity.com/) to see if anyone is having the same problem."
   ]
  },
  {
   "cell_type": "code",
   "execution_count": 101,
   "metadata": {
    "collapsed": false,
    "deletable": true,
    "editable": true
   },
   "outputs": [
    {
     "name": "stdout",
     "output_type": "stream",
     "text": [
      "6775\n",
      "Epoch   0 Batch    0/8   train_loss = 8.821\n",
      "6780\n"
     ]
    },
    {
     "ename": "InvalidArgumentError",
     "evalue": "Received a label value of 6780 which is outside the valid range of [0, 6780).  Label values: 1242 1 2 10 4 122 180 5 392 29 3 96 278 1 4 14 619 5 1042 1242 1 1042 1242 1 30 3 177 723 304 1042 6 559 1 2 42 60 38 69 1 7 473 48 5475 12 4003 176 1 2 42 43 6 315 115 823 1799 8 5501 2862 57 83 3 6 5760 3 17 4854 3 263 1 2 13 114 18 246 11 2 42 25 12 395 86 3 170 7 11 2 42 208 9 2 319 3 671 11 2 13 6 711 315 541 980 911 9 2 990 4 5342 5 7 531 14 44 19 711 1 2 13 32 3 22 10 117 3 357 23 883 1 171 361 57 5565 15 451 622 1 8 65 3 72 18 539 26 6 1480 520 455 315 541 33 61 511 28 21 1 2 10 87 3 110 47 8 109 146 50 12 695 16 21 511 2250 21 11 2 13 30 31 3 8 55 211 3800 4895 1 2 42 232 3 18 103 601 1 2 935 4 5471 5 96 44 73 1 2 13 31 3 7 525 304 6 185 24 2 756 7 2429 14 121 17 5087 3761 602 1 2 10 7 40 27 4574 3 296 1 62 2740 1 2 756 8 2151 2487 24 1 323 12 496 1222 354 40 19 1 2 10 4 14 1563 5 25 149 3 41 6 412 1284 4239 36 22 1 2 6319 4 14 31 3 7 39 212 12 680 1566 389 605 6 1309 1 264 517 3 410 520 3 60 17 4898 1 7 632 39 469 17 316 68 6 2 10 4 122 180 5 173 340 1 31 996 1 2 148 4 122 180 5 59 231 3 25 226 26 12 737 1 1173 1 230 867 5 4 314 5 60 172 9 30 3 135 8 579 19 196 597 8 374 14 579 26 22 11 2 148 4 12 89 1285 5 62 460 639 11 2 294 1 349 231 1 2 13 87 3 221 5727 1 43 141 22 356 8 24 3 233 27 145 153 1838 8 83 23 145 72 8 93 2622 4852 20 27 1094 86 11 4 5606 5 99 55 14 56 17 826 73 9 2 2 2 10 173 340 87 3 111 718 711 1 2 10 45 8 78 3 28 1 12 305 15 3413 389 1 2 13 4 3731 5 7 374 14 459 6 35 11 420 19 1 2 13 7 138 6 663 1617 16 38 3 12 89 272 84 98 431 4614 15 7 1412 18 1 2 1471 51 2 491 78 9 78 9 78 9 78 9 78 9 1111 9 9 2 6510 49 12 1755 26 4287 2301 5024 9 218 783 177 880 6 1 219 26 1615 22 949 1 2 42 33 373 1 4 14 382 5 51 3 51 3 72 18 299 89 287 1 4 3338 1963 5003 269 5637 9 2 13 4 253 5 1343 2715 249 8 97 52 254 70 97 52 254 70 97 52 254 1 1 1 32 1343 2715 1 317 12 1368 1247 1 2 13 1549 9 1368 1247 1 133 40 214 16 169 1 19 1429 54 61 16 12 324 1 2 1106 28 3 1 1 1 33 1 2 13 71 75 8 3 132 11 2 42 63 26 12 626 4 922 5 1 2 13 4 560 5 7 143 1 155 2257 389 14 6387 1 2 13 30 3 132 3 158 8 162 22 2257 393 26 24 3803 726 11 2 42 130 9 2 13 3 47 577 211 82 237 25 478 1 2 42 4 1155 88 271 5 35 324 16 1720 216 53 8 121 22 26 11 4 507 5 794 5 7 95 749 53 39 447 1 2 10 4 14 132 5 2614 6762 11 710 8 56 113 11 2 42 178 3 363 106 522 31 67 76 27 412 5941 1 21 2 42 4 876 12 89 2116 5 2417 456 9 2 10 32 3 166 3 33 1 2 2 2 3 997 602 6241 5157 1 135 8 107 40 14 2620 29 12 486 6 5935 634 11 2 5253 4 1692 5 130 67 72 8 56 146 14 308 8 266 1 2 148 60 745 3 486 1 2 136 137 371 4632 16 6 2442 3965 1 2 290 4 498 5 35 9 11 631 17 1650 1331 2381 9 2 860 28 3 25 12 3386 1431 3 15 7 101 14 1046 27 843 1 2 13 103 11 2 860 37 1299 1 2 204 4 285 5 17 1299 1 1 1 1 2 616 4 1093 5 132 767 3 600 94 9 132 767 3 600 94 9 2538 20 12 3533 2993 1 2 10 45 8 78 1 2 2 2 136 58 65 62 6 61 516 24 1 43 1437 18 128 118 137 8 48 701 20 5988 1 21 2 13 132 1 19 23 43 2236 1 71 114 8 97 50 36 19 11 2 42 18 54 29 61 1 278 36 6 1315 3 7 48 12 6717 1 7 48 12 3066 1 2 1398 4 2198 5 178 3 186 121 729 16 236 1 2 786 17 430 633 1 2 74 33 3 33 3 33 1 33 3 356 27 575 35 1610 3601 5953 23 1 2 13 1304 1 1 1 105 5085 26 6 803 8 57 837 1 8 143 150 6334 3 125 4248 1 45 3 282 17 803 1 2 74 33 1 1 1 33 3 130 134 3 174 1 2 10 291 9 291 9 238 9 291 9 12 1425 20 6 497 1688 1 4 314 5 172 1869 3 748 25 724 27 3301 123 76 3877 1 6226 1 2 10 15 25 2509 27 802 597 52 16 6 3980 702 1 2 13 4 507 5 21 14 465 27 1184 20 2842 1 2 13 4 226 68 88 1184 5 1921 3 31 3 7 282 189 38 6 115 1 473 8 39 2055 3 7 1198 40 24 1335 1 2 10 4 2073 5 32 3 85 799 210 3 178 11 8 65 58 987 27 720 20 280 593 131 80 57 934 607 20 45 9 2 4246 25 2083 151 492 1216 4147 20 6 662 1 2 2782 38 69 3 263 52 9 90 325 90 1 1 1 60 17 638 111 1 1 1 111 1 1 1 238 3 238 3 8 1662 17 638 9 2 4950 524 9 2 3495 32 46 206 3 41 31 3 6 1129 1 6 1129 9 2 10 4 317 20 261 5 37 1 339 2007 1 60 144 6 140 393 57 2 42 51 3 102 68 6 1460 1149 3 31 1 8 190 55 146 1 2 10 4 3752 50 5 37 1 37 3 8 65 3 3198 4 1101 5 2752 1 2 13 4 286 5 51 3 62 1233 1 49 371 621 1 17 266 57 660 2841 144 223 1051 23 1 10 32 3 43 62 226 26 12 188 1 424 3 178 11 230 203 3 2823 3 23 18 11 4 1071 6210 5 222 14 22 3 1 1 17 1 1 1 166 9 1 1 1 2 2913 82 2345 1 39 467 45 67 4 1124 5 32 3 33 3 49 8 9 1 32 3 60 59 3 26 6 3598 2696 3789 1 4 275 5 27 3007 3300 2485 389 1 2 42 51 3 4226 7 55 23 131 2 13 4 190 2124 5 6 134 23 67 2332 9 67 287 103 477 19 2679 15 67 5091 9 2 4974 30 3 5414 351 36 24 86 378 14 1361 239 61 16 27 6306 11 2 13 231 9 2 10 15 57 8 86 378 14 722 12 984 3 191 6 1426 6068 704 9 142 693 90 1288 15 90 2142 90 2067 700 3 15 77 241 39 40 100 3 105 1 2 10 37 3 77 54 17 2703 1 81 47 141 8 282 19 33 125 1 2 10 64 3 33 319 71 179 77 1201 8 3 8 47 53 331 3 87 11 8 2130 12 4375 606 3458 84 1581 44 1680 123 1 2 10 4 1884 5 28 11 8 101 28 14 488 1229 11 2 827 51 3 6 11 23 77 235 2102 11 2 10 4 5841 5 59 3 8 65 35 11 25 79 48 14 278 29 19 1 1 1 2 13 51 11 21 4 314 5 21 66 7 2689 12 460 11 21 4 190 946 5 133 27 673 29 6 617 1 2 505 78 1387 3 28 855 641 2520 29 12 2088 3770 16 2270 1 2 2 2 13 293 11 2 13 30 3 132 9 1022 2595 9 141 22 264 8 12 12 1 589 1 186 78 195 15 564 91 2763 115 36 6 266 1 2 10 39 12 626 3 28 3 8 120 121 12 5417 1361 3 28 1 2 13 219 3 31 1 2 10 4 5485 5 206 3 28 1 8 65 27 2849 33 83 45 1 2 10 30 3 105 571 75 126 5063 4893 1 2 244 6 1394 945 21 97 225 9 21 2 2 2 13 1 1 1 15 6 1653 2395 4390 54 1120 3 38 6 1555 1901 20 6 280 249 343 100 73 1 92 8 39 1251 73 15 380 6 3074 1758 20 9 2 13 4 2996 1 90 914 90 18 23 14 332 3 91 171 47 404 26 22 3 2687 1 2 13 4 1155 271 5 33 3 7 249 1554 19 1 4 286 5 25 43 4265 1490 1 2 350 117 3 469 27 4802 3 111 140 493 9 2 10 4 226 192 5 6014 1 1 5278 1054 1 2 2 2 13 132 3 400 17 224 11 9 9 2 2 2 350 92 2090 18 1 7 101 8 14 2806 6 315 5 6229 1 5667 1 4140 1 5974 31 1 2 1183 4 994 5 35 11 2 10 4 1328 5 21 78 2299 31 1 21 167 116 10 37 3 7 65 3 7 65 1 41 6 221 753 23 58 120 567 981 1103 1182 1 2 10 537 3813 6 928 157 81 431 6 1103 1711 1795 1 1 1 64 3 84 359 14 365 11 9 2 10 209 18 3 28 3 6 224 23 478 1 132 170 94 14 813 52 1 2 10 117 3 149 28 3 99 106 2171 24 2700 26 248 1 25 804 79 104 4662 1331 1 2 13 32 3 503 1 2 244 4 436 591 3 92 253 6365 5 21 51 3 25 602 5946 70 278 18 15 104 70 99 55 12 1676 16 12 62 288 31 1 2 42 28 3 102 9 27 320 23 29 207 9 2 13 4 1509 5 8 121 19 73 3 132 9 2 10 12 89 638 1 2 10 43 24 54 38 12 1552 1 4 566 5 15 29 687 1 2 42 37 1 1699 364 44 1551 20 88 21 16 85 3802 624 1 1 1 2 290 15 96 139 111 532 629 3 7 53 63 332 3956 2821 135 509 68 1847 3381 9 2 11 2 4470 7 326 43 1 2 2701 4 2484 5 7 261 7 212 352 1025 20 3653 1 2 34 4 14 28 5 7 862 12 55 14 65 197 1 15 25 1089 3968 3 6 409 23 6 4341 16 2936 1 60 409 1 2 616 1595 9 789 1 2 290 159 2494 1 70 409 4 613 925 5 409 4 613 925 5 2 909 1 554 815 16 6 1432 20 2412 1439 1 70 3499 6107 57 12 559 50 36 12 649 4103 40 22 1 2 13 64 3 64 3 7 249 322 16 18 3 31 1 62 12 2675 1014 1 2 10 1252 170 79 187 792 192 36 33 649 2907 1 2 13 206 3 97 29 3 31 1 95 16 38 8 48 14 1270 6594 145 1 35 119 135 116 1 2 74 28 3 7 5344 8 577 19 224 1 2 13 4 2484 5 96 53 18 9 2 10 87 3 307 128 328 645 6026 1 7 269 1627 1252 6 250 176 1 2 13 62 12 2820 3 31 1 38 27 6230 158 609 44 151 26 12 36 236 3 411 197 20 6 112 1 92 58 829 91 4613 192 1 40 43 1 1 1 2 795 37 3 135 8 475 22 17 4 1593 5 6 470 9 2 10 32 3 28 3 7 106 6 971 1131 937 1 66 8 153 2729 22 11 2 13 2655 3 7 10 43 174 3 229 116 8 647 12 3867 52 16 6 1925 633 15 77 5868 111 61 345 1 1417 18 44 11 2 34 785 3 2 13 175 1 41 230 7 143 14 322 75 91 245 3954 14 56 22 6493 50 1 2 46 8 182 40 6 115 8 54 1160 45 1 8 120 95 914 15 97 50 36 12 3689 19 4428 14 38 6 2480 5326 52 80 1 2 13 4 1030 591 5 93 292 37 3 37 3 37 3 172 764 3 174 1 41 307 61 60 163 125 3792 1 334 1541 12 115 80 54 12 86 1132 3750 1860 3847 24 648 1 2 13 277 27 6385 1570 3 470 2835 1 25 79 3 40 3 1079 4564 8 1 2 10 51 3 4250 12 2526 93 1 7 2228 7 379 1 2 10 4 2464 199 5 206 3 37 69 1 8 170 304 372 1 2 42 235 83 61 3 31 1388 1 2179 1388 1 2 46 562 1 6 661 23 3 36 155 61 2592 3 8 249 44 1363 14 152 405 298 33 125 1 2 54 36 6 972 11 2 10 1749 128 3 4340 1 56 52 16 80 9 189 1783 57 6653 26 6 972 15 88 4721 1 2 10 75 14 109 1553 1 211 1826 11 2 13 4 5706 2244 5 32 3 49 12 172 1810 3 932 1 1 1 94 466 50 326 1 17 2243 1 2 13 394 9 2243 9 2 2 2 2785 6 1401 14 6 485 624 23 325 15 2808 1 7 182 3 108 8 95 3 31 1 187 97 36 22 15 5137 14 6 485 624 11 2 10 4 448 5 32 3 1118 1 17 802 2597 20 6408 6 4 536 3 399 1 2 160 64 35 48 8 368 3 313 11 2 977 7 54 6316 6 1381 26 1603 1795 1 2 160 49 1603 26 9 1473 9 2 34 547 3 35 85 1450 1 2 46 32 86 3 147 77 79 53 26 85 5714 11 2 10 238 1 7 47 2333 5 70 37 9 70 37 3 62 69 9 70 30 9 70 37 9 2 42 4 1207 2065 390 5 30 1 2 34 4 1207 5319 390 5 2 42 30 3 31 3 66 7 408 36 12 2161 11 2 10 37 3 270 398 80 3 6481 1 2 2 2 13 2753 1 4 1575 199 5 2 2549 27 3835 16 12 4438 5448 23 3486 3 28 1 7 632 48 14 577 18 1 2 13 232 1 1 2 204 4 3688 5 664 3 202 9 62 1727 22 1 2 694 33 3 25 63 1 4 92 14 31 3 367 5 544 1170 781 921 1 4 253 14 895 16 21 124 4084 21 5 781 921 1 1 1 2 13 4 253 5 403 3 781 921 1 1 1 14 449 5 20 2900 26 6 140 360 3 251 1868 177 1076 3431 1676 1 4 947 312 3 92 699 383 5 2 13 394 456 9 3 6 2127 1 334 8 56 1357 2594 52 3 133 33 2274 68 38 1 60 144 81 2638 6 3250 488 1 2 13 4 314 5 7 103 19 550 11 2 46 4 766 5 31 3 49 38 4910 1 23 174 103 19 870 11 23 132 19 216 11 23 28 19 29 207 201 1590 1 2 10 872 1003 3 165 11 1 1 1 4 433 68 209 5 117 3 175 81 98 1876 2602 5611 45 15 13 25 149 75 27 209 3 31 1 2 10 381 3 49 39 90 51 1 19 1048 209 54 270 3 41 18 54 105 179 4112 7 329 14 6 1088 3 21 33 3 62 1145 407 6 3019 1 1 1 16 1376 12 1338 1 21 2 10 30 3 132 1 147 831 19 108 58 450 3 133 184 14 44 12 1924 26 6 1049 3 12 1924 26 6 1753 3 15 537 38 44 12 306 806 1 11 2 10 4 314 5 1060 44 38 21 102 68 22 9 25 12 2847 493 20 12 1546 9 21 2 10 4 1487 5 117 3 11 2 42 4 5549 123 5 7 65 3 41 49 43 914 1 202 198 22 3 28 1 2 13 8 453 14 6 69 129 1 13 51 3 72 18 299 89 679 21 25 63 1742 17 176 637 1 21 4 3128 5 295 77 23 1 2 42 4 6102 12 1 132 3 8 120 1739 146 50 80 15 426 17 266 9 2 42 7 93 1 99 94 4907 2266 9 2 13 132 1 1 1 2 299 90 406 90 161 830 1 761 23 3 161 6457 4745 2934 1 2 46 6 1797 191 44 4815 1 7 345 188 1 1011 181 45 1 7 55 12 1422 1433 167 2429 14 269 6533 1 839 3 4430 1433 1 2 2624 43 1289 1 2 13 4 14 581 3 1890 5 60 22 9 2 13 336 19 9 6 474 1872 135 44 3668 1 2 2954 47 139 22 71 14 252 1 2 13 43 8 38 459 2 13 3757 6524 11 71 66 7 1169 11 2 10 620 1 2 2 2 34 56 100 9 2 10 15 603 52 9 2 10 56 64 142 5079 29 662 3061 1 2 46 4 1793 5 30 3 81 269 146 680 20 6 1664 3 425 9 2 817 23 80 12 761 2 2 2 13 941 3 31 9 119 524 128 17 1006 9 2 10 33 373 1 39 642 6 835 4661 20 6 1193 6536 1 864 53 3 5424 1 99 55 85 2014 1457 12 832 1 2 160 4 448 5 627 3 39 40 29 21 4497 6259 1 21 137 1139 14 21 2 74 32 3 142 29 6 639 86 843 225 1 347 3 363 55 5270 115 1 2 160 27 3430 23 14 256 6 3332 2201 1 2 148 25 836 15 814 1 2 13 60 17 89 3515 1 2 148 347 3 255 1 229 78 1 2 13 30 3 1437 18 13 547 31 3 193 106 12 333 1483 1728 1 2 10 8 121 19 73 1 2 13 64 3 111 104 3 60 35 25 528 75 1312 1 2 46 388 3 59 3 108 8 300 75 19 455 3 27 259 4439 36 3 59 1 1 1 35 53 8 220 18 11 138 14 78 1 2 13 86 3 6535 6 205 115 31 1098 24 11 2 46 30 3 28 9 235 218 9 2 34 30 28 3 13 7 47 56 18 1 2 148 4 636 3 2079 5 2231 52 21 96 509 12 5078 1 21 2 13 147 6 1839 11 2 148 1130 1194 4324 1 2 10 693 1 2 13 25 149 7 678 8 3 31 1 2 10 117 3 60 87 1 49 40 17 255 288 12 21 112 1 21 49 144 7 78 14 152 21 499 3 21 295 23 6 3494 2920 16 27 2283 1 2 5700 4 699 5 28 6 417 3824 12 86 98 3639 14 88 209 23 2511 1 2 46 8 1086 6 1292 11 2 34 8 65 7 127 1 2 46 38 218 1 2 377 87 3 5652 1 35 3349 3 2475 268 1622 612 3 23 212 76 5491 15 3641 11 2 34 71 75 21 1622 2730 324 58 2929 3133 48 106 3134 268 6 4677 1 2 46 30 3 35 57 8 397 20 45 11 2 1786 4 38 357 5 25 85 4 418 5 60 378 1160 1 2 13 32 107 3 18 54 812 1 7 444 119 1735 12 614 2132 86 1 2 10 117 3 51 7 415 8 7 1661 8 11 2 2744 4 566 199 5 24 241 40 12 316 26 17 2889 3382 1 2 10 43 71 179 8 5006 1 1 1 43 515 3 72 8 121 19 592 123 3 15 927 18 192 67 2 244 4 5636 3 2318 5 7 65 3 7 65 11 2 74 139 19 330 49 151 2176 8 15 113 1 2 244 231 1 230 134 20 6 648 1 7 5821 1 2 10 30 119 413 23 933 1 2 46 273 641 45 7 97 9 2 10 6453 103 198 36 17 4624 2354 9 2 10 4 534 5 7 55 344 174 11 2 34 100 11 2 34 33 157 9 2 13 297 53 90 7 116 118 96 48 27 2275 1 4 2034 5 334 7 109 76 6 1846 1 2 13 30 3 43 57 6 3347 2983 1 4 314 5 67 4 506 199 5 2 545 1660 6 1652 3 41 99 759 43 1 2 13 15 8 66 553 36 19 1 2 10 3459 1 2 13 447 1 80 57 2859 16 245 2781 26 22 14 6780 4 5811 5 30 3 8 101 17 582 11 2 13 56 197 64 3 1059 1 4 2467 301 5 2 13 43 325 3 1059 1 4 185 609 1 7 103 48 14 78 14 6 2386 15 25 52 16 6252 1 2 42 8 65 3 7 443 16 12 164 5919 276 144 113 1 2 10 117 3 51 3 2546 7 120 65 150 75 12 1047 3 7 282 24 129 1 2 10 24 4134 23 5798 1 77 2 10 59 3 222 119 3 71 66 7 213 24 6061 11 7 47 55 378 470 20 24 185 14 109 8 102 83 1 2 74 16 1359 1796 1 21 15 33 61 153 158 1 2 10 117 3 176 23 83 1 2 34 30 3 35 318 11 49 1460 20 6 11 30 3 131 818 715 161 138 12 6741 2506 1 2 772 8 411 22 762 45 38 682 1 1 1 2 772 4 1117 5 1 11 2 13 125 40 3 144 168 7 256 18 1 18 54 6572 3028 1 2 74 28 3 25 149 8 444 19 3 41 7 54 2 10 4 738 5 3614 3 4640 3 5272 3 2682 3 569 271 1 1 1 2 1295 15 3 7 374 14 3447 407 6 203 21 13 8 65 3 7 252 327 83 1 175 7 191 39 269 791 675 16 184 122 12 4302 3 4490 112 1 2 10 56 20 45 6 648 15 6 112 23 1038 1 2 234 25 553 68 251 5781 4305 3 144 137 692 323 76 6 3307 16 6 4356 2032 1436 3 11 7 525 304 8 268 8 181 24 520 1 2 46 4 5628 5 7 66 1818 128 6 520 1767 9 2 2832 4 766 5 293 35 114 8 888 14 56 27 243 3 28 11 2 13 4 1314 5 189 2290 1317 2025 19 453 20 6 2608 1 2 13 4 216 70 25 52 1 70 25 368 1 2 13 4 1976 5 96 104 27 713 1651 15 2462 8 61 1222 1 2 502 51 3 25 52 368 6 134 19 110 62 45 26 1 25 528 4097 45 1 2 502 4 1223 5 38 69 3 7 944 18 1 7 114 770 1494 670 269 27 4215 6760 29 3 1007 1 99 304 8 56 442 105 369 612 1 2 734 25 63 79 141 100 122 17 575 3 118 2626 247 1 2 10 400 27 243 254 3 28 11 2 13 376 63 536 637 1 2 10 35 11 49 215 16 113 7 213 20 16 8 171 11 2 46 137 27 5196 9 64 97 29 3 338 1643 901 3 48 12 82 9 2 204 7 93 67 7 265 44 1 472 421 1009 1 2 34 4 1155 271 5 63 24 225 1 2 46 231 3 24 225 9 2 204 8 65 3 28 3 401 17 3277 1 2 5594 4 1645 6415 259 5 152 118 96 450 1 2 13 159 12 279 1 7 261 8 168 187 56 623 1 2 2 10 28 1 1 1 24 2739 155 26 333 5233 1 15 171 29 4129 4927 3 40 22 1 35 11 35 57 8 38 522 68 9 2 877 4 1071 1211 5 41 92 144 135 7 78 14 56 323 76 17 243 9 1738 3 31 3 8 406 3 5869 1157 9 3 1166 16 236 429 1 264 2562 12 270 435 1 2 1180 4 2315 5 706 1 1 1 706 1 1 1 4 140 5639 5 2 589 21 23 26 31 3 6 2006 16 173 1 21 773 21 23 26 6 21 773 21 20 6 1879 16 173 1 21 3952 21 23 1266 2078 3 12 5441 1838 118 573 3067 1 2 10 25 39 184 14 220 6 1161 2162 64 1 4 2136 5 15 1404 3248 17 742 173 6 157 18 23 3 38 69 11 15 7 170 2991 18 26 211 1141 3 2496 3 5132 3 118 4065 1 2 74 7 138 12 219 1 2 2642 4 501 310 14 3964 4191 5 1936 16 2194 3 17 543 11 2 1786 51 308 8 3 27 2428 1 8 65 3 32 202 3 63 24 225 1 2 13 771 3 116 217 14 401 1 2 13 4 1278 289 5 6013 1 2 991 4 21 110 63 13 4759 645 821 305 15 5186 1 1 1 713 645 9 2 13 25 327 273 36 24 403 3 64 49 6224 343 1 2 10 32 2087 5 15 17 6740 3 137 355 69 14 6 815 9 4 6246 2377 3633 199 5 208 1 2 568 24 23 61 5408 84 47 40 1 2376 14 415 352 1 4 489 982 5 2 10 147 18 116 11 2 2 2 46 4 1223 5 104 111 609 3 28 1 58 48 14 213 6 210 29 12 6728 14 3682 2081 3 92 96 44 73 14 78 14 1744 9 2 148 4 2765 5 255 3 72 8 3 24 4790 6022 1 97 4495 27 1792 407 18 1 2 46 30 1827 3 863 12 247 144 7 548 2473 4301 15 3245 6363 1 2 284 1 2 10 132 3 71 53 8 269 551 73 20 11 2 42 25 12 216 1 7 47 65 331 75 71 7 53 303 1 51 33 373 1 96 39 564 6 200 20 19 1809 851 6 784 1 2 10 124 138 3292 22 85 1695 6238 1 191 7 1238 24 82 5 27 2037 1649 3 15 6 6264 828 4 433 14 207 5 1 2 46 51 3 23 80 303 20 24 112 60 212 20 998 9 39 47 442 22 9 2 13 4 439 5 87 327 210 3 400 348 6000 713 393 11 2 10 4 814 5 102 3 5419 7 21 6159 9 21 2 10 87 1 2 13 219 3 31 1 71 66 7 153 5834 8 11 2 10 30 3 91 267 182 125 14 108 77 1113 22 14 6 2717 2447 20 6666 11 2 136 4 3266 5 6 2717 2447 11 9 297 548 38 6 172 665 2516 3 31 91 4111 15 67 4 6409 150 5 8 225 11 9 2 13 35 6 309 23 24 134 11 2 2 2 46 35 23 18 3 31 85 1091 26 6364 4313 1 2 10 35 6 11 9 99 106 4130 4294 1516 14 19 11 9 2 1191 41 35 8 240 75 28 49 123 14 1477 274 1404 862 43 179 6023 122 126 871 1 2 34 8 65 84 7 93 586 11 19 5242 4742 1 542 61 115 7 1 2 148 388 31 3 8 162 172 747 1 2 13 4 2533 5 37 1 35 48 8 368 36 6 333 31 11 2 2 2 10 238 3 60 79 1148 111 1 2 13 99 55 5915 2101 25 522 14 1253 3 31 9 2 10 165 11 2 13 4 1328 5 14 6 672 3 7 379 48 2740 5859 45 90 630 399 1 2 160 4 14 4279 5 322 19 3 3530 11 6 972 677 1051 9 1 2 10 15 6 4775 1284 1 1 1 6 6425 16 6 3640 2932 1 2 10 347 3 4989 1 2 10 8 2861 18 36 12 11 9 7 98 94 53 150 40 19 9 4 578 5 98 7 11 2 160 110 47 8 356 6 653 84 5364 6 2378 11 63 2 13 1455 1 1 1 6 155 373 23 3 25 130 14 3017 91 1741 16 536 195 15 1327 709 1 33 967 96 4051 19 90 100 20 11 2 244 8 182 3350 4823 11 2 2731 4 3059 296 259 5 30 9 2 2731 25 69 45 1 2 244 149 1 2 1 187 97 11 2 2203 33 1 2 34 4 2531 5 49 87 3 7 1190 1 2 34 4 14 581 5 2491 522 68 12 1425 57 29 174 1 2 13 4 436 5 7 47 101 27 1119 470 1 96 408 26 18 352 1 2 10 59 3 7 120 278 36 82 9 2 13 544 1 1 1 401 1009 22 14 300 14 8 1 2 204 4211 9 945 58 2812 850 3 118 6 2959 11 2 186 362 321 6 5656 183 77 114 355 20 1 2 34 116 28 3 62 333 83 68 24 1 95 8 98 588 17 1329 2070 26 2164 3 165 11 4 2008 5 1422 5793 5677 14 19 203 1 1 1 4 717 5 25 79 121 18 1 2 10 1000 340 3 283 1112 4499 197 122 917 8 38 223 1433 1 2 13 4 2144 5 7 242 7 48 33 1334 1 2 2 2 10 147 351 36 27 13 4 3048 105 179 5 32 37 3 37 3 60 35 7 1859 105 1 7 48 33 1 1 1 4178 1 1 1 2 10 55 3 8 65 1 1 1 2 34 32 3 69 9 222 3 28 3 532 816 318 73 20 520 455 1 1 1 2 13 4 788 12 5283 3 562 19 23 1 2 234 24 23 932 1146 36 12 740 2050 6559 6 1898 758 1 2 234 503 5560 5468 5836 1 12 2 34 238 3 30 382 9 382 3 382 3 382 9 2 13 4 403 300 5 217 382 1 1 1 217 382 1 2 46 30 1 1 6124 1 2 892 19 54 1600 68 3372 1 7 54 759 434 44 1101 20 6 333 22 1 2 10 57 8 793 22 11 71 135 8 1090 12 653 281 3759 1876 41 59 3 20 91 157 1 1 1 12 89 1216 11 2 34 8 182 40 71 58 1090 51 3 72 99 618 303 76 931 3392 3 23 19 193 55 14 109 12 986 3 3885 4945 3 6 324 19 241 40 18 265 1253 44 17 194 1 1 1 2 13 4 14 283 5 104 3 18 601 1 15 2322 57 39 6 1877 1 133 963 4766 3 3259 3 61 3 1521 6120 5 21 254 6 251 4937 4579 54 6339 20 6 611 16 12 1074 164 882 1 1 1 4 498 5 262 1 2601 1229 11 2 46 4 1002 5 35 11 8 95 39 215 25 790 7 65 38 245 790 171 11 2 13 51 3 7 1 1 1 10 4 2373 732 5 331 1 2 10 4 285 5 39 334 7 345 3058 70 135 2456 73 88 960 70 15 1829 22 12 2600 70 24 82 1 2 74 4 1532 5 18 1714 40 1 1 1 3660 9 70 18 1714 40 481 1305 9 2 74 18 1714 40 602 6062 753 14 162 8 1 2 10 49 12 672 76 28 1 29 17 2501 1 20 17 5005 1 837 17 6141 15 1066 2119 1 15 18 95 3 119 11 158 8 162 31 12 722 11 2 74 178 3 51 1 1 1 2 10 175 8 143 12 89 125 21 916 16 12 5930 593 6501 70 15 92 108 25 1823 3 96 78 311 27 2577 70 41 8 98 53 563 1 1 1 2 74 7 98 53 12 778 11 21 7 443 75 19 20 2709 455 3 41 7 94 304 18 531 1 2 10 32 3 24 23 228 83 26 22 1 911 105 11 7 187 121 12 3922 43 25 4833 26 6 5551 2003 1 2 337 51 1 1 1 25 6176 1 78 1387 1 2 34 15 81 1656 27 228 2723 9 2 13 4 2049 5762 5 238 9 58 1656 27 228 2723 1 2 34 49 3955 1 424 23 64 563 3638 19 6304 5726 819 54 184 14 5888 1 2 13 87 3 175 7 6667 1 41 193 106 43 2627 1 1 1 21 25 1289 3 769 4607 9 4 874 50 769 4960 396 21 1109 27 218 21 5 15 6195 4241 26 27 1099 1 294 1 43 8 66 121 27 6528 1 2 13 4 5865 483 5 70 4 2558 2077 483 5 2 13 38 69 9 38 69 9 2 13 25 355 195 1 49 63 889 2393 994 289 5 37 3 60 660 12 83 61 1 45 3 7 55 532 19 265 1056 111 50 1 2 10 7 55 24 26 1095 5 6 846 1 1 1 2 4959 4 5308 271 20 3 1276 5 6 2185 1 1 1 2 2 2 46 86 3 8 130 987 19 32 37 11 71 628 24 1967 209 11 4 1967 483 5 2 136 7 66 104 19 123 1393 23 12 2292 86 1 2 10 4 286 2 2 136 30 3 255 1 2 13 4 440 5 30 425 3 3488 358 11 2 136 447 1 7 54 1283 8 15 27 284 98 155 5316 154 6 5803 1 4 289 5 53 8 1190 35 7 3897 52 80 11 2 2388 6 5349 14 1501 6 360 23 2178 1 2 2800 1 2 10 4 2845 5 59 222 3 28 67 7 65 12 129 84 4342 267 26 1189 84 143 267 2096 1 41 3 59 3 1 2 188 1 5629 4 230 271 5 1 1 1 391 2570 1 1 1 4 626 271 5 2550 86 1 1 1 4 1052 271 5 50 1 2 10 208 3 278 19 52 9 70 413 23 4474 368 9 70 102 68 236 6681 9 70 15 1 1 1 1823 9 2 2 10 4 840 260 3 92 1391 28 5 336 1605 1569 9 2 1115 536 50 315 29 21 280 16 593 21 1 1 1 2 1115 66 411 211 115 58 101 1 2 46 28 3 110 47 8 39 109 91 125 16 6 5416 405 11 2 13 32 3 274 283 249 2 2001 44 17 1528 1 2 2 2 10 4 1874 5 238 3 12 1583 1 4 1854 180 5 229 104 1 1 1 1583 2438 26 2 13 4 766 5 771 3 8 15 7 57 79 44 1513 183 153 90 58 564 6 1136 16 126 871 2325 19 2355 1 2 262 2 13 758 3 229 524 14 6 2331 1 2 335 37 3 141 22 242 1 62 660 79 53 150 2363 40 398 14 300 22 321 6 227 1 2 13 1094 619 9 14 758 869 15 401 1946 9 2 42 35 12 2867 9 2 46 231 9 14 401 9 2 10 3662 11 21 2 335 51 28 3 8 103 213 61 151 29 196 298 869 3 45 1 4 534 5 219 12 306 3 2004 1 2 2 1719 4 5940 5 586 73 3 28 9 7 65 35 25 397 1 2 34 51 3 58 38 65 35 137 397 1 6 1296 23 28 3 47 428 1 62 68 173 340 67 3695 268 5770 1 2 13 35 6 67 4 2241 5 24 23 12 1752 988 9 2 42 1293 5355 3435 4933 57 607 1 6427 3297 625 14 88 2420 1438 15 81 729 6065 223 6262 54 39 1877 1 6 559 1 21 2 148 9 21 400 6 2010 11 2 545 6 2010 57 64 2225 3 6 3384 2110 23 64 12 1267 3 15 3170 23 64 4263 9 32 9 18 39 55 2060 76 80 1 2 2811 21 554 7 668 18 1392 950 1 515 3 72 62 226 26 27 255 1 77 386 6 266 13 51 25 327 130 18 54 20 80 1673 1 2 727 64 3 141 22 3251 154 3719 31 6 519 26 4826 24 1427 237 810 1589 25 371 975 16 267 40 19 1 2 148 975 16 35 11 7 588 29 8 3 15 8 121 18 67 60 71 2248 601 1 2 1 1812 14 6 1394 16 1379 1 2 2184 137 20 6 1394 16 1379 9 2 555 4 1275 199 5 51 3 19 3703 1 2 555 164 316 11 2 34 233 18 102 40 99 55 12 316 11 2 46 33 3 7 168 1 2 10 28 3 276 12 89 125 5530 9 2 10 2104 9 2 2 2 10 30 3 28 1 7 98 322 27 1720 5624 311 6 541 1 2 13 51 3 110 93 7 106 2827 154 6 134 18 3735 4042 413 9 2 74 7 93 332 137 94 184 14 48 235 1743 1 1 1 4 1733 5 2 34 213 18 20 12 983 4284 26 283 1 2 34 43 400 6 145 64 11 2 13 7 213 18 20 6 989 1 19 185 23 172 2 13 12 2555 6126 23 64 2799 183 85 665 989 1 177 126 1813 3 2520 29 171 2325 274 223 3366 5613 181 105 602 3 97 8 213 27 1792 123 29 223 5765 15 5389 1114 8 322 12 5346 3 1678 1251 50 565 1 2 1185 103 11 62 130 75 24 11 105 1922 1 61 279 62 881 20 27 4311 523 82 3 6 315 134 8 65 62 1018 45 523 82 1 2 377 28 3 27 5472 12 2015 5550 7 66 282 1 2 10 165 1 241 40 62 103 686 532 151 20 27 689 80 3 28 1 2 13 31 3 7 296 1 15 108 25 29 12 465 3 6 1023 23 429 1 2 234 4 2591 5 6 1023 54 12 86 1 88 1806 181 1194 3 21 196 3951 9 21 2 34 4 14 2380 5 147 2298 1 1626 1 773 1 1840 1 11 2 1033 18 735 21 472 6 2833 16 92 7 3788 52 1689 15 29 474 1 2 148 4 2718 5 103 11 2 10 4 717 5 269 17 1214 69 45 20 24 1053 1 2678 9 2 34 872 9 2 46 4 1321 5 110 53 58 288 3862 151 1632 4965 11 2 698 1 1045 8 65 147 103 1241 11 8 1523 421 17 2330 11 2 13 2330 11 4 2264 5 23 19 40 61 16 169 816 3122 2383 267 11 2 698 1 1045 33 3 2 10 1161 1 804 1 25 103 358 18 1 33 125 1367 26 4 5660 5 2653 9 4 950 5 215 24 115 133 33 61 60 1431 1 2 6257 1161 23 6185 70 18 6604 29 369 1910 70 15 7 66 67 2 10 19 1644 18 9 33 125 3026 9 2 10 332 20 674 1 1 1 4 1265 50 5 8 107 3 8 987 22 9 8 53 404 9 2 13 64 159 12 279 1 120 109 60 288 83 26 12 301 1 2 74 33 3 33 3 18 177 14 44 150 140 864 583 88 604 2180 1 4 1675 1021 5 110 7 53 48 24 1985 19 7 2475 352 1 570 615 44 6 227 134 8 153 138 118 6 205 134 297 153 48 1 2 1372 232 14 4056 3 3541 5 63 361 3 196 194 1 41 47 428 3 5585 57 39 192 6 1672 1 2 2 2 10 28 3 7 1647 3 49 115 1 343 18 29 9 343 18 29 9 2 13 344 718 887 26 344 227 284 1 2 10 37 3 7 288 78 36 9 4 260 5 25 43 273 9 4 125 260 5 25 43 273 9 2 13 14 6 227 460 20 6 280 67 145 1 2 13 45 9 7 47 153 101 14 104 19 4891 4457 225 9 2 13 159 12 279 9 5719 4691 20 6 6480 16 1301 5329 9 2 13 4996 76 88 5207 2518 1 2 2 2 13 1915 54 812 361 9 963 3 119 23 20 1352 15 161 168 163 139 22 9 2 10 43 6 2076 57 3 239 115 6 753 129 329 21 1420 3 21 58 120 121 12 152 1 2 34 570 44 270 14 141 292 629 8 1 35 23 6 140 779 11 2 46 4 5388 5 142 397 18 9 142 500 12 272 9 2 34 4 1029 5 884 3 884\n\t [[Node: sequence_loss/SparseSoftmaxCrossEntropyWithLogits/SparseSoftmaxCrossEntropyWithLogits = SparseSoftmaxCrossEntropyWithLogits[T=DT_FLOAT, Tlabels=DT_INT32, _device=\"/job:localhost/replica:0/task:0/device:CPU:0\"](sequence_loss/Reshape, sequence_loss/Reshape_1)]]\n\nCaused by op 'sequence_loss/SparseSoftmaxCrossEntropyWithLogits/SparseSoftmaxCrossEntropyWithLogits', defined at:\n  File \"d:\\software\\mambaforge\\envs\\deep-learning_2\\lib\\runpy.py\", line 193, in _run_module_as_main\n    \"__main__\", mod_spec)\n  File \"d:\\software\\mambaforge\\envs\\deep-learning_2\\lib\\runpy.py\", line 85, in _run_code\n    exec(code, run_globals)\n  File \"d:\\software\\mambaforge\\envs\\deep-learning_2\\lib\\site-packages\\ipykernel\\__main__.py\", line 3, in <module>\n    app.launch_new_instance()\n  File \"d:\\software\\mambaforge\\envs\\deep-learning_2\\lib\\site-packages\\traitlets\\config\\application.py\", line 658, in launch_instance\n    app.start()\n  File \"d:\\software\\mambaforge\\envs\\deep-learning_2\\lib\\site-packages\\ipykernel\\kernelapp.py\", line 474, in start\n    ioloop.IOLoop.instance().start()\n  File \"d:\\software\\mambaforge\\envs\\deep-learning_2\\lib\\site-packages\\zmq\\eventloop\\ioloop.py\", line 177, in start\n    super(ZMQIOLoop, self).start()\n  File \"d:\\software\\mambaforge\\envs\\deep-learning_2\\lib\\site-packages\\tornado\\ioloop.py\", line 887, in start\n    handler_func(fd_obj, events)\n  File \"d:\\software\\mambaforge\\envs\\deep-learning_2\\lib\\site-packages\\tornado\\stack_context.py\", line 275, in null_wrapper\n    return fn(*args, **kwargs)\n  File \"d:\\software\\mambaforge\\envs\\deep-learning_2\\lib\\site-packages\\zmq\\eventloop\\zmqstream.py\", line 440, in _handle_events\n    self._handle_recv()\n  File \"d:\\software\\mambaforge\\envs\\deep-learning_2\\lib\\site-packages\\zmq\\eventloop\\zmqstream.py\", line 472, in _handle_recv\n    self._run_callback(callback, msg)\n  File \"d:\\software\\mambaforge\\envs\\deep-learning_2\\lib\\site-packages\\zmq\\eventloop\\zmqstream.py\", line 414, in _run_callback\n    callback(*args, **kwargs)\n  File \"d:\\software\\mambaforge\\envs\\deep-learning_2\\lib\\site-packages\\tornado\\stack_context.py\", line 275, in null_wrapper\n    return fn(*args, **kwargs)\n  File \"d:\\software\\mambaforge\\envs\\deep-learning_2\\lib\\site-packages\\ipykernel\\kernelbase.py\", line 276, in dispatcher\n    return self.dispatch_shell(stream, msg)\n  File \"d:\\software\\mambaforge\\envs\\deep-learning_2\\lib\\site-packages\\ipykernel\\kernelbase.py\", line 228, in dispatch_shell\n    handler(stream, idents, msg)\n  File \"d:\\software\\mambaforge\\envs\\deep-learning_2\\lib\\site-packages\\ipykernel\\kernelbase.py\", line 390, in execute_request\n    user_expressions, allow_stdin)\n  File \"d:\\software\\mambaforge\\envs\\deep-learning_2\\lib\\site-packages\\ipykernel\\ipkernel.py\", line 196, in do_execute\n    res = shell.run_cell(code, store_history=store_history, silent=silent)\n  File \"d:\\software\\mambaforge\\envs\\deep-learning_2\\lib\\site-packages\\ipykernel\\zmqshell.py\", line 501, in run_cell\n    return super(ZMQInteractiveShell, self).run_cell(*args, **kwargs)\n  File \"d:\\software\\mambaforge\\envs\\deep-learning_2\\lib\\site-packages\\IPython\\core\\interactiveshell.py\", line 2717, in run_cell\n    interactivity=interactivity, compiler=compiler, result=result)\n  File \"d:\\software\\mambaforge\\envs\\deep-learning_2\\lib\\site-packages\\IPython\\core\\interactiveshell.py\", line 2821, in run_ast_nodes\n    if self.run_code(code, result):\n  File \"d:\\software\\mambaforge\\envs\\deep-learning_2\\lib\\site-packages\\IPython\\core\\interactiveshell.py\", line 2881, in run_code\n    exec(code_obj, self.user_global_ns, self.user_ns)\n  File \"<ipython-input-99-a2d9a7091ca5>\", line 21, in <module>\n    tf.ones([input_data_shape[0], input_data_shape[1]]))\n  File \"d:\\software\\mambaforge\\envs\\deep-learning_2\\lib\\site-packages\\tensorflow\\contrib\\seq2seq\\python\\ops\\loss.py\", line 92, in sequence_loss\n    labels=targets, logits=logits_flat)\n  File \"d:\\software\\mambaforge\\envs\\deep-learning_2\\lib\\site-packages\\tensorflow\\python\\ops\\nn_ops.py\", line 1879, in sparse_softmax_cross_entropy_with_logits\n    precise_logits, labels, name=name)\n  File \"d:\\software\\mambaforge\\envs\\deep-learning_2\\lib\\site-packages\\tensorflow\\python\\ops\\gen_nn_ops.py\", line 4546, in _sparse_softmax_cross_entropy_with_logits\n    labels=labels, name=name)\n  File \"d:\\software\\mambaforge\\envs\\deep-learning_2\\lib\\site-packages\\tensorflow\\python\\framework\\op_def_library.py\", line 787, in _apply_op_helper\n    op_def=op_def)\n  File \"d:\\software\\mambaforge\\envs\\deep-learning_2\\lib\\site-packages\\tensorflow\\python\\framework\\ops.py\", line 2956, in create_op\n    op_def=op_def)\n  File \"d:\\software\\mambaforge\\envs\\deep-learning_2\\lib\\site-packages\\tensorflow\\python\\framework\\ops.py\", line 1470, in __init__\n    self._traceback = self._graph._extract_stack()  # pylint: disable=protected-access\n\nInvalidArgumentError (see above for traceback): Received a label value of 6780 which is outside the valid range of [0, 6780).  Label values: 1242 1 2 10 4 122 180 5 392 29 3 96 278 1 4 14 619 5 1042 1242 1 1042 1242 1 30 3 177 723 304 1042 6 559 1 2 42 60 38 69 1 7 473 48 5475 12 4003 176 1 2 42 43 6 315 115 823 1799 8 5501 2862 57 83 3 6 5760 3 17 4854 3 263 1 2 13 114 18 246 11 2 42 25 12 395 86 3 170 7 11 2 42 208 9 2 319 3 671 11 2 13 6 711 315 541 980 911 9 2 990 4 5342 5 7 531 14 44 19 711 1 2 13 32 3 22 10 117 3 357 23 883 1 171 361 57 5565 15 451 622 1 8 65 3 72 18 539 26 6 1480 520 455 315 541 33 61 511 28 21 1 2 10 87 3 110 47 8 109 146 50 12 695 16 21 511 2250 21 11 2 13 30 31 3 8 55 211 3800 4895 1 2 42 232 3 18 103 601 1 2 935 4 5471 5 96 44 73 1 2 13 31 3 7 525 304 6 185 24 2 756 7 2429 14 121 17 5087 3761 602 1 2 10 7 40 27 4574 3 296 1 62 2740 1 2 756 8 2151 2487 24 1 323 12 496 1222 354 40 19 1 2 10 4 14 1563 5 25 149 3 41 6 412 1284 4239 36 22 1 2 6319 4 14 31 3 7 39 212 12 680 1566 389 605 6 1309 1 264 517 3 410 520 3 60 17 4898 1 7 632 39 469 17 316 68 6 2 10 4 122 180 5 173 340 1 31 996 1 2 148 4 122 180 5 59 231 3 25 226 26 12 737 1 1173 1 230 867 5 4 314 5 60 172 9 30 3 135 8 579 19 196 597 8 374 14 579 26 22 11 2 148 4 12 89 1285 5 62 460 639 11 2 294 1 349 231 1 2 13 87 3 221 5727 1 43 141 22 356 8 24 3 233 27 145 153 1838 8 83 23 145 72 8 93 2622 4852 20 27 1094 86 11 4 5606 5 99 55 14 56 17 826 73 9 2 2 2 10 173 340 87 3 111 718 711 1 2 10 45 8 78 3 28 1 12 305 15 3413 389 1 2 13 4 3731 5 7 374 14 459 6 35 11 420 19 1 2 13 7 138 6 663 1617 16 38 3 12 89 272 84 98 431 4614 15 7 1412 18 1 2 1471 51 2 491 78 9 78 9 78 9 78 9 78 9 1111 9 9 2 6510 49 12 1755 26 4287 2301 5024 9 218 783 177 880 6 1 219 26 1615 22 949 1 2 42 33 373 1 4 14 382 5 51 3 51 3 72 18 299 89 287 1 4 3338 1963 5003 269 5637 9 2 13 4 253 5 1343 2715 249 8 97 52 254 70 97 52 254 70 97 52 254 1 1 1 32 1343 2715 1 317 12 1368 1247 1 2 13 1549 9 1368 1247 1 133 40 214 16 169 1 19 1429 54 61 16 12 324 1 2 1106 28 3 1 1 1 33 1 2 13 71 75 8 3 132 11 2 42 63 26 12 626 4 922 5 1 2 13 4 560 5 7 143 1 155 2257 389 14 6387 1 2 13 30 3 132 3 158 8 162 22 2257 393 26 24 3803 726 11 2 42 130 9 2 13 3 47 577 211 82 237 25 478 1 2 42 4 1155 88 271 5 35 324 16 1720 216 53 8 121 22 26 11 4 507 5 794 5 7 95 749 53 39 447 1 2 10 4 14 132 5 2614 6762 11 710 8 56 113 11 2 42 178 3 363 106 522 31 67 76 27 412 5941 1 21 2 42 4 876 12 89 2116 5 2417 456 9 2 10 32 3 166 3 33 1 2 2 2 3 997 602 6241 5157 1 135 8 107 40 14 2620 29 12 486 6 5935 634 11 2 5253 4 1692 5 130 67 72 8 56 146 14 308 8 266 1 2 148 60 745 3 486 1 2 136 137 371 4632 16 6 2442 3965 1 2 290 4 498 5 35 9 11 631 17 1650 1331 2381 9 2 860 28 3 25 12 3386 1431 3 15 7 101 14 1046 27 843 1 2 13 103 11 2 860 37 1299 1 2 204 4 285 5 17 1299 1 1 1 1 2 616 4 1093 5 132 767 3 600 94 9 132 767 3 600 94 9 2538 20 12 3533 2993 1 2 10 45 8 78 1 2 2 2 136 58 65 62 6 61 516 24 1 43 1437 18 128 118 137 8 48 701 20 5988 1 21 2 13 132 1 19 23 43 2236 1 71 114 8 97 50 36 19 11 2 42 18 54 29 61 1 278 36 6 1315 3 7 48 12 6717 1 7 48 12 3066 1 2 1398 4 2198 5 178 3 186 121 729 16 236 1 2 786 17 430 633 1 2 74 33 3 33 3 33 1 33 3 356 27 575 35 1610 3601 5953 23 1 2 13 1304 1 1 1 105 5085 26 6 803 8 57 837 1 8 143 150 6334 3 125 4248 1 45 3 282 17 803 1 2 74 33 1 1 1 33 3 130 134 3 174 1 2 10 291 9 291 9 238 9 291 9 12 1425 20 6 497 1688 1 4 314 5 172 1869 3 748 25 724 27 3301 123 76 3877 1 6226 1 2 10 15 25 2509 27 802 597 52 16 6 3980 702 1 2 13 4 507 5 21 14 465 27 1184 20 2842 1 2 13 4 226 68 88 1184 5 1921 3 31 3 7 282 189 38 6 115 1 473 8 39 2055 3 7 1198 40 24 1335 1 2 10 4 2073 5 32 3 85 799 210 3 178 11 8 65 58 987 27 720 20 280 593 131 80 57 934 607 20 45 9 2 4246 25 2083 151 492 1216 4147 20 6 662 1 2 2782 38 69 3 263 52 9 90 325 90 1 1 1 60 17 638 111 1 1 1 111 1 1 1 238 3 238 3 8 1662 17 638 9 2 4950 524 9 2 3495 32 46 206 3 41 31 3 6 1129 1 6 1129 9 2 10 4 317 20 261 5 37 1 339 2007 1 60 144 6 140 393 57 2 42 51 3 102 68 6 1460 1149 3 31 1 8 190 55 146 1 2 10 4 3752 50 5 37 1 37 3 8 65 3 3198 4 1101 5 2752 1 2 13 4 286 5 51 3 62 1233 1 49 371 621 1 17 266 57 660 2841 144 223 1051 23 1 10 32 3 43 62 226 26 12 188 1 424 3 178 11 230 203 3 2823 3 23 18 11 4 1071 6210 5 222 14 22 3 1 1 17 1 1 1 166 9 1 1 1 2 2913 82 2345 1 39 467 45 67 4 1124 5 32 3 33 3 49 8 9 1 32 3 60 59 3 26 6 3598 2696 3789 1 4 275 5 27 3007 3300 2485 389 1 2 42 51 3 4226 7 55 23 131 2 13 4 190 2124 5 6 134 23 67 2332 9 67 287 103 477 19 2679 15 67 5091 9 2 4974 30 3 5414 351 36 24 86 378 14 1361 239 61 16 27 6306 11 2 13 231 9 2 10 15 57 8 86 378 14 722 12 984 3 191 6 1426 6068 704 9 142 693 90 1288 15 90 2142 90 2067 700 3 15 77 241 39 40 100 3 105 1 2 10 37 3 77 54 17 2703 1 81 47 141 8 282 19 33 125 1 2 10 64 3 33 319 71 179 77 1201 8 3 8 47 53 331 3 87 11 8 2130 12 4375 606 3458 84 1581 44 1680 123 1 2 10 4 1884 5 28 11 8 101 28 14 488 1229 11 2 827 51 3 6 11 23 77 235 2102 11 2 10 4 5841 5 59 3 8 65 35 11 25 79 48 14 278 29 19 1 1 1 2 13 51 11 21 4 314 5 21 66 7 2689 12 460 11 21 4 190 946 5 133 27 673 29 6 617 1 2 505 78 1387 3 28 855 641 2520 29 12 2088 3770 16 2270 1 2 2 2 13 293 11 2 13 30 3 132 9 1022 2595 9 141 22 264 8 12 12 1 589 1 186 78 195 15 564 91 2763 115 36 6 266 1 2 10 39 12 626 3 28 3 8 120 121 12 5417 1361 3 28 1 2 13 219 3 31 1 2 10 4 5485 5 206 3 28 1 8 65 27 2849 33 83 45 1 2 10 30 3 105 571 75 126 5063 4893 1 2 244 6 1394 945 21 97 225 9 21 2 2 2 13 1 1 1 15 6 1653 2395 4390 54 1120 3 38 6 1555 1901 20 6 280 249 343 100 73 1 92 8 39 1251 73 15 380 6 3074 1758 20 9 2 13 4 2996 1 90 914 90 18 23 14 332 3 91 171 47 404 26 22 3 2687 1 2 13 4 1155 271 5 33 3 7 249 1554 19 1 4 286 5 25 43 4265 1490 1 2 350 117 3 469 27 4802 3 111 140 493 9 2 10 4 226 192 5 6014 1 1 5278 1054 1 2 2 2 13 132 3 400 17 224 11 9 9 2 2 2 350 92 2090 18 1 7 101 8 14 2806 6 315 5 6229 1 5667 1 4140 1 5974 31 1 2 1183 4 994 5 35 11 2 10 4 1328 5 21 78 2299 31 1 21 167 116 10 37 3 7 65 3 7 65 1 41 6 221 753 23 58 120 567 981 1103 1182 1 2 10 537 3813 6 928 157 81 431 6 1103 1711 1795 1 1 1 64 3 84 359 14 365 11 9 2 10 209 18 3 28 3 6 224 23 478 1 132 170 94 14 813 52 1 2 10 117 3 149 28 3 99 106 2171 24 2700 26 248 1 25 804 79 104 4662 1331 1 2 13 32 3 503 1 2 244 4 436 591 3 92 253 6365 5 21 51 3 25 602 5946 70 278 18 15 104 70 99 55 12 1676 16 12 62 288 31 1 2 42 28 3 102 9 27 320 23 29 207 9 2 13 4 1509 5 8 121 19 73 3 132 9 2 10 12 89 638 1 2 10 43 24 54 38 12 1552 1 4 566 5 15 29 687 1 2 42 37 1 1699 364 44 1551 20 88 21 16 85 3802 624 1 1 1 2 290 15 96 139 111 532 629 3 7 53 63 332 3956 2821 135 509 68 1847 3381 9 2 11 2 4470 7 326 43 1 2 2701 4 2484 5 7 261 7 212 352 1025 20 3653 1 2 34 4 14 28 5 7 862 12 55 14 65 197 1 15 25 1089 3968 3 6 409 23 6 4341 16 2936 1 60 409 1 2 616 1595 9 789 1 2 290 159 2494 1 70 409 4 613 925 5 409 4 613 925 5 2 909 1 554 815 16 6 1432 20 2412 1439 1 70 3499 6107 57 12 559 50 36 12 649 4103 40 22 1 2 13 64 3 64 3 7 249 322 16 18 3 31 1 62 12 2675 1014 1 2 10 1252 170 79 187 792 192 36 33 649 2907 1 2 13 206 3 97 29 3 31 1 95 16 38 8 48 14 1270 6594 145 1 35 119 135 116 1 2 74 28 3 7 5344 8 577 19 224 1 2 13 4 2484 5 96 53 18 9 2 10 87 3 307 128 328 645 6026 1 7 269 1627 1252 6 250 176 1 2 13 62 12 2820 3 31 1 38 27 6230 158 609 44 151 26 12 36 236 3 411 197 20 6 112 1 92 58 829 91 4613 192 1 40 43 1 1 1 2 795 37 3 135 8 475 22 17 4 1593 5 6 470 9 2 10 32 3 28 3 7 106 6 971 1131 937 1 66 8 153 2729 22 11 2 13 2655 3 7 10 43 174 3 229 116 8 647 12 3867 52 16 6 1925 633 15 77 5868 111 61 345 1 1417 18 44 11 2 34 785 3 2 13 175 1 41 230 7 143 14 322 75 91 245 3954 14 56 22 6493 50 1 2 46 8 182 40 6 115 8 54 1160 45 1 8 120 95 914 15 97 50 36 12 3689 19 4428 14 38 6 2480 5326 52 80 1 2 13 4 1030 591 5 93 292 37 3 37 3 37 3 172 764 3 174 1 41 307 61 60 163 125 3792 1 334 1541 12 115 80 54 12 86 1132 3750 1860 3847 24 648 1 2 13 277 27 6385 1570 3 470 2835 1 25 79 3 40 3 1079 4564 8 1 2 10 51 3 4250 12 2526 93 1 7 2228 7 379 1 2 10 4 2464 199 5 206 3 37 69 1 8 170 304 372 1 2 42 235 83 61 3 31 1388 1 2179 1388 1 2 46 562 1 6 661 23 3 36 155 61 2592 3 8 249 44 1363 14 152 405 298 33 125 1 2 54 36 6 972 11 2 10 1749 128 3 4340 1 56 52 16 80 9 189 1783 57 6653 26 6 972 15 88 4721 1 2 10 75 14 109 1553 1 211 1826 11 2 13 4 5706 2244 5 32 3 49 12 172 1810 3 932 1 1 1 94 466 50 326 1 17 2243 1 2 13 394 9 2243 9 2 2 2 2785 6 1401 14 6 485 624 23 325 15 2808 1 7 182 3 108 8 95 3 31 1 187 97 36 22 15 5137 14 6 485 624 11 2 10 4 448 5 32 3 1118 1 17 802 2597 20 6408 6 4 536 3 399 1 2 160 64 35 48 8 368 3 313 11 2 977 7 54 6316 6 1381 26 1603 1795 1 2 160 49 1603 26 9 1473 9 2 34 547 3 35 85 1450 1 2 46 32 86 3 147 77 79 53 26 85 5714 11 2 10 238 1 7 47 2333 5 70 37 9 70 37 3 62 69 9 70 30 9 70 37 9 2 42 4 1207 2065 390 5 30 1 2 34 4 1207 5319 390 5 2 42 30 3 31 3 66 7 408 36 12 2161 11 2 10 37 3 270 398 80 3 6481 1 2 2 2 13 2753 1 4 1575 199 5 2 2549 27 3835 16 12 4438 5448 23 3486 3 28 1 7 632 48 14 577 18 1 2 13 232 1 1 2 204 4 3688 5 664 3 202 9 62 1727 22 1 2 694 33 3 25 63 1 4 92 14 31 3 367 5 544 1170 781 921 1 4 253 14 895 16 21 124 4084 21 5 781 921 1 1 1 2 13 4 253 5 403 3 781 921 1 1 1 14 449 5 20 2900 26 6 140 360 3 251 1868 177 1076 3431 1676 1 4 947 312 3 92 699 383 5 2 13 394 456 9 3 6 2127 1 334 8 56 1357 2594 52 3 133 33 2274 68 38 1 60 144 81 2638 6 3250 488 1 2 13 4 314 5 7 103 19 550 11 2 46 4 766 5 31 3 49 38 4910 1 23 174 103 19 870 11 23 132 19 216 11 23 28 19 29 207 201 1590 1 2 10 872 1003 3 165 11 1 1 1 4 433 68 209 5 117 3 175 81 98 1876 2602 5611 45 15 13 25 149 75 27 209 3 31 1 2 10 381 3 49 39 90 51 1 19 1048 209 54 270 3 41 18 54 105 179 4112 7 329 14 6 1088 3 21 33 3 62 1145 407 6 3019 1 1 1 16 1376 12 1338 1 21 2 10 30 3 132 1 147 831 19 108 58 450 3 133 184 14 44 12 1924 26 6 1049 3 12 1924 26 6 1753 3 15 537 38 44 12 306 806 1 11 2 10 4 314 5 1060 44 38 21 102 68 22 9 25 12 2847 493 20 12 1546 9 21 2 10 4 1487 5 117 3 11 2 42 4 5549 123 5 7 65 3 41 49 43 914 1 202 198 22 3 28 1 2 13 8 453 14 6 69 129 1 13 51 3 72 18 299 89 679 21 25 63 1742 17 176 637 1 21 4 3128 5 295 77 23 1 2 42 4 6102 12 1 132 3 8 120 1739 146 50 80 15 426 17 266 9 2 42 7 93 1 99 94 4907 2266 9 2 13 132 1 1 1 2 299 90 406 90 161 830 1 761 23 3 161 6457 4745 2934 1 2 46 6 1797 191 44 4815 1 7 345 188 1 1011 181 45 1 7 55 12 1422 1433 167 2429 14 269 6533 1 839 3 4430 1433 1 2 2624 43 1289 1 2 13 4 14 581 3 1890 5 60 22 9 2 13 336 19 9 6 474 1872 135 44 3668 1 2 2954 47 139 22 71 14 252 1 2 13 43 8 38 459 2 13 3757 6524 11 71 66 7 1169 11 2 10 620 1 2 2 2 34 56 100 9 2 10 15 603 52 9 2 10 56 64 142 5079 29 662 3061 1 2 46 4 1793 5 30 3 81 269 146 680 20 6 1664 3 425 9 2 817 23 80 12 761 2 2 2 13 941 3 31 9 119 524 128 17 1006 9 2 10 33 373 1 39 642 6 835 4661 20 6 1193 6536 1 864 53 3 5424 1 99 55 85 2014 1457 12 832 1 2 160 4 448 5 627 3 39 40 29 21 4497 6259 1 21 137 1139 14 21 2 74 32 3 142 29 6 639 86 843 225 1 347 3 363 55 5270 115 1 2 160 27 3430 23 14 256 6 3332 2201 1 2 148 25 836 15 814 1 2 13 60 17 89 3515 1 2 148 347 3 255 1 229 78 1 2 13 30 3 1437 18 13 547 31 3 193 106 12 333 1483 1728 1 2 10 8 121 19 73 1 2 13 64 3 111 104 3 60 35 25 528 75 1312 1 2 46 388 3 59 3 108 8 300 75 19 455 3 27 259 4439 36 3 59 1 1 1 35 53 8 220 18 11 138 14 78 1 2 13 86 3 6535 6 205 115 31 1098 24 11 2 46 30 3 28 9 235 218 9 2 34 30 28 3 13 7 47 56 18 1 2 148 4 636 3 2079 5 2231 52 21 96 509 12 5078 1 21 2 13 147 6 1839 11 2 148 1130 1194 4324 1 2 10 693 1 2 13 25 149 7 678 8 3 31 1 2 10 117 3 60 87 1 49 40 17 255 288 12 21 112 1 21 49 144 7 78 14 152 21 499 3 21 295 23 6 3494 2920 16 27 2283 1 2 5700 4 699 5 28 6 417 3824 12 86 98 3639 14 88 209 23 2511 1 2 46 8 1086 6 1292 11 2 34 8 65 7 127 1 2 46 38 218 1 2 377 87 3 5652 1 35 3349 3 2475 268 1622 612 3 23 212 76 5491 15 3641 11 2 34 71 75 21 1622 2730 324 58 2929 3133 48 106 3134 268 6 4677 1 2 46 30 3 35 57 8 397 20 45 11 2 1786 4 38 357 5 25 85 4 418 5 60 378 1160 1 2 13 32 107 3 18 54 812 1 7 444 119 1735 12 614 2132 86 1 2 10 117 3 51 7 415 8 7 1661 8 11 2 2744 4 566 199 5 24 241 40 12 316 26 17 2889 3382 1 2 10 43 71 179 8 5006 1 1 1 43 515 3 72 8 121 19 592 123 3 15 927 18 192 67 2 244 4 5636 3 2318 5 7 65 3 7 65 11 2 74 139 19 330 49 151 2176 8 15 113 1 2 244 231 1 230 134 20 6 648 1 7 5821 1 2 10 30 119 413 23 933 1 2 46 273 641 45 7 97 9 2 10 6453 103 198 36 17 4624 2354 9 2 10 4 534 5 7 55 344 174 11 2 34 100 11 2 34 33 157 9 2 13 297 53 90 7 116 118 96 48 27 2275 1 4 2034 5 334 7 109 76 6 1846 1 2 13 30 3 43 57 6 3347 2983 1 4 314 5 67 4 506 199 5 2 545 1660 6 1652 3 41 99 759 43 1 2 13 15 8 66 553 36 19 1 2 10 3459 1 2 13 447 1 80 57 2859 16 245 2781 26 22 14 6780 4 5811 5 30 3 8 101 17 582 11 2 13 56 197 64 3 1059 1 4 2467 301 5 2 13 43 325 3 1059 1 4 185 609 1 7 103 48 14 78 14 6 2386 15 25 52 16 6252 1 2 42 8 65 3 7 443 16 12 164 5919 276 144 113 1 2 10 117 3 51 3 2546 7 120 65 150 75 12 1047 3 7 282 24 129 1 2 10 24 4134 23 5798 1 77 2 10 59 3 222 119 3 71 66 7 213 24 6061 11 7 47 55 378 470 20 24 185 14 109 8 102 83 1 2 74 16 1359 1796 1 21 15 33 61 153 158 1 2 10 117 3 176 23 83 1 2 34 30 3 35 318 11 49 1460 20 6 11 30 3 131 818 715 161 138 12 6741 2506 1 2 772 8 411 22 762 45 38 682 1 1 1 2 772 4 1117 5 1 11 2 13 125 40 3 144 168 7 256 18 1 18 54 6572 3028 1 2 74 28 3 25 149 8 444 19 3 41 7 54 2 10 4 738 5 3614 3 4640 3 5272 3 2682 3 569 271 1 1 1 2 1295 15 3 7 374 14 3447 407 6 203 21 13 8 65 3 7 252 327 83 1 175 7 191 39 269 791 675 16 184 122 12 4302 3 4490 112 1 2 10 56 20 45 6 648 15 6 112 23 1038 1 2 234 25 553 68 251 5781 4305 3 144 137 692 323 76 6 3307 16 6 4356 2032 1436 3 11 7 525 304 8 268 8 181 24 520 1 2 46 4 5628 5 7 66 1818 128 6 520 1767 9 2 2832 4 766 5 293 35 114 8 888 14 56 27 243 3 28 11 2 13 4 1314 5 189 2290 1317 2025 19 453 20 6 2608 1 2 13 4 216 70 25 52 1 70 25 368 1 2 13 4 1976 5 96 104 27 713 1651 15 2462 8 61 1222 1 2 502 51 3 25 52 368 6 134 19 110 62 45 26 1 25 528 4097 45 1 2 502 4 1223 5 38 69 3 7 944 18 1 7 114 770 1494 670 269 27 4215 6760 29 3 1007 1 99 304 8 56 442 105 369 612 1 2 734 25 63 79 141 100 122 17 575 3 118 2626 247 1 2 10 400 27 243 254 3 28 11 2 13 376 63 536 637 1 2 10 35 11 49 215 16 113 7 213 20 16 8 171 11 2 46 137 27 5196 9 64 97 29 3 338 1643 901 3 48 12 82 9 2 204 7 93 67 7 265 44 1 472 421 1009 1 2 34 4 1155 271 5 63 24 225 1 2 46 231 3 24 225 9 2 204 8 65 3 28 3 401 17 3277 1 2 5594 4 1645 6415 259 5 152 118 96 450 1 2 13 159 12 279 1 7 261 8 168 187 56 623 1 2 2 10 28 1 1 1 24 2739 155 26 333 5233 1 15 171 29 4129 4927 3 40 22 1 35 11 35 57 8 38 522 68 9 2 877 4 1071 1211 5 41 92 144 135 7 78 14 56 323 76 17 243 9 1738 3 31 3 8 406 3 5869 1157 9 3 1166 16 236 429 1 264 2562 12 270 435 1 2 1180 4 2315 5 706 1 1 1 706 1 1 1 4 140 5639 5 2 589 21 23 26 31 3 6 2006 16 173 1 21 773 21 23 26 6 21 773 21 20 6 1879 16 173 1 21 3952 21 23 1266 2078 3 12 5441 1838 118 573 3067 1 2 10 25 39 184 14 220 6 1161 2162 64 1 4 2136 5 15 1404 3248 17 742 173 6 157 18 23 3 38 69 11 15 7 170 2991 18 26 211 1141 3 2496 3 5132 3 118 4065 1 2 74 7 138 12 219 1 2 2642 4 501 310 14 3964 4191 5 1936 16 2194 3 17 543 11 2 1786 51 308 8 3 27 2428 1 8 65 3 32 202 3 63 24 225 1 2 13 771 3 116 217 14 401 1 2 13 4 1278 289 5 6013 1 2 991 4 21 110 63 13 4759 645 821 305 15 5186 1 1 1 713 645 9 2 13 25 327 273 36 24 403 3 64 49 6224 343 1 2 10 32 2087 5 15 17 6740 3 137 355 69 14 6 815 9 4 6246 2377 3633 199 5 208 1 2 568 24 23 61 5408 84 47 40 1 2376 14 415 352 1 4 489 982 5 2 10 147 18 116 11 2 2 2 46 4 1223 5 104 111 609 3 28 1 58 48 14 213 6 210 29 12 6728 14 3682 2081 3 92 96 44 73 14 78 14 1744 9 2 148 4 2765 5 255 3 72 8 3 24 4790 6022 1 97 4495 27 1792 407 18 1 2 46 30 1827 3 863 12 247 144 7 548 2473 4301 15 3245 6363 1 2 284 1 2 10 132 3 71 53 8 269 551 73 20 11 2 42 25 12 216 1 7 47 65 331 75 71 7 53 303 1 51 33 373 1 96 39 564 6 200 20 19 1809 851 6 784 1 2 10 124 138 3292 22 85 1695 6238 1 191 7 1238 24 82 5 27 2037 1649 3 15 6 6264 828 4 433 14 207 5 1 2 46 51 3 23 80 303 20 24 112 60 212 20 998 9 39 47 442 22 9 2 13 4 439 5 87 327 210 3 400 348 6000 713 393 11 2 10 4 814 5 102 3 5419 7 21 6159 9 21 2 10 87 1 2 13 219 3 31 1 71 66 7 153 5834 8 11 2 10 30 3 91 267 182 125 14 108 77 1113 22 14 6 2717 2447 20 6666 11 2 136 4 3266 5 6 2717 2447 11 9 297 548 38 6 172 665 2516 3 31 91 4111 15 67 4 6409 150 5 8 225 11 9 2 13 35 6 309 23 24 134 11 2 2 2 46 35 23 18 3 31 85 1091 26 6364 4313 1 2 10 35 6 11 9 99 106 4130 4294 1516 14 19 11 9 2 1191 41 35 8 240 75 28 49 123 14 1477 274 1404 862 43 179 6023 122 126 871 1 2 34 8 65 84 7 93 586 11 19 5242 4742 1 542 61 115 7 1 2 148 388 31 3 8 162 172 747 1 2 13 4 2533 5 37 1 35 48 8 368 36 6 333 31 11 2 2 2 10 238 3 60 79 1148 111 1 2 13 99 55 5915 2101 25 522 14 1253 3 31 9 2 10 165 11 2 13 4 1328 5 14 6 672 3 7 379 48 2740 5859 45 90 630 399 1 2 160 4 14 4279 5 322 19 3 3530 11 6 972 677 1051 9 1 2 10 15 6 4775 1284 1 1 1 6 6425 16 6 3640 2932 1 2 10 347 3 4989 1 2 10 8 2861 18 36 12 11 9 7 98 94 53 150 40 19 9 4 578 5 98 7 11 2 160 110 47 8 356 6 653 84 5364 6 2378 11 63 2 13 1455 1 1 1 6 155 373 23 3 25 130 14 3017 91 1741 16 536 195 15 1327 709 1 33 967 96 4051 19 90 100 20 11 2 244 8 182 3350 4823 11 2 2731 4 3059 296 259 5 30 9 2 2731 25 69 45 1 2 244 149 1 2 1 187 97 11 2 2203 33 1 2 34 4 2531 5 49 87 3 7 1190 1 2 34 4 14 581 5 2491 522 68 12 1425 57 29 174 1 2 13 4 436 5 7 47 101 27 1119 470 1 96 408 26 18 352 1 2 10 59 3 7 120 278 36 82 9 2 13 544 1 1 1 401 1009 22 14 300 14 8 1 2 204 4211 9 945 58 2812 850 3 118 6 2959 11 2 186 362 321 6 5656 183 77 114 355 20 1 2 34 116 28 3 62 333 83 68 24 1 95 8 98 588 17 1329 2070 26 2164 3 165 11 4 2008 5 1422 5793 5677 14 19 203 1 1 1 4 717 5 25 79 121 18 1 2 10 1000 340 3 283 1112 4499 197 122 917 8 38 223 1433 1 2 13 4 2144 5 7 242 7 48 33 1334 1 2 2 2 10 147 351 36 27 13 4 3048 105 179 5 32 37 3 37 3 60 35 7 1859 105 1 7 48 33 1 1 1 4178 1 1 1 2 10 55 3 8 65 1 1 1 2 34 32 3 69 9 222 3 28 3 532 816 318 73 20 520 455 1 1 1 2 13 4 788 12 5283 3 562 19 23 1 2 234 24 23 932 1146 36 12 740 2050 6559 6 1898 758 1 2 234 503 5560 5468 5836 1 12 2 34 238 3 30 382 9 382 3 382 3 382 9 2 13 4 403 300 5 217 382 1 1 1 217 382 1 2 46 30 1 1 6124 1 2 892 19 54 1600 68 3372 1 7 54 759 434 44 1101 20 6 333 22 1 2 10 57 8 793 22 11 71 135 8 1090 12 653 281 3759 1876 41 59 3 20 91 157 1 1 1 12 89 1216 11 2 34 8 182 40 71 58 1090 51 3 72 99 618 303 76 931 3392 3 23 19 193 55 14 109 12 986 3 3885 4945 3 6 324 19 241 40 18 265 1253 44 17 194 1 1 1 2 13 4 14 283 5 104 3 18 601 1 15 2322 57 39 6 1877 1 133 963 4766 3 3259 3 61 3 1521 6120 5 21 254 6 251 4937 4579 54 6339 20 6 611 16 12 1074 164 882 1 1 1 4 498 5 262 1 2601 1229 11 2 46 4 1002 5 35 11 8 95 39 215 25 790 7 65 38 245 790 171 11 2 13 51 3 7 1 1 1 10 4 2373 732 5 331 1 2 10 4 285 5 39 334 7 345 3058 70 135 2456 73 88 960 70 15 1829 22 12 2600 70 24 82 1 2 74 4 1532 5 18 1714 40 1 1 1 3660 9 70 18 1714 40 481 1305 9 2 74 18 1714 40 602 6062 753 14 162 8 1 2 10 49 12 672 76 28 1 29 17 2501 1 20 17 5005 1 837 17 6141 15 1066 2119 1 15 18 95 3 119 11 158 8 162 31 12 722 11 2 74 178 3 51 1 1 1 2 10 175 8 143 12 89 125 21 916 16 12 5930 593 6501 70 15 92 108 25 1823 3 96 78 311 27 2577 70 41 8 98 53 563 1 1 1 2 74 7 98 53 12 778 11 21 7 443 75 19 20 2709 455 3 41 7 94 304 18 531 1 2 10 32 3 24 23 228 83 26 22 1 911 105 11 7 187 121 12 3922 43 25 4833 26 6 5551 2003 1 2 337 51 1 1 1 25 6176 1 78 1387 1 2 34 15 81 1656 27 228 2723 9 2 13 4 2049 5762 5 238 9 58 1656 27 228 2723 1 2 34 49 3955 1 424 23 64 563 3638 19 6304 5726 819 54 184 14 5888 1 2 13 87 3 175 7 6667 1 41 193 106 43 2627 1 1 1 21 25 1289 3 769 4607 9 4 874 50 769 4960 396 21 1109 27 218 21 5 15 6195 4241 26 27 1099 1 294 1 43 8 66 121 27 6528 1 2 13 4 5865 483 5 70 4 2558 2077 483 5 2 13 38 69 9 38 69 9 2 13 25 355 195 1 49 63 889 2393 994 289 5 37 3 60 660 12 83 61 1 45 3 7 55 532 19 265 1056 111 50 1 2 10 7 55 24 26 1095 5 6 846 1 1 1 2 4959 4 5308 271 20 3 1276 5 6 2185 1 1 1 2 2 2 46 86 3 8 130 987 19 32 37 11 71 628 24 1967 209 11 4 1967 483 5 2 136 7 66 104 19 123 1393 23 12 2292 86 1 2 10 4 286 2 2 136 30 3 255 1 2 13 4 440 5 30 425 3 3488 358 11 2 136 447 1 7 54 1283 8 15 27 284 98 155 5316 154 6 5803 1 4 289 5 53 8 1190 35 7 3897 52 80 11 2 2388 6 5349 14 1501 6 360 23 2178 1 2 2800 1 2 10 4 2845 5 59 222 3 28 67 7 65 12 129 84 4342 267 26 1189 84 143 267 2096 1 41 3 59 3 1 2 188 1 5629 4 230 271 5 1 1 1 391 2570 1 1 1 4 626 271 5 2550 86 1 1 1 4 1052 271 5 50 1 2 10 208 3 278 19 52 9 70 413 23 4474 368 9 70 102 68 236 6681 9 70 15 1 1 1 1823 9 2 2 10 4 840 260 3 92 1391 28 5 336 1605 1569 9 2 1115 536 50 315 29 21 280 16 593 21 1 1 1 2 1115 66 411 211 115 58 101 1 2 46 28 3 110 47 8 39 109 91 125 16 6 5416 405 11 2 13 32 3 274 283 249 2 2001 44 17 1528 1 2 2 2 10 4 1874 5 238 3 12 1583 1 4 1854 180 5 229 104 1 1 1 1583 2438 26 2 13 4 766 5 771 3 8 15 7 57 79 44 1513 183 153 90 58 564 6 1136 16 126 871 2325 19 2355 1 2 262 2 13 758 3 229 524 14 6 2331 1 2 335 37 3 141 22 242 1 62 660 79 53 150 2363 40 398 14 300 22 321 6 227 1 2 13 1094 619 9 14 758 869 15 401 1946 9 2 42 35 12 2867 9 2 46 231 9 14 401 9 2 10 3662 11 21 2 335 51 28 3 8 103 213 61 151 29 196 298 869 3 45 1 4 534 5 219 12 306 3 2004 1 2 2 1719 4 5940 5 586 73 3 28 9 7 65 35 25 397 1 2 34 51 3 58 38 65 35 137 397 1 6 1296 23 28 3 47 428 1 62 68 173 340 67 3695 268 5770 1 2 13 35 6 67 4 2241 5 24 23 12 1752 988 9 2 42 1293 5355 3435 4933 57 607 1 6427 3297 625 14 88 2420 1438 15 81 729 6065 223 6262 54 39 1877 1 6 559 1 21 2 148 9 21 400 6 2010 11 2 545 6 2010 57 64 2225 3 6 3384 2110 23 64 12 1267 3 15 3170 23 64 4263 9 32 9 18 39 55 2060 76 80 1 2 2811 21 554 7 668 18 1392 950 1 515 3 72 62 226 26 27 255 1 77 386 6 266 13 51 25 327 130 18 54 20 80 1673 1 2 727 64 3 141 22 3251 154 3719 31 6 519 26 4826 24 1427 237 810 1589 25 371 975 16 267 40 19 1 2 148 975 16 35 11 7 588 29 8 3 15 8 121 18 67 60 71 2248 601 1 2 1 1812 14 6 1394 16 1379 1 2 2184 137 20 6 1394 16 1379 9 2 555 4 1275 199 5 51 3 19 3703 1 2 555 164 316 11 2 34 233 18 102 40 99 55 12 316 11 2 46 33 3 7 168 1 2 10 28 3 276 12 89 125 5530 9 2 10 2104 9 2 2 2 10 30 3 28 1 7 98 322 27 1720 5624 311 6 541 1 2 13 51 3 110 93 7 106 2827 154 6 134 18 3735 4042 413 9 2 74 7 93 332 137 94 184 14 48 235 1743 1 1 1 4 1733 5 2 34 213 18 20 12 983 4284 26 283 1 2 34 43 400 6 145 64 11 2 13 7 213 18 20 6 989 1 19 185 23 172 2 13 12 2555 6126 23 64 2799 183 85 665 989 1 177 126 1813 3 2520 29 171 2325 274 223 3366 5613 181 105 602 3 97 8 213 27 1792 123 29 223 5765 15 5389 1114 8 322 12 5346 3 1678 1251 50 565 1 2 1185 103 11 62 130 75 24 11 105 1922 1 61 279 62 881 20 27 4311 523 82 3 6 315 134 8 65 62 1018 45 523 82 1 2 377 28 3 27 5472 12 2015 5550 7 66 282 1 2 10 165 1 241 40 62 103 686 532 151 20 27 689 80 3 28 1 2 13 31 3 7 296 1 15 108 25 29 12 465 3 6 1023 23 429 1 2 234 4 2591 5 6 1023 54 12 86 1 88 1806 181 1194 3 21 196 3951 9 21 2 34 4 14 2380 5 147 2298 1 1626 1 773 1 1840 1 11 2 1033 18 735 21 472 6 2833 16 92 7 3788 52 1689 15 29 474 1 2 148 4 2718 5 103 11 2 10 4 717 5 269 17 1214 69 45 20 24 1053 1 2678 9 2 34 872 9 2 46 4 1321 5 110 53 58 288 3862 151 1632 4965 11 2 698 1 1045 8 65 147 103 1241 11 8 1523 421 17 2330 11 2 13 2330 11 4 2264 5 23 19 40 61 16 169 816 3122 2383 267 11 2 698 1 1045 33 3 2 10 1161 1 804 1 25 103 358 18 1 33 125 1367 26 4 5660 5 2653 9 4 950 5 215 24 115 133 33 61 60 1431 1 2 6257 1161 23 6185 70 18 6604 29 369 1910 70 15 7 66 67 2 10 19 1644 18 9 33 125 3026 9 2 10 332 20 674 1 1 1 4 1265 50 5 8 107 3 8 987 22 9 8 53 404 9 2 13 64 159 12 279 1 120 109 60 288 83 26 12 301 1 2 74 33 3 33 3 18 177 14 44 150 140 864 583 88 604 2180 1 4 1675 1021 5 110 7 53 48 24 1985 19 7 2475 352 1 570 615 44 6 227 134 8 153 138 118 6 205 134 297 153 48 1 2 1372 232 14 4056 3 3541 5 63 361 3 196 194 1 41 47 428 3 5585 57 39 192 6 1672 1 2 2 2 10 28 3 7 1647 3 49 115 1 343 18 29 9 343 18 29 9 2 13 344 718 887 26 344 227 284 1 2 10 37 3 7 288 78 36 9 4 260 5 25 43 273 9 4 125 260 5 25 43 273 9 2 13 14 6 227 460 20 6 280 67 145 1 2 13 45 9 7 47 153 101 14 104 19 4891 4457 225 9 2 13 159 12 279 9 5719 4691 20 6 6480 16 1301 5329 9 2 13 4996 76 88 5207 2518 1 2 2 2 13 1915 54 812 361 9 963 3 119 23 20 1352 15 161 168 163 139 22 9 2 10 43 6 2076 57 3 239 115 6 753 129 329 21 1420 3 21 58 120 121 12 152 1 2 34 570 44 270 14 141 292 629 8 1 35 23 6 140 779 11 2 46 4 5388 5 142 397 18 9 142 500 12 272 9 2 34 4 1029 5 884 3 884\n\t [[Node: sequence_loss/SparseSoftmaxCrossEntropyWithLogits/SparseSoftmaxCrossEntropyWithLogits = SparseSoftmaxCrossEntropyWithLogits[T=DT_FLOAT, Tlabels=DT_INT32, _device=\"/job:localhost/replica:0/task:0/device:CPU:0\"](sequence_loss/Reshape, sequence_loss/Reshape_1)]]\n",
     "output_type": "error",
     "traceback": [
      "\u001b[1;31m---------------------------------------------------------------------------\u001b[0m",
      "\u001b[1;31mInvalidArgumentError\u001b[0m                      Traceback (most recent call last)",
      "\u001b[1;32md:\\software\\mambaforge\\envs\\deep-learning_2\\lib\\site-packages\\tensorflow\\python\\client\\session.py\u001b[0m in \u001b[0;36m_do_call\u001b[1;34m(self, fn, *args)\u001b[0m\n\u001b[0;32m   1322\u001b[0m     \u001b[1;32mtry\u001b[0m\u001b[1;33m:\u001b[0m\u001b[1;33m\u001b[0m\u001b[0m\n\u001b[1;32m-> 1323\u001b[1;33m       \u001b[1;32mreturn\u001b[0m \u001b[0mfn\u001b[0m\u001b[1;33m(\u001b[0m\u001b[1;33m*\u001b[0m\u001b[0margs\u001b[0m\u001b[1;33m)\u001b[0m\u001b[1;33m\u001b[0m\u001b[0m\n\u001b[0m\u001b[0;32m   1324\u001b[0m     \u001b[1;32mexcept\u001b[0m \u001b[0merrors\u001b[0m\u001b[1;33m.\u001b[0m\u001b[0mOpError\u001b[0m \u001b[1;32mas\u001b[0m \u001b[0me\u001b[0m\u001b[1;33m:\u001b[0m\u001b[1;33m\u001b[0m\u001b[0m\n",
      "\u001b[1;32md:\\software\\mambaforge\\envs\\deep-learning_2\\lib\\site-packages\\tensorflow\\python\\client\\session.py\u001b[0m in \u001b[0;36m_run_fn\u001b[1;34m(session, feed_dict, fetch_list, target_list, options, run_metadata)\u001b[0m\n\u001b[0;32m   1301\u001b[0m                                    \u001b[0mfeed_dict\u001b[0m\u001b[1;33m,\u001b[0m \u001b[0mfetch_list\u001b[0m\u001b[1;33m,\u001b[0m \u001b[0mtarget_list\u001b[0m\u001b[1;33m,\u001b[0m\u001b[1;33m\u001b[0m\u001b[0m\n\u001b[1;32m-> 1302\u001b[1;33m                                    status, run_metadata)\n\u001b[0m\u001b[0;32m   1303\u001b[0m \u001b[1;33m\u001b[0m\u001b[0m\n",
      "\u001b[1;32md:\\software\\mambaforge\\envs\\deep-learning_2\\lib\\site-packages\\tensorflow\\python\\framework\\errors_impl.py\u001b[0m in \u001b[0;36m__exit__\u001b[1;34m(self, type_arg, value_arg, traceback_arg)\u001b[0m\n\u001b[0;32m    472\u001b[0m             \u001b[0mcompat\u001b[0m\u001b[1;33m.\u001b[0m\u001b[0mas_text\u001b[0m\u001b[1;33m(\u001b[0m\u001b[0mc_api\u001b[0m\u001b[1;33m.\u001b[0m\u001b[0mTF_Message\u001b[0m\u001b[1;33m(\u001b[0m\u001b[0mself\u001b[0m\u001b[1;33m.\u001b[0m\u001b[0mstatus\u001b[0m\u001b[1;33m.\u001b[0m\u001b[0mstatus\u001b[0m\u001b[1;33m)\u001b[0m\u001b[1;33m)\u001b[0m\u001b[1;33m,\u001b[0m\u001b[1;33m\u001b[0m\u001b[0m\n\u001b[1;32m--> 473\u001b[1;33m             c_api.TF_GetCode(self.status.status))\n\u001b[0m\u001b[0;32m    474\u001b[0m     \u001b[1;31m# Delete the underlying status object from memory otherwise it stays alive\u001b[0m\u001b[1;33m\u001b[0m\u001b[1;33m\u001b[0m\u001b[0m\n",
      "\u001b[1;31mInvalidArgumentError\u001b[0m: Received a label value of 6780 which is outside the valid range of [0, 6780).  Label values: 1242 1 2 10 4 122 180 5 392 29 3 96 278 1 4 14 619 5 1042 1242 1 1042 1242 1 30 3 177 723 304 1042 6 559 1 2 42 60 38 69 1 7 473 48 5475 12 4003 176 1 2 42 43 6 315 115 823 1799 8 5501 2862 57 83 3 6 5760 3 17 4854 3 263 1 2 13 114 18 246 11 2 42 25 12 395 86 3 170 7 11 2 42 208 9 2 319 3 671 11 2 13 6 711 315 541 980 911 9 2 990 4 5342 5 7 531 14 44 19 711 1 2 13 32 3 22 10 117 3 357 23 883 1 171 361 57 5565 15 451 622 1 8 65 3 72 18 539 26 6 1480 520 455 315 541 33 61 511 28 21 1 2 10 87 3 110 47 8 109 146 50 12 695 16 21 511 2250 21 11 2 13 30 31 3 8 55 211 3800 4895 1 2 42 232 3 18 103 601 1 2 935 4 5471 5 96 44 73 1 2 13 31 3 7 525 304 6 185 24 2 756 7 2429 14 121 17 5087 3761 602 1 2 10 7 40 27 4574 3 296 1 62 2740 1 2 756 8 2151 2487 24 1 323 12 496 1222 354 40 19 1 2 10 4 14 1563 5 25 149 3 41 6 412 1284 4239 36 22 1 2 6319 4 14 31 3 7 39 212 12 680 1566 389 605 6 1309 1 264 517 3 410 520 3 60 17 4898 1 7 632 39 469 17 316 68 6 2 10 4 122 180 5 173 340 1 31 996 1 2 148 4 122 180 5 59 231 3 25 226 26 12 737 1 1173 1 230 867 5 4 314 5 60 172 9 30 3 135 8 579 19 196 597 8 374 14 579 26 22 11 2 148 4 12 89 1285 5 62 460 639 11 2 294 1 349 231 1 2 13 87 3 221 5727 1 43 141 22 356 8 24 3 233 27 145 153 1838 8 83 23 145 72 8 93 2622 4852 20 27 1094 86 11 4 5606 5 99 55 14 56 17 826 73 9 2 2 2 10 173 340 87 3 111 718 711 1 2 10 45 8 78 3 28 1 12 305 15 3413 389 1 2 13 4 3731 5 7 374 14 459 6 35 11 420 19 1 2 13 7 138 6 663 1617 16 38 3 12 89 272 84 98 431 4614 15 7 1412 18 1 2 1471 51 2 491 78 9 78 9 78 9 78 9 78 9 1111 9 9 2 6510 49 12 1755 26 4287 2301 5024 9 218 783 177 880 6 1 219 26 1615 22 949 1 2 42 33 373 1 4 14 382 5 51 3 51 3 72 18 299 89 287 1 4 3338 1963 5003 269 5637 9 2 13 4 253 5 1343 2715 249 8 97 52 254 70 97 52 254 70 97 52 254 1 1 1 32 1343 2715 1 317 12 1368 1247 1 2 13 1549 9 1368 1247 1 133 40 214 16 169 1 19 1429 54 61 16 12 324 1 2 1106 28 3 1 1 1 33 1 2 13 71 75 8 3 132 11 2 42 63 26 12 626 4 922 5 1 2 13 4 560 5 7 143 1 155 2257 389 14 6387 1 2 13 30 3 132 3 158 8 162 22 2257 393 26 24 3803 726 11 2 42 130 9 2 13 3 47 577 211 82 237 25 478 1 2 42 4 1155 88 271 5 35 324 16 1720 216 53 8 121 22 26 11 4 507 5 794 5 7 95 749 53 39 447 1 2 10 4 14 132 5 2614 6762 11 710 8 56 113 11 2 42 178 3 363 106 522 31 67 76 27 412 5941 1 21 2 42 4 876 12 89 2116 5 2417 456 9 2 10 32 3 166 3 33 1 2 2 2 3 997 602 6241 5157 1 135 8 107 40 14 2620 29 12 486 6 5935 634 11 2 5253 4 1692 5 130 67 72 8 56 146 14 308 8 266 1 2 148 60 745 3 486 1 2 136 137 371 4632 16 6 2442 3965 1 2 290 4 498 5 35 9 11 631 17 1650 1331 2381 9 2 860 28 3 25 12 3386 1431 3 15 7 101 14 1046 27 843 1 2 13 103 11 2 860 37 1299 1 2 204 4 285 5 17 1299 1 1 1 1 2 616 4 1093 5 132 767 3 600 94 9 132 767 3 600 94 9 2538 20 12 3533 2993 1 2 10 45 8 78 1 2 2 2 136 58 65 62 6 61 516 24 1 43 1437 18 128 118 137 8 48 701 20 5988 1 21 2 13 132 1 19 23 43 2236 1 71 114 8 97 50 36 19 11 2 42 18 54 29 61 1 278 36 6 1315 3 7 48 12 6717 1 7 48 12 3066 1 2 1398 4 2198 5 178 3 186 121 729 16 236 1 2 786 17 430 633 1 2 74 33 3 33 3 33 1 33 3 356 27 575 35 1610 3601 5953 23 1 2 13 1304 1 1 1 105 5085 26 6 803 8 57 837 1 8 143 150 6334 3 125 4248 1 45 3 282 17 803 1 2 74 33 1 1 1 33 3 130 134 3 174 1 2 10 291 9 291 9 238 9 291 9 12 1425 20 6 497 1688 1 4 314 5 172 1869 3 748 25 724 27 3301 123 76 3877 1 6226 1 2 10 15 25 2509 27 802 597 52 16 6 3980 702 1 2 13 4 507 5 21 14 465 27 1184 20 2842 1 2 13 4 226 68 88 1184 5 1921 3 31 3 7 282 189 38 6 115 1 473 8 39 2055 3 7 1198 40 24 1335 1 2 10 4 2073 5 32 3 85 799 210 3 178 11 8 65 58 987 27 720 20 280 593 131 80 57 934 607 20 45 9 2 4246 25 2083 151 492 1216 4147 20 6 662 1 2 2782 38 69 3 263 52 9 90 325 90 1 1 1 60 17 638 111 1 1 1 111 1 1 1 238 3 238 3 8 1662 17 638 9 2 4950 524 9 2 3495 32 46 206 3 41 31 3 6 1129 1 6 1129 9 2 10 4 317 20 261 5 37 1 339 2007 1 60 144 6 140 393 57 2 42 51 3 102 68 6 1460 1149 3 31 1 8 190 55 146 1 2 10 4 3752 50 5 37 1 37 3 8 65 3 3198 4 1101 5 2752 1 2 13 4 286 5 51 3 62 1233 1 49 371 621 1 17 266 57 660 2841 144 223 1051 23 1 10 32 3 43 62 226 26 12 188 1 424 3 178 11 230 203 3 2823 3 23 18 11 4 1071 6210 5 222 14 22 3 1 1 17 1 1 1 166 9 1 1 1 2 2913 82 2345 1 39 467 45 67 4 1124 5 32 3 33 3 49 8 9 1 32 3 60 59 3 26 6 3598 2696 3789 1 4 275 5 27 3007 3300 2485 389 1 2 42 51 3 4226 7 55 23 131 2 13 4 190 2124 5 6 134 23 67 2332 9 67 287 103 477 19 2679 15 67 5091 9 2 4974 30 3 5414 351 36 24 86 378 14 1361 239 61 16 27 6306 11 2 13 231 9 2 10 15 57 8 86 378 14 722 12 984 3 191 6 1426 6068 704 9 142 693 90 1288 15 90 2142 90 2067 700 3 15 77 241 39 40 100 3 105 1 2 10 37 3 77 54 17 2703 1 81 47 141 8 282 19 33 125 1 2 10 64 3 33 319 71 179 77 1201 8 3 8 47 53 331 3 87 11 8 2130 12 4375 606 3458 84 1581 44 1680 123 1 2 10 4 1884 5 28 11 8 101 28 14 488 1229 11 2 827 51 3 6 11 23 77 235 2102 11 2 10 4 5841 5 59 3 8 65 35 11 25 79 48 14 278 29 19 1 1 1 2 13 51 11 21 4 314 5 21 66 7 2689 12 460 11 21 4 190 946 5 133 27 673 29 6 617 1 2 505 78 1387 3 28 855 641 2520 29 12 2088 3770 16 2270 1 2 2 2 13 293 11 2 13 30 3 132 9 1022 2595 9 141 22 264 8 12 12 1 589 1 186 78 195 15 564 91 2763 115 36 6 266 1 2 10 39 12 626 3 28 3 8 120 121 12 5417 1361 3 28 1 2 13 219 3 31 1 2 10 4 5485 5 206 3 28 1 8 65 27 2849 33 83 45 1 2 10 30 3 105 571 75 126 5063 4893 1 2 244 6 1394 945 21 97 225 9 21 2 2 2 13 1 1 1 15 6 1653 2395 4390 54 1120 3 38 6 1555 1901 20 6 280 249 343 100 73 1 92 8 39 1251 73 15 380 6 3074 1758 20 9 2 13 4 2996 1 90 914 90 18 23 14 332 3 91 171 47 404 26 22 3 2687 1 2 13 4 1155 271 5 33 3 7 249 1554 19 1 4 286 5 25 43 4265 1490 1 2 350 117 3 469 27 4802 3 111 140 493 9 2 10 4 226 192 5 6014 1 1 5278 1054 1 2 2 2 13 132 3 400 17 224 11 9 9 2 2 2 350 92 2090 18 1 7 101 8 14 2806 6 315 5 6229 1 5667 1 4140 1 5974 31 1 2 1183 4 994 5 35 11 2 10 4 1328 5 21 78 2299 31 1 21 167 116 10 37 3 7 65 3 7 65 1 41 6 221 753 23 58 120 567 981 1103 1182 1 2 10 537 3813 6 928 157 81 431 6 1103 1711 1795 1 1 1 64 3 84 359 14 365 11 9 2 10 209 18 3 28 3 6 224 23 478 1 132 170 94 14 813 52 1 2 10 117 3 149 28 3 99 106 2171 24 2700 26 248 1 25 804 79 104 4662 1331 1 2 13 32 3 503 1 2 244 4 436 591 3 92 253 6365 5 21 51 3 25 602 5946 70 278 18 15 104 70 99 55 12 1676 16 12 62 288 31 1 2 42 28 3 102 9 27 320 23 29 207 9 2 13 4 1509 5 8 121 19 73 3 132 9 2 10 12 89 638 1 2 10 43 24 54 38 12 1552 1 4 566 5 15 29 687 1 2 42 37 1 1699 364 44 1551 20 88 21 16 85 3802 624 1 1 1 2 290 15 96 139 111 532 629 3 7 53 63 332 3956 2821 135 509 68 1847 3381 9 2 11 2 4470 7 326 43 1 2 2701 4 2484 5 7 261 7 212 352 1025 20 3653 1 2 34 4 14 28 5 7 862 12 55 14 65 197 1 15 25 1089 3968 3 6 409 23 6 4341 16 2936 1 60 409 1 2 616 1595 9 789 1 2 290 159 2494 1 70 409 4 613 925 5 409 4 613 925 5 2 909 1 554 815 16 6 1432 20 2412 1439 1 70 3499 6107 57 12 559 50 36 12 649 4103 40 22 1 2 13 64 3 64 3 7 249 322 16 18 3 31 1 62 12 2675 1014 1 2 10 1252 170 79 187 792 192 36 33 649 2907 1 2 13 206 3 97 29 3 31 1 95 16 38 8 48 14 1270 6594 145 1 35 119 135 116 1 2 74 28 3 7 5344 8 577 19 224 1 2 13 4 2484 5 96 53 18 9 2 10 87 3 307 128 328 645 6026 1 7 269 1627 1252 6 250 176 1 2 13 62 12 2820 3 31 1 38 27 6230 158 609 44 151 26 12 36 236 3 411 197 20 6 112 1 92 58 829 91 4613 192 1 40 43 1 1 1 2 795 37 3 135 8 475 22 17 4 1593 5 6 470 9 2 10 32 3 28 3 7 106 6 971 1131 937 1 66 8 153 2729 22 11 2 13 2655 3 7 10 43 174 3 229 116 8 647 12 3867 52 16 6 1925 633 15 77 5868 111 61 345 1 1417 18 44 11 2 34 785 3 2 13 175 1 41 230 7 143 14 322 75 91 245 3954 14 56 22 6493 50 1 2 46 8 182 40 6 115 8 54 1160 45 1 8 120 95 914 15 97 50 36 12 3689 19 4428 14 38 6 2480 5326 52 80 1 2 13 4 1030 591 5 93 292 37 3 37 3 37 3 172 764 3 174 1 41 307 61 60 163 125 3792 1 334 1541 12 115 80 54 12 86 1132 3750 1860 3847 24 648 1 2 13 277 27 6385 1570 3 470 2835 1 25 79 3 40 3 1079 4564 8 1 2 10 51 3 4250 12 2526 93 1 7 2228 7 379 1 2 10 4 2464 199 5 206 3 37 69 1 8 170 304 372 1 2 42 235 83 61 3 31 1388 1 2179 1388 1 2 46 562 1 6 661 23 3 36 155 61 2592 3 8 249 44 1363 14 152 405 298 33 125 1 2 54 36 6 972 11 2 10 1749 128 3 4340 1 56 52 16 80 9 189 1783 57 6653 26 6 972 15 88 4721 1 2 10 75 14 109 1553 1 211 1826 11 2 13 4 5706 2244 5 32 3 49 12 172 1810 3 932 1 1 1 94 466 50 326 1 17 2243 1 2 13 394 9 2243 9 2 2 2 2785 6 1401 14 6 485 624 23 325 15 2808 1 7 182 3 108 8 95 3 31 1 187 97 36 22 15 5137 14 6 485 624 11 2 10 4 448 5 32 3 1118 1 17 802 2597 20 6408 6 4 536 3 399 1 2 160 64 35 48 8 368 3 313 11 2 977 7 54 6316 6 1381 26 1603 1795 1 2 160 49 1603 26 9 1473 9 2 34 547 3 35 85 1450 1 2 46 32 86 3 147 77 79 53 26 85 5714 11 2 10 238 1 7 47 2333 5 70 37 9 70 37 3 62 69 9 70 30 9 70 37 9 2 42 4 1207 2065 390 5 30 1 2 34 4 1207 5319 390 5 2 42 30 3 31 3 66 7 408 36 12 2161 11 2 10 37 3 270 398 80 3 6481 1 2 2 2 13 2753 1 4 1575 199 5 2 2549 27 3835 16 12 4438 5448 23 3486 3 28 1 7 632 48 14 577 18 1 2 13 232 1 1 2 204 4 3688 5 664 3 202 9 62 1727 22 1 2 694 33 3 25 63 1 4 92 14 31 3 367 5 544 1170 781 921 1 4 253 14 895 16 21 124 4084 21 5 781 921 1 1 1 2 13 4 253 5 403 3 781 921 1 1 1 14 449 5 20 2900 26 6 140 360 3 251 1868 177 1076 3431 1676 1 4 947 312 3 92 699 383 5 2 13 394 456 9 3 6 2127 1 334 8 56 1357 2594 52 3 133 33 2274 68 38 1 60 144 81 2638 6 3250 488 1 2 13 4 314 5 7 103 19 550 11 2 46 4 766 5 31 3 49 38 4910 1 23 174 103 19 870 11 23 132 19 216 11 23 28 19 29 207 201 1590 1 2 10 872 1003 3 165 11 1 1 1 4 433 68 209 5 117 3 175 81 98 1876 2602 5611 45 15 13 25 149 75 27 209 3 31 1 2 10 381 3 49 39 90 51 1 19 1048 209 54 270 3 41 18 54 105 179 4112 7 329 14 6 1088 3 21 33 3 62 1145 407 6 3019 1 1 1 16 1376 12 1338 1 21 2 10 30 3 132 1 147 831 19 108 58 450 3 133 184 14 44 12 1924 26 6 1049 3 12 1924 26 6 1753 3 15 537 38 44 12 306 806 1 11 2 10 4 314 5 1060 44 38 21 102 68 22 9 25 12 2847 493 20 12 1546 9 21 2 10 4 1487 5 117 3 11 2 42 4 5549 123 5 7 65 3 41 49 43 914 1 202 198 22 3 28 1 2 13 8 453 14 6 69 129 1 13 51 3 72 18 299 89 679 21 25 63 1742 17 176 637 1 21 4 3128 5 295 77 23 1 2 42 4 6102 12 1 132 3 8 120 1739 146 50 80 15 426 17 266 9 2 42 7 93 1 99 94 4907 2266 9 2 13 132 1 1 1 2 299 90 406 90 161 830 1 761 23 3 161 6457 4745 2934 1 2 46 6 1797 191 44 4815 1 7 345 188 1 1011 181 45 1 7 55 12 1422 1433 167 2429 14 269 6533 1 839 3 4430 1433 1 2 2624 43 1289 1 2 13 4 14 581 3 1890 5 60 22 9 2 13 336 19 9 6 474 1872 135 44 3668 1 2 2954 47 139 22 71 14 252 1 2 13 43 8 38 459 2 13 3757 6524 11 71 66 7 1169 11 2 10 620 1 2 2 2 34 56 100 9 2 10 15 603 52 9 2 10 56 64 142 5079 29 662 3061 1 2 46 4 1793 5 30 3 81 269 146 680 20 6 1664 3 425 9 2 817 23 80 12 761 2 2 2 13 941 3 31 9 119 524 128 17 1006 9 2 10 33 373 1 39 642 6 835 4661 20 6 1193 6536 1 864 53 3 5424 1 99 55 85 2014 1457 12 832 1 2 160 4 448 5 627 3 39 40 29 21 4497 6259 1 21 137 1139 14 21 2 74 32 3 142 29 6 639 86 843 225 1 347 3 363 55 5270 115 1 2 160 27 3430 23 14 256 6 3332 2201 1 2 148 25 836 15 814 1 2 13 60 17 89 3515 1 2 148 347 3 255 1 229 78 1 2 13 30 3 1437 18 13 547 31 3 193 106 12 333 1483 1728 1 2 10 8 121 19 73 1 2 13 64 3 111 104 3 60 35 25 528 75 1312 1 2 46 388 3 59 3 108 8 300 75 19 455 3 27 259 4439 36 3 59 1 1 1 35 53 8 220 18 11 138 14 78 1 2 13 86 3 6535 6 205 115 31 1098 24 11 2 46 30 3 28 9 235 218 9 2 34 30 28 3 13 7 47 56 18 1 2 148 4 636 3 2079 5 2231 52 21 96 509 12 5078 1 21 2 13 147 6 1839 11 2 148 1130 1194 4324 1 2 10 693 1 2 13 25 149 7 678 8 3 31 1 2 10 117 3 60 87 1 49 40 17 255 288 12 21 112 1 21 49 144 7 78 14 152 21 499 3 21 295 23 6 3494 2920 16 27 2283 1 2 5700 4 699 5 28 6 417 3824 12 86 98 3639 14 88 209 23 2511 1 2 46 8 1086 6 1292 11 2 34 8 65 7 127 1 2 46 38 218 1 2 377 87 3 5652 1 35 3349 3 2475 268 1622 612 3 23 212 76 5491 15 3641 11 2 34 71 75 21 1622 2730 324 58 2929 3133 48 106 3134 268 6 4677 1 2 46 30 3 35 57 8 397 20 45 11 2 1786 4 38 357 5 25 85 4 418 5 60 378 1160 1 2 13 32 107 3 18 54 812 1 7 444 119 1735 12 614 2132 86 1 2 10 117 3 51 7 415 8 7 1661 8 11 2 2744 4 566 199 5 24 241 40 12 316 26 17 2889 3382 1 2 10 43 71 179 8 5006 1 1 1 43 515 3 72 8 121 19 592 123 3 15 927 18 192 67 2 244 4 5636 3 2318 5 7 65 3 7 65 11 2 74 139 19 330 49 151 2176 8 15 113 1 2 244 231 1 230 134 20 6 648 1 7 5821 1 2 10 30 119 413 23 933 1 2 46 273 641 45 7 97 9 2 10 6453 103 198 36 17 4624 2354 9 2 10 4 534 5 7 55 344 174 11 2 34 100 11 2 34 33 157 9 2 13 297 53 90 7 116 118 96 48 27 2275 1 4 2034 5 334 7 109 76 6 1846 1 2 13 30 3 43 57 6 3347 2983 1 4 314 5 67 4 506 199 5 2 545 1660 6 1652 3 41 99 759 43 1 2 13 15 8 66 553 36 19 1 2 10 3459 1 2 13 447 1 80 57 2859 16 245 2781 26 22 14 6780 4 5811 5 30 3 8 101 17 582 11 2 13 56 197 64 3 1059 1 4 2467 301 5 2 13 43 325 3 1059 1 4 185 609 1 7 103 48 14 78 14 6 2386 15 25 52 16 6252 1 2 42 8 65 3 7 443 16 12 164 5919 276 144 113 1 2 10 117 3 51 3 2546 7 120 65 150 75 12 1047 3 7 282 24 129 1 2 10 24 4134 23 5798 1 77 2 10 59 3 222 119 3 71 66 7 213 24 6061 11 7 47 55 378 470 20 24 185 14 109 8 102 83 1 2 74 16 1359 1796 1 21 15 33 61 153 158 1 2 10 117 3 176 23 83 1 2 34 30 3 35 318 11 49 1460 20 6 11 30 3 131 818 715 161 138 12 6741 2506 1 2 772 8 411 22 762 45 38 682 1 1 1 2 772 4 1117 5 1 11 2 13 125 40 3 144 168 7 256 18 1 18 54 6572 3028 1 2 74 28 3 25 149 8 444 19 3 41 7 54 2 10 4 738 5 3614 3 4640 3 5272 3 2682 3 569 271 1 1 1 2 1295 15 3 7 374 14 3447 407 6 203 21 13 8 65 3 7 252 327 83 1 175 7 191 39 269 791 675 16 184 122 12 4302 3 4490 112 1 2 10 56 20 45 6 648 15 6 112 23 1038 1 2 234 25 553 68 251 5781 4305 3 144 137 692 323 76 6 3307 16 6 4356 2032 1436 3 11 7 525 304 8 268 8 181 24 520 1 2 46 4 5628 5 7 66 1818 128 6 520 1767 9 2 2832 4 766 5 293 35 114 8 888 14 56 27 243 3 28 11 2 13 4 1314 5 189 2290 1317 2025 19 453 20 6 2608 1 2 13 4 216 70 25 52 1 70 25 368 1 2 13 4 1976 5 96 104 27 713 1651 15 2462 8 61 1222 1 2 502 51 3 25 52 368 6 134 19 110 62 45 26 1 25 528 4097 45 1 2 502 4 1223 5 38 69 3 7 944 18 1 7 114 770 1494 670 269 27 4215 6760 29 3 1007 1 99 304 8 56 442 105 369 612 1 2 734 25 63 79 141 100 122 17 575 3 118 2626 247 1 2 10 400 27 243 254 3 28 11 2 13 376 63 536 637 1 2 10 35 11 49 215 16 113 7 213 20 16 8 171 11 2 46 137 27 5196 9 64 97 29 3 338 1643 901 3 48 12 82 9 2 204 7 93 67 7 265 44 1 472 421 1009 1 2 34 4 1155 271 5 63 24 225 1 2 46 231 3 24 225 9 2 204 8 65 3 28 3 401 17 3277 1 2 5594 4 1645 6415 259 5 152 118 96 450 1 2 13 159 12 279 1 7 261 8 168 187 56 623 1 2 2 10 28 1 1 1 24 2739 155 26 333 5233 1 15 171 29 4129 4927 3 40 22 1 35 11 35 57 8 38 522 68 9 2 877 4 1071 1211 5 41 92 144 135 7 78 14 56 323 76 17 243 9 1738 3 31 3 8 406 3 5869 1157 9 3 1166 16 236 429 1 264 2562 12 270 435 1 2 1180 4 2315 5 706 1 1 1 706 1 1 1 4 140 5639 5 2 589 21 23 26 31 3 6 2006 16 173 1 21 773 21 23 26 6 21 773 21 20 6 1879 16 173 1 21 3952 21 23 1266 2078 3 12 5441 1838 118 573 3067 1 2 10 25 39 184 14 220 6 1161 2162 64 1 4 2136 5 15 1404 3248 17 742 173 6 157 18 23 3 38 69 11 15 7 170 2991 18 26 211 1141 3 2496 3 5132 3 118 4065 1 2 74 7 138 12 219 1 2 2642 4 501 310 14 3964 4191 5 1936 16 2194 3 17 543 11 2 1786 51 308 8 3 27 2428 1 8 65 3 32 202 3 63 24 225 1 2 13 771 3 116 217 14 401 1 2 13 4 1278 289 5 6013 1 2 991 4 21 110 63 13 4759 645 821 305 15 5186 1 1 1 713 645 9 2 13 25 327 273 36 24 403 3 64 49 6224 343 1 2 10 32 2087 5 15 17 6740 3 137 355 69 14 6 815 9 4 6246 2377 3633 199 5 208 1 2 568 24 23 61 5408 84 47 40 1 2376 14 415 352 1 4 489 982 5 2 10 147 18 116 11 2 2 2 46 4 1223 5 104 111 609 3 28 1 58 48 14 213 6 210 29 12 6728 14 3682 2081 3 92 96 44 73 14 78 14 1744 9 2 148 4 2765 5 255 3 72 8 3 24 4790 6022 1 97 4495 27 1792 407 18 1 2 46 30 1827 3 863 12 247 144 7 548 2473 4301 15 3245 6363 1 2 284 1 2 10 132 3 71 53 8 269 551 73 20 11 2 42 25 12 216 1 7 47 65 331 75 71 7 53 303 1 51 33 373 1 96 39 564 6 200 20 19 1809 851 6 784 1 2 10 124 138 3292 22 85 1695 6238 1 191 7 1238 24 82 5 27 2037 1649 3 15 6 6264 828 4 433 14 207 5 1 2 46 51 3 23 80 303 20 24 112 60 212 20 998 9 39 47 442 22 9 2 13 4 439 5 87 327 210 3 400 348 6000 713 393 11 2 10 4 814 5 102 3 5419 7 21 6159 9 21 2 10 87 1 2 13 219 3 31 1 71 66 7 153 5834 8 11 2 10 30 3 91 267 182 125 14 108 77 1113 22 14 6 2717 2447 20 6666 11 2 136 4 3266 5 6 2717 2447 11 9 297 548 38 6 172 665 2516 3 31 91 4111 15 67 4 6409 150 5 8 225 11 9 2 13 35 6 309 23 24 134 11 2 2 2 46 35 23 18 3 31 85 1091 26 6364 4313 1 2 10 35 6 11 9 99 106 4130 4294 1516 14 19 11 9 2 1191 41 35 8 240 75 28 49 123 14 1477 274 1404 862 43 179 6023 122 126 871 1 2 34 8 65 84 7 93 586 11 19 5242 4742 1 542 61 115 7 1 2 148 388 31 3 8 162 172 747 1 2 13 4 2533 5 37 1 35 48 8 368 36 6 333 31 11 2 2 2 10 238 3 60 79 1148 111 1 2 13 99 55 5915 2101 25 522 14 1253 3 31 9 2 10 165 11 2 13 4 1328 5 14 6 672 3 7 379 48 2740 5859 45 90 630 399 1 2 160 4 14 4279 5 322 19 3 3530 11 6 972 677 1051 9 1 2 10 15 6 4775 1284 1 1 1 6 6425 16 6 3640 2932 1 2 10 347 3 4989 1 2 10 8 2861 18 36 12 11 9 7 98 94 53 150 40 19 9 4 578 5 98 7 11 2 160 110 47 8 356 6 653 84 5364 6 2378 11 63 2 13 1455 1 1 1 6 155 373 23 3 25 130 14 3017 91 1741 16 536 195 15 1327 709 1 33 967 96 4051 19 90 100 20 11 2 244 8 182 3350 4823 11 2 2731 4 3059 296 259 5 30 9 2 2731 25 69 45 1 2 244 149 1 2 1 187 97 11 2 2203 33 1 2 34 4 2531 5 49 87 3 7 1190 1 2 34 4 14 581 5 2491 522 68 12 1425 57 29 174 1 2 13 4 436 5 7 47 101 27 1119 470 1 96 408 26 18 352 1 2 10 59 3 7 120 278 36 82 9 2 13 544 1 1 1 401 1009 22 14 300 14 8 1 2 204 4211 9 945 58 2812 850 3 118 6 2959 11 2 186 362 321 6 5656 183 77 114 355 20 1 2 34 116 28 3 62 333 83 68 24 1 95 8 98 588 17 1329 2070 26 2164 3 165 11 4 2008 5 1422 5793 5677 14 19 203 1 1 1 4 717 5 25 79 121 18 1 2 10 1000 340 3 283 1112 4499 197 122 917 8 38 223 1433 1 2 13 4 2144 5 7 242 7 48 33 1334 1 2 2 2 10 147 351 36 27 13 4 3048 105 179 5 32 37 3 37 3 60 35 7 1859 105 1 7 48 33 1 1 1 4178 1 1 1 2 10 55 3 8 65 1 1 1 2 34 32 3 69 9 222 3 28 3 532 816 318 73 20 520 455 1 1 1 2 13 4 788 12 5283 3 562 19 23 1 2 234 24 23 932 1146 36 12 740 2050 6559 6 1898 758 1 2 234 503 5560 5468 5836 1 12 2 34 238 3 30 382 9 382 3 382 3 382 9 2 13 4 403 300 5 217 382 1 1 1 217 382 1 2 46 30 1 1 6124 1 2 892 19 54 1600 68 3372 1 7 54 759 434 44 1101 20 6 333 22 1 2 10 57 8 793 22 11 71 135 8 1090 12 653 281 3759 1876 41 59 3 20 91 157 1 1 1 12 89 1216 11 2 34 8 182 40 71 58 1090 51 3 72 99 618 303 76 931 3392 3 23 19 193 55 14 109 12 986 3 3885 4945 3 6 324 19 241 40 18 265 1253 44 17 194 1 1 1 2 13 4 14 283 5 104 3 18 601 1 15 2322 57 39 6 1877 1 133 963 4766 3 3259 3 61 3 1521 6120 5 21 254 6 251 4937 4579 54 6339 20 6 611 16 12 1074 164 882 1 1 1 4 498 5 262 1 2601 1229 11 2 46 4 1002 5 35 11 8 95 39 215 25 790 7 65 38 245 790 171 11 2 13 51 3 7 1 1 1 10 4 2373 732 5 331 1 2 10 4 285 5 39 334 7 345 3058 70 135 2456 73 88 960 70 15 1829 22 12 2600 70 24 82 1 2 74 4 1532 5 18 1714 40 1 1 1 3660 9 70 18 1714 40 481 1305 9 2 74 18 1714 40 602 6062 753 14 162 8 1 2 10 49 12 672 76 28 1 29 17 2501 1 20 17 5005 1 837 17 6141 15 1066 2119 1 15 18 95 3 119 11 158 8 162 31 12 722 11 2 74 178 3 51 1 1 1 2 10 175 8 143 12 89 125 21 916 16 12 5930 593 6501 70 15 92 108 25 1823 3 96 78 311 27 2577 70 41 8 98 53 563 1 1 1 2 74 7 98 53 12 778 11 21 7 443 75 19 20 2709 455 3 41 7 94 304 18 531 1 2 10 32 3 24 23 228 83 26 22 1 911 105 11 7 187 121 12 3922 43 25 4833 26 6 5551 2003 1 2 337 51 1 1 1 25 6176 1 78 1387 1 2 34 15 81 1656 27 228 2723 9 2 13 4 2049 5762 5 238 9 58 1656 27 228 2723 1 2 34 49 3955 1 424 23 64 563 3638 19 6304 5726 819 54 184 14 5888 1 2 13 87 3 175 7 6667 1 41 193 106 43 2627 1 1 1 21 25 1289 3 769 4607 9 4 874 50 769 4960 396 21 1109 27 218 21 5 15 6195 4241 26 27 1099 1 294 1 43 8 66 121 27 6528 1 2 13 4 5865 483 5 70 4 2558 2077 483 5 2 13 38 69 9 38 69 9 2 13 25 355 195 1 49 63 889 2393 994 289 5 37 3 60 660 12 83 61 1 45 3 7 55 532 19 265 1056 111 50 1 2 10 7 55 24 26 1095 5 6 846 1 1 1 2 4959 4 5308 271 20 3 1276 5 6 2185 1 1 1 2 2 2 46 86 3 8 130 987 19 32 37 11 71 628 24 1967 209 11 4 1967 483 5 2 136 7 66 104 19 123 1393 23 12 2292 86 1 2 10 4 286 2 2 136 30 3 255 1 2 13 4 440 5 30 425 3 3488 358 11 2 136 447 1 7 54 1283 8 15 27 284 98 155 5316 154 6 5803 1 4 289 5 53 8 1190 35 7 3897 52 80 11 2 2388 6 5349 14 1501 6 360 23 2178 1 2 2800 1 2 10 4 2845 5 59 222 3 28 67 7 65 12 129 84 4342 267 26 1189 84 143 267 2096 1 41 3 59 3 1 2 188 1 5629 4 230 271 5 1 1 1 391 2570 1 1 1 4 626 271 5 2550 86 1 1 1 4 1052 271 5 50 1 2 10 208 3 278 19 52 9 70 413 23 4474 368 9 70 102 68 236 6681 9 70 15 1 1 1 1823 9 2 2 10 4 840 260 3 92 1391 28 5 336 1605 1569 9 2 1115 536 50 315 29 21 280 16 593 21 1 1 1 2 1115 66 411 211 115 58 101 1 2 46 28 3 110 47 8 39 109 91 125 16 6 5416 405 11 2 13 32 3 274 283 249 2 2001 44 17 1528 1 2 2 2 10 4 1874 5 238 3 12 1583 1 4 1854 180 5 229 104 1 1 1 1583 2438 26 2 13 4 766 5 771 3 8 15 7 57 79 44 1513 183 153 90 58 564 6 1136 16 126 871 2325 19 2355 1 2 262 2 13 758 3 229 524 14 6 2331 1 2 335 37 3 141 22 242 1 62 660 79 53 150 2363 40 398 14 300 22 321 6 227 1 2 13 1094 619 9 14 758 869 15 401 1946 9 2 42 35 12 2867 9 2 46 231 9 14 401 9 2 10 3662 11 21 2 335 51 28 3 8 103 213 61 151 29 196 298 869 3 45 1 4 534 5 219 12 306 3 2004 1 2 2 1719 4 5940 5 586 73 3 28 9 7 65 35 25 397 1 2 34 51 3 58 38 65 35 137 397 1 6 1296 23 28 3 47 428 1 62 68 173 340 67 3695 268 5770 1 2 13 35 6 67 4 2241 5 24 23 12 1752 988 9 2 42 1293 5355 3435 4933 57 607 1 6427 3297 625 14 88 2420 1438 15 81 729 6065 223 6262 54 39 1877 1 6 559 1 21 2 148 9 21 400 6 2010 11 2 545 6 2010 57 64 2225 3 6 3384 2110 23 64 12 1267 3 15 3170 23 64 4263 9 32 9 18 39 55 2060 76 80 1 2 2811 21 554 7 668 18 1392 950 1 515 3 72 62 226 26 27 255 1 77 386 6 266 13 51 25 327 130 18 54 20 80 1673 1 2 727 64 3 141 22 3251 154 3719 31 6 519 26 4826 24 1427 237 810 1589 25 371 975 16 267 40 19 1 2 148 975 16 35 11 7 588 29 8 3 15 8 121 18 67 60 71 2248 601 1 2 1 1812 14 6 1394 16 1379 1 2 2184 137 20 6 1394 16 1379 9 2 555 4 1275 199 5 51 3 19 3703 1 2 555 164 316 11 2 34 233 18 102 40 99 55 12 316 11 2 46 33 3 7 168 1 2 10 28 3 276 12 89 125 5530 9 2 10 2104 9 2 2 2 10 30 3 28 1 7 98 322 27 1720 5624 311 6 541 1 2 13 51 3 110 93 7 106 2827 154 6 134 18 3735 4042 413 9 2 74 7 93 332 137 94 184 14 48 235 1743 1 1 1 4 1733 5 2 34 213 18 20 12 983 4284 26 283 1 2 34 43 400 6 145 64 11 2 13 7 213 18 20 6 989 1 19 185 23 172 2 13 12 2555 6126 23 64 2799 183 85 665 989 1 177 126 1813 3 2520 29 171 2325 274 223 3366 5613 181 105 602 3 97 8 213 27 1792 123 29 223 5765 15 5389 1114 8 322 12 5346 3 1678 1251 50 565 1 2 1185 103 11 62 130 75 24 11 105 1922 1 61 279 62 881 20 27 4311 523 82 3 6 315 134 8 65 62 1018 45 523 82 1 2 377 28 3 27 5472 12 2015 5550 7 66 282 1 2 10 165 1 241 40 62 103 686 532 151 20 27 689 80 3 28 1 2 13 31 3 7 296 1 15 108 25 29 12 465 3 6 1023 23 429 1 2 234 4 2591 5 6 1023 54 12 86 1 88 1806 181 1194 3 21 196 3951 9 21 2 34 4 14 2380 5 147 2298 1 1626 1 773 1 1840 1 11 2 1033 18 735 21 472 6 2833 16 92 7 3788 52 1689 15 29 474 1 2 148 4 2718 5 103 11 2 10 4 717 5 269 17 1214 69 45 20 24 1053 1 2678 9 2 34 872 9 2 46 4 1321 5 110 53 58 288 3862 151 1632 4965 11 2 698 1 1045 8 65 147 103 1241 11 8 1523 421 17 2330 11 2 13 2330 11 4 2264 5 23 19 40 61 16 169 816 3122 2383 267 11 2 698 1 1045 33 3 2 10 1161 1 804 1 25 103 358 18 1 33 125 1367 26 4 5660 5 2653 9 4 950 5 215 24 115 133 33 61 60 1431 1 2 6257 1161 23 6185 70 18 6604 29 369 1910 70 15 7 66 67 2 10 19 1644 18 9 33 125 3026 9 2 10 332 20 674 1 1 1 4 1265 50 5 8 107 3 8 987 22 9 8 53 404 9 2 13 64 159 12 279 1 120 109 60 288 83 26 12 301 1 2 74 33 3 33 3 18 177 14 44 150 140 864 583 88 604 2180 1 4 1675 1021 5 110 7 53 48 24 1985 19 7 2475 352 1 570 615 44 6 227 134 8 153 138 118 6 205 134 297 153 48 1 2 1372 232 14 4056 3 3541 5 63 361 3 196 194 1 41 47 428 3 5585 57 39 192 6 1672 1 2 2 2 10 28 3 7 1647 3 49 115 1 343 18 29 9 343 18 29 9 2 13 344 718 887 26 344 227 284 1 2 10 37 3 7 288 78 36 9 4 260 5 25 43 273 9 4 125 260 5 25 43 273 9 2 13 14 6 227 460 20 6 280 67 145 1 2 13 45 9 7 47 153 101 14 104 19 4891 4457 225 9 2 13 159 12 279 9 5719 4691 20 6 6480 16 1301 5329 9 2 13 4996 76 88 5207 2518 1 2 2 2 13 1915 54 812 361 9 963 3 119 23 20 1352 15 161 168 163 139 22 9 2 10 43 6 2076 57 3 239 115 6 753 129 329 21 1420 3 21 58 120 121 12 152 1 2 34 570 44 270 14 141 292 629 8 1 35 23 6 140 779 11 2 46 4 5388 5 142 397 18 9 142 500 12 272 9 2 34 4 1029 5 884 3 884\n\t [[Node: sequence_loss/SparseSoftmaxCrossEntropyWithLogits/SparseSoftmaxCrossEntropyWithLogits = SparseSoftmaxCrossEntropyWithLogits[T=DT_FLOAT, Tlabels=DT_INT32, _device=\"/job:localhost/replica:0/task:0/device:CPU:0\"](sequence_loss/Reshape, sequence_loss/Reshape_1)]]",
      "\nDuring handling of the above exception, another exception occurred:\n",
      "\u001b[1;31mInvalidArgumentError\u001b[0m                      Traceback (most recent call last)",
      "\u001b[1;32m<ipython-input-101-77aa828b4709>\u001b[0m in \u001b[0;36m<module>\u001b[1;34m()\u001b[0m\n\u001b[0;32m     18\u001b[0m                 \u001b[0minitial_state\u001b[0m\u001b[1;33m:\u001b[0m \u001b[0mstate\u001b[0m\u001b[1;33m,\u001b[0m\u001b[1;33m\u001b[0m\u001b[0m\n\u001b[0;32m     19\u001b[0m                 lr: learning_rate}\n\u001b[1;32m---> 20\u001b[1;33m             \u001b[0mtrain_loss\u001b[0m\u001b[1;33m,\u001b[0m \u001b[0mstate\u001b[0m\u001b[1;33m,\u001b[0m \u001b[0m_\u001b[0m \u001b[1;33m=\u001b[0m \u001b[0msess\u001b[0m\u001b[1;33m.\u001b[0m\u001b[0mrun\u001b[0m\u001b[1;33m(\u001b[0m\u001b[1;33m[\u001b[0m\u001b[0mcost\u001b[0m\u001b[1;33m,\u001b[0m \u001b[0mfinal_state\u001b[0m\u001b[1;33m,\u001b[0m \u001b[0mtrain_op\u001b[0m\u001b[1;33m]\u001b[0m\u001b[1;33m,\u001b[0m \u001b[0mfeed\u001b[0m\u001b[1;33m)\u001b[0m\u001b[1;33m\u001b[0m\u001b[0m\n\u001b[0m\u001b[0;32m     21\u001b[0m \u001b[1;33m\u001b[0m\u001b[0m\n\u001b[0;32m     22\u001b[0m             \u001b[1;31m# Show every <show_every_n_batches> batches\u001b[0m\u001b[1;33m\u001b[0m\u001b[1;33m\u001b[0m\u001b[0m\n",
      "\u001b[1;32md:\\software\\mambaforge\\envs\\deep-learning_2\\lib\\site-packages\\tensorflow\\python\\client\\session.py\u001b[0m in \u001b[0;36mrun\u001b[1;34m(self, fetches, feed_dict, options, run_metadata)\u001b[0m\n\u001b[0;32m    887\u001b[0m     \u001b[1;32mtry\u001b[0m\u001b[1;33m:\u001b[0m\u001b[1;33m\u001b[0m\u001b[0m\n\u001b[0;32m    888\u001b[0m       result = self._run(None, fetches, feed_dict, options_ptr,\n\u001b[1;32m--> 889\u001b[1;33m                          run_metadata_ptr)\n\u001b[0m\u001b[0;32m    890\u001b[0m       \u001b[1;32mif\u001b[0m \u001b[0mrun_metadata\u001b[0m\u001b[1;33m:\u001b[0m\u001b[1;33m\u001b[0m\u001b[0m\n\u001b[0;32m    891\u001b[0m         \u001b[0mproto_data\u001b[0m \u001b[1;33m=\u001b[0m \u001b[0mtf_session\u001b[0m\u001b[1;33m.\u001b[0m\u001b[0mTF_GetBuffer\u001b[0m\u001b[1;33m(\u001b[0m\u001b[0mrun_metadata_ptr\u001b[0m\u001b[1;33m)\u001b[0m\u001b[1;33m\u001b[0m\u001b[0m\n",
      "\u001b[1;32md:\\software\\mambaforge\\envs\\deep-learning_2\\lib\\site-packages\\tensorflow\\python\\client\\session.py\u001b[0m in \u001b[0;36m_run\u001b[1;34m(self, handle, fetches, feed_dict, options, run_metadata)\u001b[0m\n\u001b[0;32m   1118\u001b[0m     \u001b[1;32mif\u001b[0m \u001b[0mfinal_fetches\u001b[0m \u001b[1;32mor\u001b[0m \u001b[0mfinal_targets\u001b[0m \u001b[1;32mor\u001b[0m \u001b[1;33m(\u001b[0m\u001b[0mhandle\u001b[0m \u001b[1;32mand\u001b[0m \u001b[0mfeed_dict_tensor\u001b[0m\u001b[1;33m)\u001b[0m\u001b[1;33m:\u001b[0m\u001b[1;33m\u001b[0m\u001b[0m\n\u001b[0;32m   1119\u001b[0m       results = self._do_run(handle, final_targets, final_fetches,\n\u001b[1;32m-> 1120\u001b[1;33m                              feed_dict_tensor, options, run_metadata)\n\u001b[0m\u001b[0;32m   1121\u001b[0m     \u001b[1;32melse\u001b[0m\u001b[1;33m:\u001b[0m\u001b[1;33m\u001b[0m\u001b[0m\n\u001b[0;32m   1122\u001b[0m       \u001b[0mresults\u001b[0m \u001b[1;33m=\u001b[0m \u001b[1;33m[\u001b[0m\u001b[1;33m]\u001b[0m\u001b[1;33m\u001b[0m\u001b[0m\n",
      "\u001b[1;32md:\\software\\mambaforge\\envs\\deep-learning_2\\lib\\site-packages\\tensorflow\\python\\client\\session.py\u001b[0m in \u001b[0;36m_do_run\u001b[1;34m(self, handle, target_list, fetch_list, feed_dict, options, run_metadata)\u001b[0m\n\u001b[0;32m   1315\u001b[0m     \u001b[1;32mif\u001b[0m \u001b[0mhandle\u001b[0m \u001b[1;32mis\u001b[0m \u001b[1;32mNone\u001b[0m\u001b[1;33m:\u001b[0m\u001b[1;33m\u001b[0m\u001b[0m\n\u001b[0;32m   1316\u001b[0m       return self._do_call(_run_fn, self._session, feeds, fetches, targets,\n\u001b[1;32m-> 1317\u001b[1;33m                            options, run_metadata)\n\u001b[0m\u001b[0;32m   1318\u001b[0m     \u001b[1;32melse\u001b[0m\u001b[1;33m:\u001b[0m\u001b[1;33m\u001b[0m\u001b[0m\n\u001b[0;32m   1319\u001b[0m       \u001b[1;32mreturn\u001b[0m \u001b[0mself\u001b[0m\u001b[1;33m.\u001b[0m\u001b[0m_do_call\u001b[0m\u001b[1;33m(\u001b[0m\u001b[0m_prun_fn\u001b[0m\u001b[1;33m,\u001b[0m \u001b[0mself\u001b[0m\u001b[1;33m.\u001b[0m\u001b[0m_session\u001b[0m\u001b[1;33m,\u001b[0m \u001b[0mhandle\u001b[0m\u001b[1;33m,\u001b[0m \u001b[0mfeeds\u001b[0m\u001b[1;33m,\u001b[0m \u001b[0mfetches\u001b[0m\u001b[1;33m)\u001b[0m\u001b[1;33m\u001b[0m\u001b[0m\n",
      "\u001b[1;32md:\\software\\mambaforge\\envs\\deep-learning_2\\lib\\site-packages\\tensorflow\\python\\client\\session.py\u001b[0m in \u001b[0;36m_do_call\u001b[1;34m(self, fn, *args)\u001b[0m\n\u001b[0;32m   1334\u001b[0m         \u001b[1;32mexcept\u001b[0m \u001b[0mKeyError\u001b[0m\u001b[1;33m:\u001b[0m\u001b[1;33m\u001b[0m\u001b[0m\n\u001b[0;32m   1335\u001b[0m           \u001b[1;32mpass\u001b[0m\u001b[1;33m\u001b[0m\u001b[0m\n\u001b[1;32m-> 1336\u001b[1;33m       \u001b[1;32mraise\u001b[0m \u001b[0mtype\u001b[0m\u001b[1;33m(\u001b[0m\u001b[0me\u001b[0m\u001b[1;33m)\u001b[0m\u001b[1;33m(\u001b[0m\u001b[0mnode_def\u001b[0m\u001b[1;33m,\u001b[0m \u001b[0mop\u001b[0m\u001b[1;33m,\u001b[0m \u001b[0mmessage\u001b[0m\u001b[1;33m)\u001b[0m\u001b[1;33m\u001b[0m\u001b[0m\n\u001b[0m\u001b[0;32m   1337\u001b[0m \u001b[1;33m\u001b[0m\u001b[0m\n\u001b[0;32m   1338\u001b[0m   \u001b[1;32mdef\u001b[0m \u001b[0m_extend_graph\u001b[0m\u001b[1;33m(\u001b[0m\u001b[0mself\u001b[0m\u001b[1;33m)\u001b[0m\u001b[1;33m:\u001b[0m\u001b[1;33m\u001b[0m\u001b[0m\n",
      "\u001b[1;31mInvalidArgumentError\u001b[0m: Received a label value of 6780 which is outside the valid range of [0, 6780).  Label values: 1242 1 2 10 4 122 180 5 392 29 3 96 278 1 4 14 619 5 1042 1242 1 1042 1242 1 30 3 177 723 304 1042 6 559 1 2 42 60 38 69 1 7 473 48 5475 12 4003 176 1 2 42 43 6 315 115 823 1799 8 5501 2862 57 83 3 6 5760 3 17 4854 3 263 1 2 13 114 18 246 11 2 42 25 12 395 86 3 170 7 11 2 42 208 9 2 319 3 671 11 2 13 6 711 315 541 980 911 9 2 990 4 5342 5 7 531 14 44 19 711 1 2 13 32 3 22 10 117 3 357 23 883 1 171 361 57 5565 15 451 622 1 8 65 3 72 18 539 26 6 1480 520 455 315 541 33 61 511 28 21 1 2 10 87 3 110 47 8 109 146 50 12 695 16 21 511 2250 21 11 2 13 30 31 3 8 55 211 3800 4895 1 2 42 232 3 18 103 601 1 2 935 4 5471 5 96 44 73 1 2 13 31 3 7 525 304 6 185 24 2 756 7 2429 14 121 17 5087 3761 602 1 2 10 7 40 27 4574 3 296 1 62 2740 1 2 756 8 2151 2487 24 1 323 12 496 1222 354 40 19 1 2 10 4 14 1563 5 25 149 3 41 6 412 1284 4239 36 22 1 2 6319 4 14 31 3 7 39 212 12 680 1566 389 605 6 1309 1 264 517 3 410 520 3 60 17 4898 1 7 632 39 469 17 316 68 6 2 10 4 122 180 5 173 340 1 31 996 1 2 148 4 122 180 5 59 231 3 25 226 26 12 737 1 1173 1 230 867 5 4 314 5 60 172 9 30 3 135 8 579 19 196 597 8 374 14 579 26 22 11 2 148 4 12 89 1285 5 62 460 639 11 2 294 1 349 231 1 2 13 87 3 221 5727 1 43 141 22 356 8 24 3 233 27 145 153 1838 8 83 23 145 72 8 93 2622 4852 20 27 1094 86 11 4 5606 5 99 55 14 56 17 826 73 9 2 2 2 10 173 340 87 3 111 718 711 1 2 10 45 8 78 3 28 1 12 305 15 3413 389 1 2 13 4 3731 5 7 374 14 459 6 35 11 420 19 1 2 13 7 138 6 663 1617 16 38 3 12 89 272 84 98 431 4614 15 7 1412 18 1 2 1471 51 2 491 78 9 78 9 78 9 78 9 78 9 1111 9 9 2 6510 49 12 1755 26 4287 2301 5024 9 218 783 177 880 6 1 219 26 1615 22 949 1 2 42 33 373 1 4 14 382 5 51 3 51 3 72 18 299 89 287 1 4 3338 1963 5003 269 5637 9 2 13 4 253 5 1343 2715 249 8 97 52 254 70 97 52 254 70 97 52 254 1 1 1 32 1343 2715 1 317 12 1368 1247 1 2 13 1549 9 1368 1247 1 133 40 214 16 169 1 19 1429 54 61 16 12 324 1 2 1106 28 3 1 1 1 33 1 2 13 71 75 8 3 132 11 2 42 63 26 12 626 4 922 5 1 2 13 4 560 5 7 143 1 155 2257 389 14 6387 1 2 13 30 3 132 3 158 8 162 22 2257 393 26 24 3803 726 11 2 42 130 9 2 13 3 47 577 211 82 237 25 478 1 2 42 4 1155 88 271 5 35 324 16 1720 216 53 8 121 22 26 11 4 507 5 794 5 7 95 749 53 39 447 1 2 10 4 14 132 5 2614 6762 11 710 8 56 113 11 2 42 178 3 363 106 522 31 67 76 27 412 5941 1 21 2 42 4 876 12 89 2116 5 2417 456 9 2 10 32 3 166 3 33 1 2 2 2 3 997 602 6241 5157 1 135 8 107 40 14 2620 29 12 486 6 5935 634 11 2 5253 4 1692 5 130 67 72 8 56 146 14 308 8 266 1 2 148 60 745 3 486 1 2 136 137 371 4632 16 6 2442 3965 1 2 290 4 498 5 35 9 11 631 17 1650 1331 2381 9 2 860 28 3 25 12 3386 1431 3 15 7 101 14 1046 27 843 1 2 13 103 11 2 860 37 1299 1 2 204 4 285 5 17 1299 1 1 1 1 2 616 4 1093 5 132 767 3 600 94 9 132 767 3 600 94 9 2538 20 12 3533 2993 1 2 10 45 8 78 1 2 2 2 136 58 65 62 6 61 516 24 1 43 1437 18 128 118 137 8 48 701 20 5988 1 21 2 13 132 1 19 23 43 2236 1 71 114 8 97 50 36 19 11 2 42 18 54 29 61 1 278 36 6 1315 3 7 48 12 6717 1 7 48 12 3066 1 2 1398 4 2198 5 178 3 186 121 729 16 236 1 2 786 17 430 633 1 2 74 33 3 33 3 33 1 33 3 356 27 575 35 1610 3601 5953 23 1 2 13 1304 1 1 1 105 5085 26 6 803 8 57 837 1 8 143 150 6334 3 125 4248 1 45 3 282 17 803 1 2 74 33 1 1 1 33 3 130 134 3 174 1 2 10 291 9 291 9 238 9 291 9 12 1425 20 6 497 1688 1 4 314 5 172 1869 3 748 25 724 27 3301 123 76 3877 1 6226 1 2 10 15 25 2509 27 802 597 52 16 6 3980 702 1 2 13 4 507 5 21 14 465 27 1184 20 2842 1 2 13 4 226 68 88 1184 5 1921 3 31 3 7 282 189 38 6 115 1 473 8 39 2055 3 7 1198 40 24 1335 1 2 10 4 2073 5 32 3 85 799 210 3 178 11 8 65 58 987 27 720 20 280 593 131 80 57 934 607 20 45 9 2 4246 25 2083 151 492 1216 4147 20 6 662 1 2 2782 38 69 3 263 52 9 90 325 90 1 1 1 60 17 638 111 1 1 1 111 1 1 1 238 3 238 3 8 1662 17 638 9 2 4950 524 9 2 3495 32 46 206 3 41 31 3 6 1129 1 6 1129 9 2 10 4 317 20 261 5 37 1 339 2007 1 60 144 6 140 393 57 2 42 51 3 102 68 6 1460 1149 3 31 1 8 190 55 146 1 2 10 4 3752 50 5 37 1 37 3 8 65 3 3198 4 1101 5 2752 1 2 13 4 286 5 51 3 62 1233 1 49 371 621 1 17 266 57 660 2841 144 223 1051 23 1 10 32 3 43 62 226 26 12 188 1 424 3 178 11 230 203 3 2823 3 23 18 11 4 1071 6210 5 222 14 22 3 1 1 17 1 1 1 166 9 1 1 1 2 2913 82 2345 1 39 467 45 67 4 1124 5 32 3 33 3 49 8 9 1 32 3 60 59 3 26 6 3598 2696 3789 1 4 275 5 27 3007 3300 2485 389 1 2 42 51 3 4226 7 55 23 131 2 13 4 190 2124 5 6 134 23 67 2332 9 67 287 103 477 19 2679 15 67 5091 9 2 4974 30 3 5414 351 36 24 86 378 14 1361 239 61 16 27 6306 11 2 13 231 9 2 10 15 57 8 86 378 14 722 12 984 3 191 6 1426 6068 704 9 142 693 90 1288 15 90 2142 90 2067 700 3 15 77 241 39 40 100 3 105 1 2 10 37 3 77 54 17 2703 1 81 47 141 8 282 19 33 125 1 2 10 64 3 33 319 71 179 77 1201 8 3 8 47 53 331 3 87 11 8 2130 12 4375 606 3458 84 1581 44 1680 123 1 2 10 4 1884 5 28 11 8 101 28 14 488 1229 11 2 827 51 3 6 11 23 77 235 2102 11 2 10 4 5841 5 59 3 8 65 35 11 25 79 48 14 278 29 19 1 1 1 2 13 51 11 21 4 314 5 21 66 7 2689 12 460 11 21 4 190 946 5 133 27 673 29 6 617 1 2 505 78 1387 3 28 855 641 2520 29 12 2088 3770 16 2270 1 2 2 2 13 293 11 2 13 30 3 132 9 1022 2595 9 141 22 264 8 12 12 1 589 1 186 78 195 15 564 91 2763 115 36 6 266 1 2 10 39 12 626 3 28 3 8 120 121 12 5417 1361 3 28 1 2 13 219 3 31 1 2 10 4 5485 5 206 3 28 1 8 65 27 2849 33 83 45 1 2 10 30 3 105 571 75 126 5063 4893 1 2 244 6 1394 945 21 97 225 9 21 2 2 2 13 1 1 1 15 6 1653 2395 4390 54 1120 3 38 6 1555 1901 20 6 280 249 343 100 73 1 92 8 39 1251 73 15 380 6 3074 1758 20 9 2 13 4 2996 1 90 914 90 18 23 14 332 3 91 171 47 404 26 22 3 2687 1 2 13 4 1155 271 5 33 3 7 249 1554 19 1 4 286 5 25 43 4265 1490 1 2 350 117 3 469 27 4802 3 111 140 493 9 2 10 4 226 192 5 6014 1 1 5278 1054 1 2 2 2 13 132 3 400 17 224 11 9 9 2 2 2 350 92 2090 18 1 7 101 8 14 2806 6 315 5 6229 1 5667 1 4140 1 5974 31 1 2 1183 4 994 5 35 11 2 10 4 1328 5 21 78 2299 31 1 21 167 116 10 37 3 7 65 3 7 65 1 41 6 221 753 23 58 120 567 981 1103 1182 1 2 10 537 3813 6 928 157 81 431 6 1103 1711 1795 1 1 1 64 3 84 359 14 365 11 9 2 10 209 18 3 28 3 6 224 23 478 1 132 170 94 14 813 52 1 2 10 117 3 149 28 3 99 106 2171 24 2700 26 248 1 25 804 79 104 4662 1331 1 2 13 32 3 503 1 2 244 4 436 591 3 92 253 6365 5 21 51 3 25 602 5946 70 278 18 15 104 70 99 55 12 1676 16 12 62 288 31 1 2 42 28 3 102 9 27 320 23 29 207 9 2 13 4 1509 5 8 121 19 73 3 132 9 2 10 12 89 638 1 2 10 43 24 54 38 12 1552 1 4 566 5 15 29 687 1 2 42 37 1 1699 364 44 1551 20 88 21 16 85 3802 624 1 1 1 2 290 15 96 139 111 532 629 3 7 53 63 332 3956 2821 135 509 68 1847 3381 9 2 11 2 4470 7 326 43 1 2 2701 4 2484 5 7 261 7 212 352 1025 20 3653 1 2 34 4 14 28 5 7 862 12 55 14 65 197 1 15 25 1089 3968 3 6 409 23 6 4341 16 2936 1 60 409 1 2 616 1595 9 789 1 2 290 159 2494 1 70 409 4 613 925 5 409 4 613 925 5 2 909 1 554 815 16 6 1432 20 2412 1439 1 70 3499 6107 57 12 559 50 36 12 649 4103 40 22 1 2 13 64 3 64 3 7 249 322 16 18 3 31 1 62 12 2675 1014 1 2 10 1252 170 79 187 792 192 36 33 649 2907 1 2 13 206 3 97 29 3 31 1 95 16 38 8 48 14 1270 6594 145 1 35 119 135 116 1 2 74 28 3 7 5344 8 577 19 224 1 2 13 4 2484 5 96 53 18 9 2 10 87 3 307 128 328 645 6026 1 7 269 1627 1252 6 250 176 1 2 13 62 12 2820 3 31 1 38 27 6230 158 609 44 151 26 12 36 236 3 411 197 20 6 112 1 92 58 829 91 4613 192 1 40 43 1 1 1 2 795 37 3 135 8 475 22 17 4 1593 5 6 470 9 2 10 32 3 28 3 7 106 6 971 1131 937 1 66 8 153 2729 22 11 2 13 2655 3 7 10 43 174 3 229 116 8 647 12 3867 52 16 6 1925 633 15 77 5868 111 61 345 1 1417 18 44 11 2 34 785 3 2 13 175 1 41 230 7 143 14 322 75 91 245 3954 14 56 22 6493 50 1 2 46 8 182 40 6 115 8 54 1160 45 1 8 120 95 914 15 97 50 36 12 3689 19 4428 14 38 6 2480 5326 52 80 1 2 13 4 1030 591 5 93 292 37 3 37 3 37 3 172 764 3 174 1 41 307 61 60 163 125 3792 1 334 1541 12 115 80 54 12 86 1132 3750 1860 3847 24 648 1 2 13 277 27 6385 1570 3 470 2835 1 25 79 3 40 3 1079 4564 8 1 2 10 51 3 4250 12 2526 93 1 7 2228 7 379 1 2 10 4 2464 199 5 206 3 37 69 1 8 170 304 372 1 2 42 235 83 61 3 31 1388 1 2179 1388 1 2 46 562 1 6 661 23 3 36 155 61 2592 3 8 249 44 1363 14 152 405 298 33 125 1 2 54 36 6 972 11 2 10 1749 128 3 4340 1 56 52 16 80 9 189 1783 57 6653 26 6 972 15 88 4721 1 2 10 75 14 109 1553 1 211 1826 11 2 13 4 5706 2244 5 32 3 49 12 172 1810 3 932 1 1 1 94 466 50 326 1 17 2243 1 2 13 394 9 2243 9 2 2 2 2785 6 1401 14 6 485 624 23 325 15 2808 1 7 182 3 108 8 95 3 31 1 187 97 36 22 15 5137 14 6 485 624 11 2 10 4 448 5 32 3 1118 1 17 802 2597 20 6408 6 4 536 3 399 1 2 160 64 35 48 8 368 3 313 11 2 977 7 54 6316 6 1381 26 1603 1795 1 2 160 49 1603 26 9 1473 9 2 34 547 3 35 85 1450 1 2 46 32 86 3 147 77 79 53 26 85 5714 11 2 10 238 1 7 47 2333 5 70 37 9 70 37 3 62 69 9 70 30 9 70 37 9 2 42 4 1207 2065 390 5 30 1 2 34 4 1207 5319 390 5 2 42 30 3 31 3 66 7 408 36 12 2161 11 2 10 37 3 270 398 80 3 6481 1 2 2 2 13 2753 1 4 1575 199 5 2 2549 27 3835 16 12 4438 5448 23 3486 3 28 1 7 632 48 14 577 18 1 2 13 232 1 1 2 204 4 3688 5 664 3 202 9 62 1727 22 1 2 694 33 3 25 63 1 4 92 14 31 3 367 5 544 1170 781 921 1 4 253 14 895 16 21 124 4084 21 5 781 921 1 1 1 2 13 4 253 5 403 3 781 921 1 1 1 14 449 5 20 2900 26 6 140 360 3 251 1868 177 1076 3431 1676 1 4 947 312 3 92 699 383 5 2 13 394 456 9 3 6 2127 1 334 8 56 1357 2594 52 3 133 33 2274 68 38 1 60 144 81 2638 6 3250 488 1 2 13 4 314 5 7 103 19 550 11 2 46 4 766 5 31 3 49 38 4910 1 23 174 103 19 870 11 23 132 19 216 11 23 28 19 29 207 201 1590 1 2 10 872 1003 3 165 11 1 1 1 4 433 68 209 5 117 3 175 81 98 1876 2602 5611 45 15 13 25 149 75 27 209 3 31 1 2 10 381 3 49 39 90 51 1 19 1048 209 54 270 3 41 18 54 105 179 4112 7 329 14 6 1088 3 21 33 3 62 1145 407 6 3019 1 1 1 16 1376 12 1338 1 21 2 10 30 3 132 1 147 831 19 108 58 450 3 133 184 14 44 12 1924 26 6 1049 3 12 1924 26 6 1753 3 15 537 38 44 12 306 806 1 11 2 10 4 314 5 1060 44 38 21 102 68 22 9 25 12 2847 493 20 12 1546 9 21 2 10 4 1487 5 117 3 11 2 42 4 5549 123 5 7 65 3 41 49 43 914 1 202 198 22 3 28 1 2 13 8 453 14 6 69 129 1 13 51 3 72 18 299 89 679 21 25 63 1742 17 176 637 1 21 4 3128 5 295 77 23 1 2 42 4 6102 12 1 132 3 8 120 1739 146 50 80 15 426 17 266 9 2 42 7 93 1 99 94 4907 2266 9 2 13 132 1 1 1 2 299 90 406 90 161 830 1 761 23 3 161 6457 4745 2934 1 2 46 6 1797 191 44 4815 1 7 345 188 1 1011 181 45 1 7 55 12 1422 1433 167 2429 14 269 6533 1 839 3 4430 1433 1 2 2624 43 1289 1 2 13 4 14 581 3 1890 5 60 22 9 2 13 336 19 9 6 474 1872 135 44 3668 1 2 2954 47 139 22 71 14 252 1 2 13 43 8 38 459 2 13 3757 6524 11 71 66 7 1169 11 2 10 620 1 2 2 2 34 56 100 9 2 10 15 603 52 9 2 10 56 64 142 5079 29 662 3061 1 2 46 4 1793 5 30 3 81 269 146 680 20 6 1664 3 425 9 2 817 23 80 12 761 2 2 2 13 941 3 31 9 119 524 128 17 1006 9 2 10 33 373 1 39 642 6 835 4661 20 6 1193 6536 1 864 53 3 5424 1 99 55 85 2014 1457 12 832 1 2 160 4 448 5 627 3 39 40 29 21 4497 6259 1 21 137 1139 14 21 2 74 32 3 142 29 6 639 86 843 225 1 347 3 363 55 5270 115 1 2 160 27 3430 23 14 256 6 3332 2201 1 2 148 25 836 15 814 1 2 13 60 17 89 3515 1 2 148 347 3 255 1 229 78 1 2 13 30 3 1437 18 13 547 31 3 193 106 12 333 1483 1728 1 2 10 8 121 19 73 1 2 13 64 3 111 104 3 60 35 25 528 75 1312 1 2 46 388 3 59 3 108 8 300 75 19 455 3 27 259 4439 36 3 59 1 1 1 35 53 8 220 18 11 138 14 78 1 2 13 86 3 6535 6 205 115 31 1098 24 11 2 46 30 3 28 9 235 218 9 2 34 30 28 3 13 7 47 56 18 1 2 148 4 636 3 2079 5 2231 52 21 96 509 12 5078 1 21 2 13 147 6 1839 11 2 148 1130 1194 4324 1 2 10 693 1 2 13 25 149 7 678 8 3 31 1 2 10 117 3 60 87 1 49 40 17 255 288 12 21 112 1 21 49 144 7 78 14 152 21 499 3 21 295 23 6 3494 2920 16 27 2283 1 2 5700 4 699 5 28 6 417 3824 12 86 98 3639 14 88 209 23 2511 1 2 46 8 1086 6 1292 11 2 34 8 65 7 127 1 2 46 38 218 1 2 377 87 3 5652 1 35 3349 3 2475 268 1622 612 3 23 212 76 5491 15 3641 11 2 34 71 75 21 1622 2730 324 58 2929 3133 48 106 3134 268 6 4677 1 2 46 30 3 35 57 8 397 20 45 11 2 1786 4 38 357 5 25 85 4 418 5 60 378 1160 1 2 13 32 107 3 18 54 812 1 7 444 119 1735 12 614 2132 86 1 2 10 117 3 51 7 415 8 7 1661 8 11 2 2744 4 566 199 5 24 241 40 12 316 26 17 2889 3382 1 2 10 43 71 179 8 5006 1 1 1 43 515 3 72 8 121 19 592 123 3 15 927 18 192 67 2 244 4 5636 3 2318 5 7 65 3 7 65 11 2 74 139 19 330 49 151 2176 8 15 113 1 2 244 231 1 230 134 20 6 648 1 7 5821 1 2 10 30 119 413 23 933 1 2 46 273 641 45 7 97 9 2 10 6453 103 198 36 17 4624 2354 9 2 10 4 534 5 7 55 344 174 11 2 34 100 11 2 34 33 157 9 2 13 297 53 90 7 116 118 96 48 27 2275 1 4 2034 5 334 7 109 76 6 1846 1 2 13 30 3 43 57 6 3347 2983 1 4 314 5 67 4 506 199 5 2 545 1660 6 1652 3 41 99 759 43 1 2 13 15 8 66 553 36 19 1 2 10 3459 1 2 13 447 1 80 57 2859 16 245 2781 26 22 14 6780 4 5811 5 30 3 8 101 17 582 11 2 13 56 197 64 3 1059 1 4 2467 301 5 2 13 43 325 3 1059 1 4 185 609 1 7 103 48 14 78 14 6 2386 15 25 52 16 6252 1 2 42 8 65 3 7 443 16 12 164 5919 276 144 113 1 2 10 117 3 51 3 2546 7 120 65 150 75 12 1047 3 7 282 24 129 1 2 10 24 4134 23 5798 1 77 2 10 59 3 222 119 3 71 66 7 213 24 6061 11 7 47 55 378 470 20 24 185 14 109 8 102 83 1 2 74 16 1359 1796 1 21 15 33 61 153 158 1 2 10 117 3 176 23 83 1 2 34 30 3 35 318 11 49 1460 20 6 11 30 3 131 818 715 161 138 12 6741 2506 1 2 772 8 411 22 762 45 38 682 1 1 1 2 772 4 1117 5 1 11 2 13 125 40 3 144 168 7 256 18 1 18 54 6572 3028 1 2 74 28 3 25 149 8 444 19 3 41 7 54 2 10 4 738 5 3614 3 4640 3 5272 3 2682 3 569 271 1 1 1 2 1295 15 3 7 374 14 3447 407 6 203 21 13 8 65 3 7 252 327 83 1 175 7 191 39 269 791 675 16 184 122 12 4302 3 4490 112 1 2 10 56 20 45 6 648 15 6 112 23 1038 1 2 234 25 553 68 251 5781 4305 3 144 137 692 323 76 6 3307 16 6 4356 2032 1436 3 11 7 525 304 8 268 8 181 24 520 1 2 46 4 5628 5 7 66 1818 128 6 520 1767 9 2 2832 4 766 5 293 35 114 8 888 14 56 27 243 3 28 11 2 13 4 1314 5 189 2290 1317 2025 19 453 20 6 2608 1 2 13 4 216 70 25 52 1 70 25 368 1 2 13 4 1976 5 96 104 27 713 1651 15 2462 8 61 1222 1 2 502 51 3 25 52 368 6 134 19 110 62 45 26 1 25 528 4097 45 1 2 502 4 1223 5 38 69 3 7 944 18 1 7 114 770 1494 670 269 27 4215 6760 29 3 1007 1 99 304 8 56 442 105 369 612 1 2 734 25 63 79 141 100 122 17 575 3 118 2626 247 1 2 10 400 27 243 254 3 28 11 2 13 376 63 536 637 1 2 10 35 11 49 215 16 113 7 213 20 16 8 171 11 2 46 137 27 5196 9 64 97 29 3 338 1643 901 3 48 12 82 9 2 204 7 93 67 7 265 44 1 472 421 1009 1 2 34 4 1155 271 5 63 24 225 1 2 46 231 3 24 225 9 2 204 8 65 3 28 3 401 17 3277 1 2 5594 4 1645 6415 259 5 152 118 96 450 1 2 13 159 12 279 1 7 261 8 168 187 56 623 1 2 2 10 28 1 1 1 24 2739 155 26 333 5233 1 15 171 29 4129 4927 3 40 22 1 35 11 35 57 8 38 522 68 9 2 877 4 1071 1211 5 41 92 144 135 7 78 14 56 323 76 17 243 9 1738 3 31 3 8 406 3 5869 1157 9 3 1166 16 236 429 1 264 2562 12 270 435 1 2 1180 4 2315 5 706 1 1 1 706 1 1 1 4 140 5639 5 2 589 21 23 26 31 3 6 2006 16 173 1 21 773 21 23 26 6 21 773 21 20 6 1879 16 173 1 21 3952 21 23 1266 2078 3 12 5441 1838 118 573 3067 1 2 10 25 39 184 14 220 6 1161 2162 64 1 4 2136 5 15 1404 3248 17 742 173 6 157 18 23 3 38 69 11 15 7 170 2991 18 26 211 1141 3 2496 3 5132 3 118 4065 1 2 74 7 138 12 219 1 2 2642 4 501 310 14 3964 4191 5 1936 16 2194 3 17 543 11 2 1786 51 308 8 3 27 2428 1 8 65 3 32 202 3 63 24 225 1 2 13 771 3 116 217 14 401 1 2 13 4 1278 289 5 6013 1 2 991 4 21 110 63 13 4759 645 821 305 15 5186 1 1 1 713 645 9 2 13 25 327 273 36 24 403 3 64 49 6224 343 1 2 10 32 2087 5 15 17 6740 3 137 355 69 14 6 815 9 4 6246 2377 3633 199 5 208 1 2 568 24 23 61 5408 84 47 40 1 2376 14 415 352 1 4 489 982 5 2 10 147 18 116 11 2 2 2 46 4 1223 5 104 111 609 3 28 1 58 48 14 213 6 210 29 12 6728 14 3682 2081 3 92 96 44 73 14 78 14 1744 9 2 148 4 2765 5 255 3 72 8 3 24 4790 6022 1 97 4495 27 1792 407 18 1 2 46 30 1827 3 863 12 247 144 7 548 2473 4301 15 3245 6363 1 2 284 1 2 10 132 3 71 53 8 269 551 73 20 11 2 42 25 12 216 1 7 47 65 331 75 71 7 53 303 1 51 33 373 1 96 39 564 6 200 20 19 1809 851 6 784 1 2 10 124 138 3292 22 85 1695 6238 1 191 7 1238 24 82 5 27 2037 1649 3 15 6 6264 828 4 433 14 207 5 1 2 46 51 3 23 80 303 20 24 112 60 212 20 998 9 39 47 442 22 9 2 13 4 439 5 87 327 210 3 400 348 6000 713 393 11 2 10 4 814 5 102 3 5419 7 21 6159 9 21 2 10 87 1 2 13 219 3 31 1 71 66 7 153 5834 8 11 2 10 30 3 91 267 182 125 14 108 77 1113 22 14 6 2717 2447 20 6666 11 2 136 4 3266 5 6 2717 2447 11 9 297 548 38 6 172 665 2516 3 31 91 4111 15 67 4 6409 150 5 8 225 11 9 2 13 35 6 309 23 24 134 11 2 2 2 46 35 23 18 3 31 85 1091 26 6364 4313 1 2 10 35 6 11 9 99 106 4130 4294 1516 14 19 11 9 2 1191 41 35 8 240 75 28 49 123 14 1477 274 1404 862 43 179 6023 122 126 871 1 2 34 8 65 84 7 93 586 11 19 5242 4742 1 542 61 115 7 1 2 148 388 31 3 8 162 172 747 1 2 13 4 2533 5 37 1 35 48 8 368 36 6 333 31 11 2 2 2 10 238 3 60 79 1148 111 1 2 13 99 55 5915 2101 25 522 14 1253 3 31 9 2 10 165 11 2 13 4 1328 5 14 6 672 3 7 379 48 2740 5859 45 90 630 399 1 2 160 4 14 4279 5 322 19 3 3530 11 6 972 677 1051 9 1 2 10 15 6 4775 1284 1 1 1 6 6425 16 6 3640 2932 1 2 10 347 3 4989 1 2 10 8 2861 18 36 12 11 9 7 98 94 53 150 40 19 9 4 578 5 98 7 11 2 160 110 47 8 356 6 653 84 5364 6 2378 11 63 2 13 1455 1 1 1 6 155 373 23 3 25 130 14 3017 91 1741 16 536 195 15 1327 709 1 33 967 96 4051 19 90 100 20 11 2 244 8 182 3350 4823 11 2 2731 4 3059 296 259 5 30 9 2 2731 25 69 45 1 2 244 149 1 2 1 187 97 11 2 2203 33 1 2 34 4 2531 5 49 87 3 7 1190 1 2 34 4 14 581 5 2491 522 68 12 1425 57 29 174 1 2 13 4 436 5 7 47 101 27 1119 470 1 96 408 26 18 352 1 2 10 59 3 7 120 278 36 82 9 2 13 544 1 1 1 401 1009 22 14 300 14 8 1 2 204 4211 9 945 58 2812 850 3 118 6 2959 11 2 186 362 321 6 5656 183 77 114 355 20 1 2 34 116 28 3 62 333 83 68 24 1 95 8 98 588 17 1329 2070 26 2164 3 165 11 4 2008 5 1422 5793 5677 14 19 203 1 1 1 4 717 5 25 79 121 18 1 2 10 1000 340 3 283 1112 4499 197 122 917 8 38 223 1433 1 2 13 4 2144 5 7 242 7 48 33 1334 1 2 2 2 10 147 351 36 27 13 4 3048 105 179 5 32 37 3 37 3 60 35 7 1859 105 1 7 48 33 1 1 1 4178 1 1 1 2 10 55 3 8 65 1 1 1 2 34 32 3 69 9 222 3 28 3 532 816 318 73 20 520 455 1 1 1 2 13 4 788 12 5283 3 562 19 23 1 2 234 24 23 932 1146 36 12 740 2050 6559 6 1898 758 1 2 234 503 5560 5468 5836 1 12 2 34 238 3 30 382 9 382 3 382 3 382 9 2 13 4 403 300 5 217 382 1 1 1 217 382 1 2 46 30 1 1 6124 1 2 892 19 54 1600 68 3372 1 7 54 759 434 44 1101 20 6 333 22 1 2 10 57 8 793 22 11 71 135 8 1090 12 653 281 3759 1876 41 59 3 20 91 157 1 1 1 12 89 1216 11 2 34 8 182 40 71 58 1090 51 3 72 99 618 303 76 931 3392 3 23 19 193 55 14 109 12 986 3 3885 4945 3 6 324 19 241 40 18 265 1253 44 17 194 1 1 1 2 13 4 14 283 5 104 3 18 601 1 15 2322 57 39 6 1877 1 133 963 4766 3 3259 3 61 3 1521 6120 5 21 254 6 251 4937 4579 54 6339 20 6 611 16 12 1074 164 882 1 1 1 4 498 5 262 1 2601 1229 11 2 46 4 1002 5 35 11 8 95 39 215 25 790 7 65 38 245 790 171 11 2 13 51 3 7 1 1 1 10 4 2373 732 5 331 1 2 10 4 285 5 39 334 7 345 3058 70 135 2456 73 88 960 70 15 1829 22 12 2600 70 24 82 1 2 74 4 1532 5 18 1714 40 1 1 1 3660 9 70 18 1714 40 481 1305 9 2 74 18 1714 40 602 6062 753 14 162 8 1 2 10 49 12 672 76 28 1 29 17 2501 1 20 17 5005 1 837 17 6141 15 1066 2119 1 15 18 95 3 119 11 158 8 162 31 12 722 11 2 74 178 3 51 1 1 1 2 10 175 8 143 12 89 125 21 916 16 12 5930 593 6501 70 15 92 108 25 1823 3 96 78 311 27 2577 70 41 8 98 53 563 1 1 1 2 74 7 98 53 12 778 11 21 7 443 75 19 20 2709 455 3 41 7 94 304 18 531 1 2 10 32 3 24 23 228 83 26 22 1 911 105 11 7 187 121 12 3922 43 25 4833 26 6 5551 2003 1 2 337 51 1 1 1 25 6176 1 78 1387 1 2 34 15 81 1656 27 228 2723 9 2 13 4 2049 5762 5 238 9 58 1656 27 228 2723 1 2 34 49 3955 1 424 23 64 563 3638 19 6304 5726 819 54 184 14 5888 1 2 13 87 3 175 7 6667 1 41 193 106 43 2627 1 1 1 21 25 1289 3 769 4607 9 4 874 50 769 4960 396 21 1109 27 218 21 5 15 6195 4241 26 27 1099 1 294 1 43 8 66 121 27 6528 1 2 13 4 5865 483 5 70 4 2558 2077 483 5 2 13 38 69 9 38 69 9 2 13 25 355 195 1 49 63 889 2393 994 289 5 37 3 60 660 12 83 61 1 45 3 7 55 532 19 265 1056 111 50 1 2 10 7 55 24 26 1095 5 6 846 1 1 1 2 4959 4 5308 271 20 3 1276 5 6 2185 1 1 1 2 2 2 46 86 3 8 130 987 19 32 37 11 71 628 24 1967 209 11 4 1967 483 5 2 136 7 66 104 19 123 1393 23 12 2292 86 1 2 10 4 286 2 2 136 30 3 255 1 2 13 4 440 5 30 425 3 3488 358 11 2 136 447 1 7 54 1283 8 15 27 284 98 155 5316 154 6 5803 1 4 289 5 53 8 1190 35 7 3897 52 80 11 2 2388 6 5349 14 1501 6 360 23 2178 1 2 2800 1 2 10 4 2845 5 59 222 3 28 67 7 65 12 129 84 4342 267 26 1189 84 143 267 2096 1 41 3 59 3 1 2 188 1 5629 4 230 271 5 1 1 1 391 2570 1 1 1 4 626 271 5 2550 86 1 1 1 4 1052 271 5 50 1 2 10 208 3 278 19 52 9 70 413 23 4474 368 9 70 102 68 236 6681 9 70 15 1 1 1 1823 9 2 2 10 4 840 260 3 92 1391 28 5 336 1605 1569 9 2 1115 536 50 315 29 21 280 16 593 21 1 1 1 2 1115 66 411 211 115 58 101 1 2 46 28 3 110 47 8 39 109 91 125 16 6 5416 405 11 2 13 32 3 274 283 249 2 2001 44 17 1528 1 2 2 2 10 4 1874 5 238 3 12 1583 1 4 1854 180 5 229 104 1 1 1 1583 2438 26 2 13 4 766 5 771 3 8 15 7 57 79 44 1513 183 153 90 58 564 6 1136 16 126 871 2325 19 2355 1 2 262 2 13 758 3 229 524 14 6 2331 1 2 335 37 3 141 22 242 1 62 660 79 53 150 2363 40 398 14 300 22 321 6 227 1 2 13 1094 619 9 14 758 869 15 401 1946 9 2 42 35 12 2867 9 2 46 231 9 14 401 9 2 10 3662 11 21 2 335 51 28 3 8 103 213 61 151 29 196 298 869 3 45 1 4 534 5 219 12 306 3 2004 1 2 2 1719 4 5940 5 586 73 3 28 9 7 65 35 25 397 1 2 34 51 3 58 38 65 35 137 397 1 6 1296 23 28 3 47 428 1 62 68 173 340 67 3695 268 5770 1 2 13 35 6 67 4 2241 5 24 23 12 1752 988 9 2 42 1293 5355 3435 4933 57 607 1 6427 3297 625 14 88 2420 1438 15 81 729 6065 223 6262 54 39 1877 1 6 559 1 21 2 148 9 21 400 6 2010 11 2 545 6 2010 57 64 2225 3 6 3384 2110 23 64 12 1267 3 15 3170 23 64 4263 9 32 9 18 39 55 2060 76 80 1 2 2811 21 554 7 668 18 1392 950 1 515 3 72 62 226 26 27 255 1 77 386 6 266 13 51 25 327 130 18 54 20 80 1673 1 2 727 64 3 141 22 3251 154 3719 31 6 519 26 4826 24 1427 237 810 1589 25 371 975 16 267 40 19 1 2 148 975 16 35 11 7 588 29 8 3 15 8 121 18 67 60 71 2248 601 1 2 1 1812 14 6 1394 16 1379 1 2 2184 137 20 6 1394 16 1379 9 2 555 4 1275 199 5 51 3 19 3703 1 2 555 164 316 11 2 34 233 18 102 40 99 55 12 316 11 2 46 33 3 7 168 1 2 10 28 3 276 12 89 125 5530 9 2 10 2104 9 2 2 2 10 30 3 28 1 7 98 322 27 1720 5624 311 6 541 1 2 13 51 3 110 93 7 106 2827 154 6 134 18 3735 4042 413 9 2 74 7 93 332 137 94 184 14 48 235 1743 1 1 1 4 1733 5 2 34 213 18 20 12 983 4284 26 283 1 2 34 43 400 6 145 64 11 2 13 7 213 18 20 6 989 1 19 185 23 172 2 13 12 2555 6126 23 64 2799 183 85 665 989 1 177 126 1813 3 2520 29 171 2325 274 223 3366 5613 181 105 602 3 97 8 213 27 1792 123 29 223 5765 15 5389 1114 8 322 12 5346 3 1678 1251 50 565 1 2 1185 103 11 62 130 75 24 11 105 1922 1 61 279 62 881 20 27 4311 523 82 3 6 315 134 8 65 62 1018 45 523 82 1 2 377 28 3 27 5472 12 2015 5550 7 66 282 1 2 10 165 1 241 40 62 103 686 532 151 20 27 689 80 3 28 1 2 13 31 3 7 296 1 15 108 25 29 12 465 3 6 1023 23 429 1 2 234 4 2591 5 6 1023 54 12 86 1 88 1806 181 1194 3 21 196 3951 9 21 2 34 4 14 2380 5 147 2298 1 1626 1 773 1 1840 1 11 2 1033 18 735 21 472 6 2833 16 92 7 3788 52 1689 15 29 474 1 2 148 4 2718 5 103 11 2 10 4 717 5 269 17 1214 69 45 20 24 1053 1 2678 9 2 34 872 9 2 46 4 1321 5 110 53 58 288 3862 151 1632 4965 11 2 698 1 1045 8 65 147 103 1241 11 8 1523 421 17 2330 11 2 13 2330 11 4 2264 5 23 19 40 61 16 169 816 3122 2383 267 11 2 698 1 1045 33 3 2 10 1161 1 804 1 25 103 358 18 1 33 125 1367 26 4 5660 5 2653 9 4 950 5 215 24 115 133 33 61 60 1431 1 2 6257 1161 23 6185 70 18 6604 29 369 1910 70 15 7 66 67 2 10 19 1644 18 9 33 125 3026 9 2 10 332 20 674 1 1 1 4 1265 50 5 8 107 3 8 987 22 9 8 53 404 9 2 13 64 159 12 279 1 120 109 60 288 83 26 12 301 1 2 74 33 3 33 3 18 177 14 44 150 140 864 583 88 604 2180 1 4 1675 1021 5 110 7 53 48 24 1985 19 7 2475 352 1 570 615 44 6 227 134 8 153 138 118 6 205 134 297 153 48 1 2 1372 232 14 4056 3 3541 5 63 361 3 196 194 1 41 47 428 3 5585 57 39 192 6 1672 1 2 2 2 10 28 3 7 1647 3 49 115 1 343 18 29 9 343 18 29 9 2 13 344 718 887 26 344 227 284 1 2 10 37 3 7 288 78 36 9 4 260 5 25 43 273 9 4 125 260 5 25 43 273 9 2 13 14 6 227 460 20 6 280 67 145 1 2 13 45 9 7 47 153 101 14 104 19 4891 4457 225 9 2 13 159 12 279 9 5719 4691 20 6 6480 16 1301 5329 9 2 13 4996 76 88 5207 2518 1 2 2 2 13 1915 54 812 361 9 963 3 119 23 20 1352 15 161 168 163 139 22 9 2 10 43 6 2076 57 3 239 115 6 753 129 329 21 1420 3 21 58 120 121 12 152 1 2 34 570 44 270 14 141 292 629 8 1 35 23 6 140 779 11 2 46 4 5388 5 142 397 18 9 142 500 12 272 9 2 34 4 1029 5 884 3 884\n\t [[Node: sequence_loss/SparseSoftmaxCrossEntropyWithLogits/SparseSoftmaxCrossEntropyWithLogits = SparseSoftmaxCrossEntropyWithLogits[T=DT_FLOAT, Tlabels=DT_INT32, _device=\"/job:localhost/replica:0/task:0/device:CPU:0\"](sequence_loss/Reshape, sequence_loss/Reshape_1)]]\n\nCaused by op 'sequence_loss/SparseSoftmaxCrossEntropyWithLogits/SparseSoftmaxCrossEntropyWithLogits', defined at:\n  File \"d:\\software\\mambaforge\\envs\\deep-learning_2\\lib\\runpy.py\", line 193, in _run_module_as_main\n    \"__main__\", mod_spec)\n  File \"d:\\software\\mambaforge\\envs\\deep-learning_2\\lib\\runpy.py\", line 85, in _run_code\n    exec(code, run_globals)\n  File \"d:\\software\\mambaforge\\envs\\deep-learning_2\\lib\\site-packages\\ipykernel\\__main__.py\", line 3, in <module>\n    app.launch_new_instance()\n  File \"d:\\software\\mambaforge\\envs\\deep-learning_2\\lib\\site-packages\\traitlets\\config\\application.py\", line 658, in launch_instance\n    app.start()\n  File \"d:\\software\\mambaforge\\envs\\deep-learning_2\\lib\\site-packages\\ipykernel\\kernelapp.py\", line 474, in start\n    ioloop.IOLoop.instance().start()\n  File \"d:\\software\\mambaforge\\envs\\deep-learning_2\\lib\\site-packages\\zmq\\eventloop\\ioloop.py\", line 177, in start\n    super(ZMQIOLoop, self).start()\n  File \"d:\\software\\mambaforge\\envs\\deep-learning_2\\lib\\site-packages\\tornado\\ioloop.py\", line 887, in start\n    handler_func(fd_obj, events)\n  File \"d:\\software\\mambaforge\\envs\\deep-learning_2\\lib\\site-packages\\tornado\\stack_context.py\", line 275, in null_wrapper\n    return fn(*args, **kwargs)\n  File \"d:\\software\\mambaforge\\envs\\deep-learning_2\\lib\\site-packages\\zmq\\eventloop\\zmqstream.py\", line 440, in _handle_events\n    self._handle_recv()\n  File \"d:\\software\\mambaforge\\envs\\deep-learning_2\\lib\\site-packages\\zmq\\eventloop\\zmqstream.py\", line 472, in _handle_recv\n    self._run_callback(callback, msg)\n  File \"d:\\software\\mambaforge\\envs\\deep-learning_2\\lib\\site-packages\\zmq\\eventloop\\zmqstream.py\", line 414, in _run_callback\n    callback(*args, **kwargs)\n  File \"d:\\software\\mambaforge\\envs\\deep-learning_2\\lib\\site-packages\\tornado\\stack_context.py\", line 275, in null_wrapper\n    return fn(*args, **kwargs)\n  File \"d:\\software\\mambaforge\\envs\\deep-learning_2\\lib\\site-packages\\ipykernel\\kernelbase.py\", line 276, in dispatcher\n    return self.dispatch_shell(stream, msg)\n  File \"d:\\software\\mambaforge\\envs\\deep-learning_2\\lib\\site-packages\\ipykernel\\kernelbase.py\", line 228, in dispatch_shell\n    handler(stream, idents, msg)\n  File \"d:\\software\\mambaforge\\envs\\deep-learning_2\\lib\\site-packages\\ipykernel\\kernelbase.py\", line 390, in execute_request\n    user_expressions, allow_stdin)\n  File \"d:\\software\\mambaforge\\envs\\deep-learning_2\\lib\\site-packages\\ipykernel\\ipkernel.py\", line 196, in do_execute\n    res = shell.run_cell(code, store_history=store_history, silent=silent)\n  File \"d:\\software\\mambaforge\\envs\\deep-learning_2\\lib\\site-packages\\ipykernel\\zmqshell.py\", line 501, in run_cell\n    return super(ZMQInteractiveShell, self).run_cell(*args, **kwargs)\n  File \"d:\\software\\mambaforge\\envs\\deep-learning_2\\lib\\site-packages\\IPython\\core\\interactiveshell.py\", line 2717, in run_cell\n    interactivity=interactivity, compiler=compiler, result=result)\n  File \"d:\\software\\mambaforge\\envs\\deep-learning_2\\lib\\site-packages\\IPython\\core\\interactiveshell.py\", line 2821, in run_ast_nodes\n    if self.run_code(code, result):\n  File \"d:\\software\\mambaforge\\envs\\deep-learning_2\\lib\\site-packages\\IPython\\core\\interactiveshell.py\", line 2881, in run_code\n    exec(code_obj, self.user_global_ns, self.user_ns)\n  File \"<ipython-input-99-a2d9a7091ca5>\", line 21, in <module>\n    tf.ones([input_data_shape[0], input_data_shape[1]]))\n  File \"d:\\software\\mambaforge\\envs\\deep-learning_2\\lib\\site-packages\\tensorflow\\contrib\\seq2seq\\python\\ops\\loss.py\", line 92, in sequence_loss\n    labels=targets, logits=logits_flat)\n  File \"d:\\software\\mambaforge\\envs\\deep-learning_2\\lib\\site-packages\\tensorflow\\python\\ops\\nn_ops.py\", line 1879, in sparse_softmax_cross_entropy_with_logits\n    precise_logits, labels, name=name)\n  File \"d:\\software\\mambaforge\\envs\\deep-learning_2\\lib\\site-packages\\tensorflow\\python\\ops\\gen_nn_ops.py\", line 4546, in _sparse_softmax_cross_entropy_with_logits\n    labels=labels, name=name)\n  File \"d:\\software\\mambaforge\\envs\\deep-learning_2\\lib\\site-packages\\tensorflow\\python\\framework\\op_def_library.py\", line 787, in _apply_op_helper\n    op_def=op_def)\n  File \"d:\\software\\mambaforge\\envs\\deep-learning_2\\lib\\site-packages\\tensorflow\\python\\framework\\ops.py\", line 2956, in create_op\n    op_def=op_def)\n  File \"d:\\software\\mambaforge\\envs\\deep-learning_2\\lib\\site-packages\\tensorflow\\python\\framework\\ops.py\", line 1470, in __init__\n    self._traceback = self._graph._extract_stack()  # pylint: disable=protected-access\n\nInvalidArgumentError (see above for traceback): Received a label value of 6780 which is outside the valid range of [0, 6780).  Label values: 1242 1 2 10 4 122 180 5 392 29 3 96 278 1 4 14 619 5 1042 1242 1 1042 1242 1 30 3 177 723 304 1042 6 559 1 2 42 60 38 69 1 7 473 48 5475 12 4003 176 1 2 42 43 6 315 115 823 1799 8 5501 2862 57 83 3 6 5760 3 17 4854 3 263 1 2 13 114 18 246 11 2 42 25 12 395 86 3 170 7 11 2 42 208 9 2 319 3 671 11 2 13 6 711 315 541 980 911 9 2 990 4 5342 5 7 531 14 44 19 711 1 2 13 32 3 22 10 117 3 357 23 883 1 171 361 57 5565 15 451 622 1 8 65 3 72 18 539 26 6 1480 520 455 315 541 33 61 511 28 21 1 2 10 87 3 110 47 8 109 146 50 12 695 16 21 511 2250 21 11 2 13 30 31 3 8 55 211 3800 4895 1 2 42 232 3 18 103 601 1 2 935 4 5471 5 96 44 73 1 2 13 31 3 7 525 304 6 185 24 2 756 7 2429 14 121 17 5087 3761 602 1 2 10 7 40 27 4574 3 296 1 62 2740 1 2 756 8 2151 2487 24 1 323 12 496 1222 354 40 19 1 2 10 4 14 1563 5 25 149 3 41 6 412 1284 4239 36 22 1 2 6319 4 14 31 3 7 39 212 12 680 1566 389 605 6 1309 1 264 517 3 410 520 3 60 17 4898 1 7 632 39 469 17 316 68 6 2 10 4 122 180 5 173 340 1 31 996 1 2 148 4 122 180 5 59 231 3 25 226 26 12 737 1 1173 1 230 867 5 4 314 5 60 172 9 30 3 135 8 579 19 196 597 8 374 14 579 26 22 11 2 148 4 12 89 1285 5 62 460 639 11 2 294 1 349 231 1 2 13 87 3 221 5727 1 43 141 22 356 8 24 3 233 27 145 153 1838 8 83 23 145 72 8 93 2622 4852 20 27 1094 86 11 4 5606 5 99 55 14 56 17 826 73 9 2 2 2 10 173 340 87 3 111 718 711 1 2 10 45 8 78 3 28 1 12 305 15 3413 389 1 2 13 4 3731 5 7 374 14 459 6 35 11 420 19 1 2 13 7 138 6 663 1617 16 38 3 12 89 272 84 98 431 4614 15 7 1412 18 1 2 1471 51 2 491 78 9 78 9 78 9 78 9 78 9 1111 9 9 2 6510 49 12 1755 26 4287 2301 5024 9 218 783 177 880 6 1 219 26 1615 22 949 1 2 42 33 373 1 4 14 382 5 51 3 51 3 72 18 299 89 287 1 4 3338 1963 5003 269 5637 9 2 13 4 253 5 1343 2715 249 8 97 52 254 70 97 52 254 70 97 52 254 1 1 1 32 1343 2715 1 317 12 1368 1247 1 2 13 1549 9 1368 1247 1 133 40 214 16 169 1 19 1429 54 61 16 12 324 1 2 1106 28 3 1 1 1 33 1 2 13 71 75 8 3 132 11 2 42 63 26 12 626 4 922 5 1 2 13 4 560 5 7 143 1 155 2257 389 14 6387 1 2 13 30 3 132 3 158 8 162 22 2257 393 26 24 3803 726 11 2 42 130 9 2 13 3 47 577 211 82 237 25 478 1 2 42 4 1155 88 271 5 35 324 16 1720 216 53 8 121 22 26 11 4 507 5 794 5 7 95 749 53 39 447 1 2 10 4 14 132 5 2614 6762 11 710 8 56 113 11 2 42 178 3 363 106 522 31 67 76 27 412 5941 1 21 2 42 4 876 12 89 2116 5 2417 456 9 2 10 32 3 166 3 33 1 2 2 2 3 997 602 6241 5157 1 135 8 107 40 14 2620 29 12 486 6 5935 634 11 2 5253 4 1692 5 130 67 72 8 56 146 14 308 8 266 1 2 148 60 745 3 486 1 2 136 137 371 4632 16 6 2442 3965 1 2 290 4 498 5 35 9 11 631 17 1650 1331 2381 9 2 860 28 3 25 12 3386 1431 3 15 7 101 14 1046 27 843 1 2 13 103 11 2 860 37 1299 1 2 204 4 285 5 17 1299 1 1 1 1 2 616 4 1093 5 132 767 3 600 94 9 132 767 3 600 94 9 2538 20 12 3533 2993 1 2 10 45 8 78 1 2 2 2 136 58 65 62 6 61 516 24 1 43 1437 18 128 118 137 8 48 701 20 5988 1 21 2 13 132 1 19 23 43 2236 1 71 114 8 97 50 36 19 11 2 42 18 54 29 61 1 278 36 6 1315 3 7 48 12 6717 1 7 48 12 3066 1 2 1398 4 2198 5 178 3 186 121 729 16 236 1 2 786 17 430 633 1 2 74 33 3 33 3 33 1 33 3 356 27 575 35 1610 3601 5953 23 1 2 13 1304 1 1 1 105 5085 26 6 803 8 57 837 1 8 143 150 6334 3 125 4248 1 45 3 282 17 803 1 2 74 33 1 1 1 33 3 130 134 3 174 1 2 10 291 9 291 9 238 9 291 9 12 1425 20 6 497 1688 1 4 314 5 172 1869 3 748 25 724 27 3301 123 76 3877 1 6226 1 2 10 15 25 2509 27 802 597 52 16 6 3980 702 1 2 13 4 507 5 21 14 465 27 1184 20 2842 1 2 13 4 226 68 88 1184 5 1921 3 31 3 7 282 189 38 6 115 1 473 8 39 2055 3 7 1198 40 24 1335 1 2 10 4 2073 5 32 3 85 799 210 3 178 11 8 65 58 987 27 720 20 280 593 131 80 57 934 607 20 45 9 2 4246 25 2083 151 492 1216 4147 20 6 662 1 2 2782 38 69 3 263 52 9 90 325 90 1 1 1 60 17 638 111 1 1 1 111 1 1 1 238 3 238 3 8 1662 17 638 9 2 4950 524 9 2 3495 32 46 206 3 41 31 3 6 1129 1 6 1129 9 2 10 4 317 20 261 5 37 1 339 2007 1 60 144 6 140 393 57 2 42 51 3 102 68 6 1460 1149 3 31 1 8 190 55 146 1 2 10 4 3752 50 5 37 1 37 3 8 65 3 3198 4 1101 5 2752 1 2 13 4 286 5 51 3 62 1233 1 49 371 621 1 17 266 57 660 2841 144 223 1051 23 1 10 32 3 43 62 226 26 12 188 1 424 3 178 11 230 203 3 2823 3 23 18 11 4 1071 6210 5 222 14 22 3 1 1 17 1 1 1 166 9 1 1 1 2 2913 82 2345 1 39 467 45 67 4 1124 5 32 3 33 3 49 8 9 1 32 3 60 59 3 26 6 3598 2696 3789 1 4 275 5 27 3007 3300 2485 389 1 2 42 51 3 4226 7 55 23 131 2 13 4 190 2124 5 6 134 23 67 2332 9 67 287 103 477 19 2679 15 67 5091 9 2 4974 30 3 5414 351 36 24 86 378 14 1361 239 61 16 27 6306 11 2 13 231 9 2 10 15 57 8 86 378 14 722 12 984 3 191 6 1426 6068 704 9 142 693 90 1288 15 90 2142 90 2067 700 3 15 77 241 39 40 100 3 105 1 2 10 37 3 77 54 17 2703 1 81 47 141 8 282 19 33 125 1 2 10 64 3 33 319 71 179 77 1201 8 3 8 47 53 331 3 87 11 8 2130 12 4375 606 3458 84 1581 44 1680 123 1 2 10 4 1884 5 28 11 8 101 28 14 488 1229 11 2 827 51 3 6 11 23 77 235 2102 11 2 10 4 5841 5 59 3 8 65 35 11 25 79 48 14 278 29 19 1 1 1 2 13 51 11 21 4 314 5 21 66 7 2689 12 460 11 21 4 190 946 5 133 27 673 29 6 617 1 2 505 78 1387 3 28 855 641 2520 29 12 2088 3770 16 2270 1 2 2 2 13 293 11 2 13 30 3 132 9 1022 2595 9 141 22 264 8 12 12 1 589 1 186 78 195 15 564 91 2763 115 36 6 266 1 2 10 39 12 626 3 28 3 8 120 121 12 5417 1361 3 28 1 2 13 219 3 31 1 2 10 4 5485 5 206 3 28 1 8 65 27 2849 33 83 45 1 2 10 30 3 105 571 75 126 5063 4893 1 2 244 6 1394 945 21 97 225 9 21 2 2 2 13 1 1 1 15 6 1653 2395 4390 54 1120 3 38 6 1555 1901 20 6 280 249 343 100 73 1 92 8 39 1251 73 15 380 6 3074 1758 20 9 2 13 4 2996 1 90 914 90 18 23 14 332 3 91 171 47 404 26 22 3 2687 1 2 13 4 1155 271 5 33 3 7 249 1554 19 1 4 286 5 25 43 4265 1490 1 2 350 117 3 469 27 4802 3 111 140 493 9 2 10 4 226 192 5 6014 1 1 5278 1054 1 2 2 2 13 132 3 400 17 224 11 9 9 2 2 2 350 92 2090 18 1 7 101 8 14 2806 6 315 5 6229 1 5667 1 4140 1 5974 31 1 2 1183 4 994 5 35 11 2 10 4 1328 5 21 78 2299 31 1 21 167 116 10 37 3 7 65 3 7 65 1 41 6 221 753 23 58 120 567 981 1103 1182 1 2 10 537 3813 6 928 157 81 431 6 1103 1711 1795 1 1 1 64 3 84 359 14 365 11 9 2 10 209 18 3 28 3 6 224 23 478 1 132 170 94 14 813 52 1 2 10 117 3 149 28 3 99 106 2171 24 2700 26 248 1 25 804 79 104 4662 1331 1 2 13 32 3 503 1 2 244 4 436 591 3 92 253 6365 5 21 51 3 25 602 5946 70 278 18 15 104 70 99 55 12 1676 16 12 62 288 31 1 2 42 28 3 102 9 27 320 23 29 207 9 2 13 4 1509 5 8 121 19 73 3 132 9 2 10 12 89 638 1 2 10 43 24 54 38 12 1552 1 4 566 5 15 29 687 1 2 42 37 1 1699 364 44 1551 20 88 21 16 85 3802 624 1 1 1 2 290 15 96 139 111 532 629 3 7 53 63 332 3956 2821 135 509 68 1847 3381 9 2 11 2 4470 7 326 43 1 2 2701 4 2484 5 7 261 7 212 352 1025 20 3653 1 2 34 4 14 28 5 7 862 12 55 14 65 197 1 15 25 1089 3968 3 6 409 23 6 4341 16 2936 1 60 409 1 2 616 1595 9 789 1 2 290 159 2494 1 70 409 4 613 925 5 409 4 613 925 5 2 909 1 554 815 16 6 1432 20 2412 1439 1 70 3499 6107 57 12 559 50 36 12 649 4103 40 22 1 2 13 64 3 64 3 7 249 322 16 18 3 31 1 62 12 2675 1014 1 2 10 1252 170 79 187 792 192 36 33 649 2907 1 2 13 206 3 97 29 3 31 1 95 16 38 8 48 14 1270 6594 145 1 35 119 135 116 1 2 74 28 3 7 5344 8 577 19 224 1 2 13 4 2484 5 96 53 18 9 2 10 87 3 307 128 328 645 6026 1 7 269 1627 1252 6 250 176 1 2 13 62 12 2820 3 31 1 38 27 6230 158 609 44 151 26 12 36 236 3 411 197 20 6 112 1 92 58 829 91 4613 192 1 40 43 1 1 1 2 795 37 3 135 8 475 22 17 4 1593 5 6 470 9 2 10 32 3 28 3 7 106 6 971 1131 937 1 66 8 153 2729 22 11 2 13 2655 3 7 10 43 174 3 229 116 8 647 12 3867 52 16 6 1925 633 15 77 5868 111 61 345 1 1417 18 44 11 2 34 785 3 2 13 175 1 41 230 7 143 14 322 75 91 245 3954 14 56 22 6493 50 1 2 46 8 182 40 6 115 8 54 1160 45 1 8 120 95 914 15 97 50 36 12 3689 19 4428 14 38 6 2480 5326 52 80 1 2 13 4 1030 591 5 93 292 37 3 37 3 37 3 172 764 3 174 1 41 307 61 60 163 125 3792 1 334 1541 12 115 80 54 12 86 1132 3750 1860 3847 24 648 1 2 13 277 27 6385 1570 3 470 2835 1 25 79 3 40 3 1079 4564 8 1 2 10 51 3 4250 12 2526 93 1 7 2228 7 379 1 2 10 4 2464 199 5 206 3 37 69 1 8 170 304 372 1 2 42 235 83 61 3 31 1388 1 2179 1388 1 2 46 562 1 6 661 23 3 36 155 61 2592 3 8 249 44 1363 14 152 405 298 33 125 1 2 54 36 6 972 11 2 10 1749 128 3 4340 1 56 52 16 80 9 189 1783 57 6653 26 6 972 15 88 4721 1 2 10 75 14 109 1553 1 211 1826 11 2 13 4 5706 2244 5 32 3 49 12 172 1810 3 932 1 1 1 94 466 50 326 1 17 2243 1 2 13 394 9 2243 9 2 2 2 2785 6 1401 14 6 485 624 23 325 15 2808 1 7 182 3 108 8 95 3 31 1 187 97 36 22 15 5137 14 6 485 624 11 2 10 4 448 5 32 3 1118 1 17 802 2597 20 6408 6 4 536 3 399 1 2 160 64 35 48 8 368 3 313 11 2 977 7 54 6316 6 1381 26 1603 1795 1 2 160 49 1603 26 9 1473 9 2 34 547 3 35 85 1450 1 2 46 32 86 3 147 77 79 53 26 85 5714 11 2 10 238 1 7 47 2333 5 70 37 9 70 37 3 62 69 9 70 30 9 70 37 9 2 42 4 1207 2065 390 5 30 1 2 34 4 1207 5319 390 5 2 42 30 3 31 3 66 7 408 36 12 2161 11 2 10 37 3 270 398 80 3 6481 1 2 2 2 13 2753 1 4 1575 199 5 2 2549 27 3835 16 12 4438 5448 23 3486 3 28 1 7 632 48 14 577 18 1 2 13 232 1 1 2 204 4 3688 5 664 3 202 9 62 1727 22 1 2 694 33 3 25 63 1 4 92 14 31 3 367 5 544 1170 781 921 1 4 253 14 895 16 21 124 4084 21 5 781 921 1 1 1 2 13 4 253 5 403 3 781 921 1 1 1 14 449 5 20 2900 26 6 140 360 3 251 1868 177 1076 3431 1676 1 4 947 312 3 92 699 383 5 2 13 394 456 9 3 6 2127 1 334 8 56 1357 2594 52 3 133 33 2274 68 38 1 60 144 81 2638 6 3250 488 1 2 13 4 314 5 7 103 19 550 11 2 46 4 766 5 31 3 49 38 4910 1 23 174 103 19 870 11 23 132 19 216 11 23 28 19 29 207 201 1590 1 2 10 872 1003 3 165 11 1 1 1 4 433 68 209 5 117 3 175 81 98 1876 2602 5611 45 15 13 25 149 75 27 209 3 31 1 2 10 381 3 49 39 90 51 1 19 1048 209 54 270 3 41 18 54 105 179 4112 7 329 14 6 1088 3 21 33 3 62 1145 407 6 3019 1 1 1 16 1376 12 1338 1 21 2 10 30 3 132 1 147 831 19 108 58 450 3 133 184 14 44 12 1924 26 6 1049 3 12 1924 26 6 1753 3 15 537 38 44 12 306 806 1 11 2 10 4 314 5 1060 44 38 21 102 68 22 9 25 12 2847 493 20 12 1546 9 21 2 10 4 1487 5 117 3 11 2 42 4 5549 123 5 7 65 3 41 49 43 914 1 202 198 22 3 28 1 2 13 8 453 14 6 69 129 1 13 51 3 72 18 299 89 679 21 25 63 1742 17 176 637 1 21 4 3128 5 295 77 23 1 2 42 4 6102 12 1 132 3 8 120 1739 146 50 80 15 426 17 266 9 2 42 7 93 1 99 94 4907 2266 9 2 13 132 1 1 1 2 299 90 406 90 161 830 1 761 23 3 161 6457 4745 2934 1 2 46 6 1797 191 44 4815 1 7 345 188 1 1011 181 45 1 7 55 12 1422 1433 167 2429 14 269 6533 1 839 3 4430 1433 1 2 2624 43 1289 1 2 13 4 14 581 3 1890 5 60 22 9 2 13 336 19 9 6 474 1872 135 44 3668 1 2 2954 47 139 22 71 14 252 1 2 13 43 8 38 459 2 13 3757 6524 11 71 66 7 1169 11 2 10 620 1 2 2 2 34 56 100 9 2 10 15 603 52 9 2 10 56 64 142 5079 29 662 3061 1 2 46 4 1793 5 30 3 81 269 146 680 20 6 1664 3 425 9 2 817 23 80 12 761 2 2 2 13 941 3 31 9 119 524 128 17 1006 9 2 10 33 373 1 39 642 6 835 4661 20 6 1193 6536 1 864 53 3 5424 1 99 55 85 2014 1457 12 832 1 2 160 4 448 5 627 3 39 40 29 21 4497 6259 1 21 137 1139 14 21 2 74 32 3 142 29 6 639 86 843 225 1 347 3 363 55 5270 115 1 2 160 27 3430 23 14 256 6 3332 2201 1 2 148 25 836 15 814 1 2 13 60 17 89 3515 1 2 148 347 3 255 1 229 78 1 2 13 30 3 1437 18 13 547 31 3 193 106 12 333 1483 1728 1 2 10 8 121 19 73 1 2 13 64 3 111 104 3 60 35 25 528 75 1312 1 2 46 388 3 59 3 108 8 300 75 19 455 3 27 259 4439 36 3 59 1 1 1 35 53 8 220 18 11 138 14 78 1 2 13 86 3 6535 6 205 115 31 1098 24 11 2 46 30 3 28 9 235 218 9 2 34 30 28 3 13 7 47 56 18 1 2 148 4 636 3 2079 5 2231 52 21 96 509 12 5078 1 21 2 13 147 6 1839 11 2 148 1130 1194 4324 1 2 10 693 1 2 13 25 149 7 678 8 3 31 1 2 10 117 3 60 87 1 49 40 17 255 288 12 21 112 1 21 49 144 7 78 14 152 21 499 3 21 295 23 6 3494 2920 16 27 2283 1 2 5700 4 699 5 28 6 417 3824 12 86 98 3639 14 88 209 23 2511 1 2 46 8 1086 6 1292 11 2 34 8 65 7 127 1 2 46 38 218 1 2 377 87 3 5652 1 35 3349 3 2475 268 1622 612 3 23 212 76 5491 15 3641 11 2 34 71 75 21 1622 2730 324 58 2929 3133 48 106 3134 268 6 4677 1 2 46 30 3 35 57 8 397 20 45 11 2 1786 4 38 357 5 25 85 4 418 5 60 378 1160 1 2 13 32 107 3 18 54 812 1 7 444 119 1735 12 614 2132 86 1 2 10 117 3 51 7 415 8 7 1661 8 11 2 2744 4 566 199 5 24 241 40 12 316 26 17 2889 3382 1 2 10 43 71 179 8 5006 1 1 1 43 515 3 72 8 121 19 592 123 3 15 927 18 192 67 2 244 4 5636 3 2318 5 7 65 3 7 65 11 2 74 139 19 330 49 151 2176 8 15 113 1 2 244 231 1 230 134 20 6 648 1 7 5821 1 2 10 30 119 413 23 933 1 2 46 273 641 45 7 97 9 2 10 6453 103 198 36 17 4624 2354 9 2 10 4 534 5 7 55 344 174 11 2 34 100 11 2 34 33 157 9 2 13 297 53 90 7 116 118 96 48 27 2275 1 4 2034 5 334 7 109 76 6 1846 1 2 13 30 3 43 57 6 3347 2983 1 4 314 5 67 4 506 199 5 2 545 1660 6 1652 3 41 99 759 43 1 2 13 15 8 66 553 36 19 1 2 10 3459 1 2 13 447 1 80 57 2859 16 245 2781 26 22 14 6780 4 5811 5 30 3 8 101 17 582 11 2 13 56 197 64 3 1059 1 4 2467 301 5 2 13 43 325 3 1059 1 4 185 609 1 7 103 48 14 78 14 6 2386 15 25 52 16 6252 1 2 42 8 65 3 7 443 16 12 164 5919 276 144 113 1 2 10 117 3 51 3 2546 7 120 65 150 75 12 1047 3 7 282 24 129 1 2 10 24 4134 23 5798 1 77 2 10 59 3 222 119 3 71 66 7 213 24 6061 11 7 47 55 378 470 20 24 185 14 109 8 102 83 1 2 74 16 1359 1796 1 21 15 33 61 153 158 1 2 10 117 3 176 23 83 1 2 34 30 3 35 318 11 49 1460 20 6 11 30 3 131 818 715 161 138 12 6741 2506 1 2 772 8 411 22 762 45 38 682 1 1 1 2 772 4 1117 5 1 11 2 13 125 40 3 144 168 7 256 18 1 18 54 6572 3028 1 2 74 28 3 25 149 8 444 19 3 41 7 54 2 10 4 738 5 3614 3 4640 3 5272 3 2682 3 569 271 1 1 1 2 1295 15 3 7 374 14 3447 407 6 203 21 13 8 65 3 7 252 327 83 1 175 7 191 39 269 791 675 16 184 122 12 4302 3 4490 112 1 2 10 56 20 45 6 648 15 6 112 23 1038 1 2 234 25 553 68 251 5781 4305 3 144 137 692 323 76 6 3307 16 6 4356 2032 1436 3 11 7 525 304 8 268 8 181 24 520 1 2 46 4 5628 5 7 66 1818 128 6 520 1767 9 2 2832 4 766 5 293 35 114 8 888 14 56 27 243 3 28 11 2 13 4 1314 5 189 2290 1317 2025 19 453 20 6 2608 1 2 13 4 216 70 25 52 1 70 25 368 1 2 13 4 1976 5 96 104 27 713 1651 15 2462 8 61 1222 1 2 502 51 3 25 52 368 6 134 19 110 62 45 26 1 25 528 4097 45 1 2 502 4 1223 5 38 69 3 7 944 18 1 7 114 770 1494 670 269 27 4215 6760 29 3 1007 1 99 304 8 56 442 105 369 612 1 2 734 25 63 79 141 100 122 17 575 3 118 2626 247 1 2 10 400 27 243 254 3 28 11 2 13 376 63 536 637 1 2 10 35 11 49 215 16 113 7 213 20 16 8 171 11 2 46 137 27 5196 9 64 97 29 3 338 1643 901 3 48 12 82 9 2 204 7 93 67 7 265 44 1 472 421 1009 1 2 34 4 1155 271 5 63 24 225 1 2 46 231 3 24 225 9 2 204 8 65 3 28 3 401 17 3277 1 2 5594 4 1645 6415 259 5 152 118 96 450 1 2 13 159 12 279 1 7 261 8 168 187 56 623 1 2 2 10 28 1 1 1 24 2739 155 26 333 5233 1 15 171 29 4129 4927 3 40 22 1 35 11 35 57 8 38 522 68 9 2 877 4 1071 1211 5 41 92 144 135 7 78 14 56 323 76 17 243 9 1738 3 31 3 8 406 3 5869 1157 9 3 1166 16 236 429 1 264 2562 12 270 435 1 2 1180 4 2315 5 706 1 1 1 706 1 1 1 4 140 5639 5 2 589 21 23 26 31 3 6 2006 16 173 1 21 773 21 23 26 6 21 773 21 20 6 1879 16 173 1 21 3952 21 23 1266 2078 3 12 5441 1838 118 573 3067 1 2 10 25 39 184 14 220 6 1161 2162 64 1 4 2136 5 15 1404 3248 17 742 173 6 157 18 23 3 38 69 11 15 7 170 2991 18 26 211 1141 3 2496 3 5132 3 118 4065 1 2 74 7 138 12 219 1 2 2642 4 501 310 14 3964 4191 5 1936 16 2194 3 17 543 11 2 1786 51 308 8 3 27 2428 1 8 65 3 32 202 3 63 24 225 1 2 13 771 3 116 217 14 401 1 2 13 4 1278 289 5 6013 1 2 991 4 21 110 63 13 4759 645 821 305 15 5186 1 1 1 713 645 9 2 13 25 327 273 36 24 403 3 64 49 6224 343 1 2 10 32 2087 5 15 17 6740 3 137 355 69 14 6 815 9 4 6246 2377 3633 199 5 208 1 2 568 24 23 61 5408 84 47 40 1 2376 14 415 352 1 4 489 982 5 2 10 147 18 116 11 2 2 2 46 4 1223 5 104 111 609 3 28 1 58 48 14 213 6 210 29 12 6728 14 3682 2081 3 92 96 44 73 14 78 14 1744 9 2 148 4 2765 5 255 3 72 8 3 24 4790 6022 1 97 4495 27 1792 407 18 1 2 46 30 1827 3 863 12 247 144 7 548 2473 4301 15 3245 6363 1 2 284 1 2 10 132 3 71 53 8 269 551 73 20 11 2 42 25 12 216 1 7 47 65 331 75 71 7 53 303 1 51 33 373 1 96 39 564 6 200 20 19 1809 851 6 784 1 2 10 124 138 3292 22 85 1695 6238 1 191 7 1238 24 82 5 27 2037 1649 3 15 6 6264 828 4 433 14 207 5 1 2 46 51 3 23 80 303 20 24 112 60 212 20 998 9 39 47 442 22 9 2 13 4 439 5 87 327 210 3 400 348 6000 713 393 11 2 10 4 814 5 102 3 5419 7 21 6159 9 21 2 10 87 1 2 13 219 3 31 1 71 66 7 153 5834 8 11 2 10 30 3 91 267 182 125 14 108 77 1113 22 14 6 2717 2447 20 6666 11 2 136 4 3266 5 6 2717 2447 11 9 297 548 38 6 172 665 2516 3 31 91 4111 15 67 4 6409 150 5 8 225 11 9 2 13 35 6 309 23 24 134 11 2 2 2 46 35 23 18 3 31 85 1091 26 6364 4313 1 2 10 35 6 11 9 99 106 4130 4294 1516 14 19 11 9 2 1191 41 35 8 240 75 28 49 123 14 1477 274 1404 862 43 179 6023 122 126 871 1 2 34 8 65 84 7 93 586 11 19 5242 4742 1 542 61 115 7 1 2 148 388 31 3 8 162 172 747 1 2 13 4 2533 5 37 1 35 48 8 368 36 6 333 31 11 2 2 2 10 238 3 60 79 1148 111 1 2 13 99 55 5915 2101 25 522 14 1253 3 31 9 2 10 165 11 2 13 4 1328 5 14 6 672 3 7 379 48 2740 5859 45 90 630 399 1 2 160 4 14 4279 5 322 19 3 3530 11 6 972 677 1051 9 1 2 10 15 6 4775 1284 1 1 1 6 6425 16 6 3640 2932 1 2 10 347 3 4989 1 2 10 8 2861 18 36 12 11 9 7 98 94 53 150 40 19 9 4 578 5 98 7 11 2 160 110 47 8 356 6 653 84 5364 6 2378 11 63 2 13 1455 1 1 1 6 155 373 23 3 25 130 14 3017 91 1741 16 536 195 15 1327 709 1 33 967 96 4051 19 90 100 20 11 2 244 8 182 3350 4823 11 2 2731 4 3059 296 259 5 30 9 2 2731 25 69 45 1 2 244 149 1 2 1 187 97 11 2 2203 33 1 2 34 4 2531 5 49 87 3 7 1190 1 2 34 4 14 581 5 2491 522 68 12 1425 57 29 174 1 2 13 4 436 5 7 47 101 27 1119 470 1 96 408 26 18 352 1 2 10 59 3 7 120 278 36 82 9 2 13 544 1 1 1 401 1009 22 14 300 14 8 1 2 204 4211 9 945 58 2812 850 3 118 6 2959 11 2 186 362 321 6 5656 183 77 114 355 20 1 2 34 116 28 3 62 333 83 68 24 1 95 8 98 588 17 1329 2070 26 2164 3 165 11 4 2008 5 1422 5793 5677 14 19 203 1 1 1 4 717 5 25 79 121 18 1 2 10 1000 340 3 283 1112 4499 197 122 917 8 38 223 1433 1 2 13 4 2144 5 7 242 7 48 33 1334 1 2 2 2 10 147 351 36 27 13 4 3048 105 179 5 32 37 3 37 3 60 35 7 1859 105 1 7 48 33 1 1 1 4178 1 1 1 2 10 55 3 8 65 1 1 1 2 34 32 3 69 9 222 3 28 3 532 816 318 73 20 520 455 1 1 1 2 13 4 788 12 5283 3 562 19 23 1 2 234 24 23 932 1146 36 12 740 2050 6559 6 1898 758 1 2 234 503 5560 5468 5836 1 12 2 34 238 3 30 382 9 382 3 382 3 382 9 2 13 4 403 300 5 217 382 1 1 1 217 382 1 2 46 30 1 1 6124 1 2 892 19 54 1600 68 3372 1 7 54 759 434 44 1101 20 6 333 22 1 2 10 57 8 793 22 11 71 135 8 1090 12 653 281 3759 1876 41 59 3 20 91 157 1 1 1 12 89 1216 11 2 34 8 182 40 71 58 1090 51 3 72 99 618 303 76 931 3392 3 23 19 193 55 14 109 12 986 3 3885 4945 3 6 324 19 241 40 18 265 1253 44 17 194 1 1 1 2 13 4 14 283 5 104 3 18 601 1 15 2322 57 39 6 1877 1 133 963 4766 3 3259 3 61 3 1521 6120 5 21 254 6 251 4937 4579 54 6339 20 6 611 16 12 1074 164 882 1 1 1 4 498 5 262 1 2601 1229 11 2 46 4 1002 5 35 11 8 95 39 215 25 790 7 65 38 245 790 171 11 2 13 51 3 7 1 1 1 10 4 2373 732 5 331 1 2 10 4 285 5 39 334 7 345 3058 70 135 2456 73 88 960 70 15 1829 22 12 2600 70 24 82 1 2 74 4 1532 5 18 1714 40 1 1 1 3660 9 70 18 1714 40 481 1305 9 2 74 18 1714 40 602 6062 753 14 162 8 1 2 10 49 12 672 76 28 1 29 17 2501 1 20 17 5005 1 837 17 6141 15 1066 2119 1 15 18 95 3 119 11 158 8 162 31 12 722 11 2 74 178 3 51 1 1 1 2 10 175 8 143 12 89 125 21 916 16 12 5930 593 6501 70 15 92 108 25 1823 3 96 78 311 27 2577 70 41 8 98 53 563 1 1 1 2 74 7 98 53 12 778 11 21 7 443 75 19 20 2709 455 3 41 7 94 304 18 531 1 2 10 32 3 24 23 228 83 26 22 1 911 105 11 7 187 121 12 3922 43 25 4833 26 6 5551 2003 1 2 337 51 1 1 1 25 6176 1 78 1387 1 2 34 15 81 1656 27 228 2723 9 2 13 4 2049 5762 5 238 9 58 1656 27 228 2723 1 2 34 49 3955 1 424 23 64 563 3638 19 6304 5726 819 54 184 14 5888 1 2 13 87 3 175 7 6667 1 41 193 106 43 2627 1 1 1 21 25 1289 3 769 4607 9 4 874 50 769 4960 396 21 1109 27 218 21 5 15 6195 4241 26 27 1099 1 294 1 43 8 66 121 27 6528 1 2 13 4 5865 483 5 70 4 2558 2077 483 5 2 13 38 69 9 38 69 9 2 13 25 355 195 1 49 63 889 2393 994 289 5 37 3 60 660 12 83 61 1 45 3 7 55 532 19 265 1056 111 50 1 2 10 7 55 24 26 1095 5 6 846 1 1 1 2 4959 4 5308 271 20 3 1276 5 6 2185 1 1 1 2 2 2 46 86 3 8 130 987 19 32 37 11 71 628 24 1967 209 11 4 1967 483 5 2 136 7 66 104 19 123 1393 23 12 2292 86 1 2 10 4 286 2 2 136 30 3 255 1 2 13 4 440 5 30 425 3 3488 358 11 2 136 447 1 7 54 1283 8 15 27 284 98 155 5316 154 6 5803 1 4 289 5 53 8 1190 35 7 3897 52 80 11 2 2388 6 5349 14 1501 6 360 23 2178 1 2 2800 1 2 10 4 2845 5 59 222 3 28 67 7 65 12 129 84 4342 267 26 1189 84 143 267 2096 1 41 3 59 3 1 2 188 1 5629 4 230 271 5 1 1 1 391 2570 1 1 1 4 626 271 5 2550 86 1 1 1 4 1052 271 5 50 1 2 10 208 3 278 19 52 9 70 413 23 4474 368 9 70 102 68 236 6681 9 70 15 1 1 1 1823 9 2 2 10 4 840 260 3 92 1391 28 5 336 1605 1569 9 2 1115 536 50 315 29 21 280 16 593 21 1 1 1 2 1115 66 411 211 115 58 101 1 2 46 28 3 110 47 8 39 109 91 125 16 6 5416 405 11 2 13 32 3 274 283 249 2 2001 44 17 1528 1 2 2 2 10 4 1874 5 238 3 12 1583 1 4 1854 180 5 229 104 1 1 1 1583 2438 26 2 13 4 766 5 771 3 8 15 7 57 79 44 1513 183 153 90 58 564 6 1136 16 126 871 2325 19 2355 1 2 262 2 13 758 3 229 524 14 6 2331 1 2 335 37 3 141 22 242 1 62 660 79 53 150 2363 40 398 14 300 22 321 6 227 1 2 13 1094 619 9 14 758 869 15 401 1946 9 2 42 35 12 2867 9 2 46 231 9 14 401 9 2 10 3662 11 21 2 335 51 28 3 8 103 213 61 151 29 196 298 869 3 45 1 4 534 5 219 12 306 3 2004 1 2 2 1719 4 5940 5 586 73 3 28 9 7 65 35 25 397 1 2 34 51 3 58 38 65 35 137 397 1 6 1296 23 28 3 47 428 1 62 68 173 340 67 3695 268 5770 1 2 13 35 6 67 4 2241 5 24 23 12 1752 988 9 2 42 1293 5355 3435 4933 57 607 1 6427 3297 625 14 88 2420 1438 15 81 729 6065 223 6262 54 39 1877 1 6 559 1 21 2 148 9 21 400 6 2010 11 2 545 6 2010 57 64 2225 3 6 3384 2110 23 64 12 1267 3 15 3170 23 64 4263 9 32 9 18 39 55 2060 76 80 1 2 2811 21 554 7 668 18 1392 950 1 515 3 72 62 226 26 27 255 1 77 386 6 266 13 51 25 327 130 18 54 20 80 1673 1 2 727 64 3 141 22 3251 154 3719 31 6 519 26 4826 24 1427 237 810 1589 25 371 975 16 267 40 19 1 2 148 975 16 35 11 7 588 29 8 3 15 8 121 18 67 60 71 2248 601 1 2 1 1812 14 6 1394 16 1379 1 2 2184 137 20 6 1394 16 1379 9 2 555 4 1275 199 5 51 3 19 3703 1 2 555 164 316 11 2 34 233 18 102 40 99 55 12 316 11 2 46 33 3 7 168 1 2 10 28 3 276 12 89 125 5530 9 2 10 2104 9 2 2 2 10 30 3 28 1 7 98 322 27 1720 5624 311 6 541 1 2 13 51 3 110 93 7 106 2827 154 6 134 18 3735 4042 413 9 2 74 7 93 332 137 94 184 14 48 235 1743 1 1 1 4 1733 5 2 34 213 18 20 12 983 4284 26 283 1 2 34 43 400 6 145 64 11 2 13 7 213 18 20 6 989 1 19 185 23 172 2 13 12 2555 6126 23 64 2799 183 85 665 989 1 177 126 1813 3 2520 29 171 2325 274 223 3366 5613 181 105 602 3 97 8 213 27 1792 123 29 223 5765 15 5389 1114 8 322 12 5346 3 1678 1251 50 565 1 2 1185 103 11 62 130 75 24 11 105 1922 1 61 279 62 881 20 27 4311 523 82 3 6 315 134 8 65 62 1018 45 523 82 1 2 377 28 3 27 5472 12 2015 5550 7 66 282 1 2 10 165 1 241 40 62 103 686 532 151 20 27 689 80 3 28 1 2 13 31 3 7 296 1 15 108 25 29 12 465 3 6 1023 23 429 1 2 234 4 2591 5 6 1023 54 12 86 1 88 1806 181 1194 3 21 196 3951 9 21 2 34 4 14 2380 5 147 2298 1 1626 1 773 1 1840 1 11 2 1033 18 735 21 472 6 2833 16 92 7 3788 52 1689 15 29 474 1 2 148 4 2718 5 103 11 2 10 4 717 5 269 17 1214 69 45 20 24 1053 1 2678 9 2 34 872 9 2 46 4 1321 5 110 53 58 288 3862 151 1632 4965 11 2 698 1 1045 8 65 147 103 1241 11 8 1523 421 17 2330 11 2 13 2330 11 4 2264 5 23 19 40 61 16 169 816 3122 2383 267 11 2 698 1 1045 33 3 2 10 1161 1 804 1 25 103 358 18 1 33 125 1367 26 4 5660 5 2653 9 4 950 5 215 24 115 133 33 61 60 1431 1 2 6257 1161 23 6185 70 18 6604 29 369 1910 70 15 7 66 67 2 10 19 1644 18 9 33 125 3026 9 2 10 332 20 674 1 1 1 4 1265 50 5 8 107 3 8 987 22 9 8 53 404 9 2 13 64 159 12 279 1 120 109 60 288 83 26 12 301 1 2 74 33 3 33 3 18 177 14 44 150 140 864 583 88 604 2180 1 4 1675 1021 5 110 7 53 48 24 1985 19 7 2475 352 1 570 615 44 6 227 134 8 153 138 118 6 205 134 297 153 48 1 2 1372 232 14 4056 3 3541 5 63 361 3 196 194 1 41 47 428 3 5585 57 39 192 6 1672 1 2 2 2 10 28 3 7 1647 3 49 115 1 343 18 29 9 343 18 29 9 2 13 344 718 887 26 344 227 284 1 2 10 37 3 7 288 78 36 9 4 260 5 25 43 273 9 4 125 260 5 25 43 273 9 2 13 14 6 227 460 20 6 280 67 145 1 2 13 45 9 7 47 153 101 14 104 19 4891 4457 225 9 2 13 159 12 279 9 5719 4691 20 6 6480 16 1301 5329 9 2 13 4996 76 88 5207 2518 1 2 2 2 13 1915 54 812 361 9 963 3 119 23 20 1352 15 161 168 163 139 22 9 2 10 43 6 2076 57 3 239 115 6 753 129 329 21 1420 3 21 58 120 121 12 152 1 2 34 570 44 270 14 141 292 629 8 1 35 23 6 140 779 11 2 46 4 5388 5 142 397 18 9 142 500 12 272 9 2 34 4 1029 5 884 3 884\n\t [[Node: sequence_loss/SparseSoftmaxCrossEntropyWithLogits/SparseSoftmaxCrossEntropyWithLogits = SparseSoftmaxCrossEntropyWithLogits[T=DT_FLOAT, Tlabels=DT_INT32, _device=\"/job:localhost/replica:0/task:0/device:CPU:0\"](sequence_loss/Reshape, sequence_loss/Reshape_1)]]\n"
     ]
    }
   ],
   "source": [
    "\"\"\"\n",
    "DON'T MODIFY ANYTHING IN THIS CELL\n",
    "\"\"\"\n",
    "batches = get_batches(int_text, batch_size, seq_length)\n",
    "\n",
    "with tf.Session(graph=train_graph) as sess:\n",
    "    sess.run(tf.global_variables_initializer())\n",
    "\n",
    "    for epoch_i in range(num_epochs):\n",
    "        state = sess.run(initial_state, {input_text: batches[0][0]})\n",
    "\n",
    "        for batch_i, (x, y) in enumerate(batches):\n",
    "            print(np.max(y))  # y_train is the array of your training labels\n",
    "\n",
    "            feed = {\n",
    "                input_text: x,\n",
    "                targets: y,\n",
    "                initial_state: state,\n",
    "                lr: learning_rate}\n",
    "            train_loss, state, _ = sess.run([cost, final_state, train_op], feed)\n",
    "\n",
    "            # Show every <show_every_n_batches> batches\n",
    "            if (epoch_i * len(batches) + batch_i) % show_every_n_batches == 0:\n",
    "                print('Epoch {:>3} Batch {:>4}/{}   train_loss = {:.3f}'.format(\n",
    "                    epoch_i,\n",
    "                    batch_i,\n",
    "                    len(batches),\n",
    "                    train_loss))\n",
    "\n",
    "    # Save Model\n",
    "    saver = tf.train.Saver()\n",
    "    saver.save(sess, save_dir)\n",
    "    print('Model Trained and Saved')"
   ]
  },
  {
   "cell_type": "markdown",
   "metadata": {
    "deletable": true,
    "editable": true
   },
   "source": [
    "## Save Parameters\n",
    "Save `seq_length` and `save_dir` for generating a new TV script."
   ]
  },
  {
   "cell_type": "code",
   "execution_count": null,
   "metadata": {
    "collapsed": true,
    "deletable": true,
    "editable": true
   },
   "outputs": [],
   "source": [
    "\"\"\"\n",
    "DON'T MODIFY ANYTHING IN THIS CELL\n",
    "\"\"\"\n",
    "# Save parameters for checkpoint\n",
    "helper.save_params((seq_length, save_dir))"
   ]
  },
  {
   "cell_type": "markdown",
   "metadata": {
    "deletable": true,
    "editable": true
   },
   "source": [
    "# Checkpoint"
   ]
  },
  {
   "cell_type": "code",
   "execution_count": null,
   "metadata": {
    "collapsed": true,
    "deletable": true,
    "editable": true
   },
   "outputs": [],
   "source": [
    "\"\"\"\n",
    "DON'T MODIFY ANYTHING IN THIS CELL\n",
    "\"\"\"\n",
    "import tensorflow as tf\n",
    "import numpy as np\n",
    "import helper\n",
    "import problem_unittests as tests\n",
    "\n",
    "_, vocab_to_int, int_to_vocab, token_dict = helper.load_preprocess()\n",
    "seq_length, load_dir = helper.load_params()"
   ]
  },
  {
   "cell_type": "markdown",
   "metadata": {
    "deletable": true,
    "editable": true
   },
   "source": [
    "## Implement Generate Functions\n",
    "### Get Tensors\n",
    "Get tensors from `loaded_graph` using the function [`get_tensor_by_name()`](https://www.tensorflow.org/api_docs/python/tf/Graph#get_tensor_by_name).  Get the tensors using the following names:\n",
    "- \"input:0\"\n",
    "- \"initial_state:0\"\n",
    "- \"final_state:0\"\n",
    "- \"probs:0\"\n",
    "\n",
    "Return the tensors in the following tuple `(InputTensor, InitialStateTensor, FinalStateTensor, ProbsTensor)` "
   ]
  },
  {
   "cell_type": "code",
   "execution_count": null,
   "metadata": {
    "collapsed": true,
    "deletable": true,
    "editable": true
   },
   "outputs": [],
   "source": [
    "def get_tensors(loaded_graph):\n",
    "    \"\"\"\n",
    "    Get input, initial state, final state, and probabilities tensor from <loaded_graph>\n",
    "    :param loaded_graph: TensorFlow graph loaded from file\n",
    "    :return: Tuple (InputTensor, InitialStateTensor, FinalStateTensor, ProbsTensor)\n",
    "    \"\"\"\n",
    "    # TODO: Implement Function\n",
    "    return None, None, None, None\n",
    "\n",
    "\n",
    "\"\"\"\n",
    "DON'T MODIFY ANYTHING IN THIS CELL THAT IS BELOW THIS LINE\n",
    "\"\"\"\n",
    "tests.test_get_tensors(get_tensors)"
   ]
  },
  {
   "cell_type": "markdown",
   "metadata": {
    "deletable": true,
    "editable": true
   },
   "source": [
    "### Choose Word\n",
    "Implement the `pick_word()` function to select the next word using `probabilities`."
   ]
  },
  {
   "cell_type": "code",
   "execution_count": null,
   "metadata": {
    "collapsed": true,
    "deletable": true,
    "editable": true
   },
   "outputs": [],
   "source": [
    "def pick_word(probabilities, int_to_vocab):\n",
    "    \"\"\"\n",
    "    Pick the next word in the generated text\n",
    "    :param probabilities: Probabilites of the next word\n",
    "    :param int_to_vocab: Dictionary of word ids as the keys and words as the values\n",
    "    :return: String of the predicted word\n",
    "    \"\"\"\n",
    "    # TODO: Implement Function\n",
    "    return None\n",
    "\n",
    "\n",
    "\"\"\"\n",
    "DON'T MODIFY ANYTHING IN THIS CELL THAT IS BELOW THIS LINE\n",
    "\"\"\"\n",
    "tests.test_pick_word(pick_word)"
   ]
  },
  {
   "cell_type": "markdown",
   "metadata": {
    "deletable": true,
    "editable": true
   },
   "source": [
    "## Generate TV Script\n",
    "This will generate the TV script for you.  Set `gen_length` to the length of TV script you want to generate."
   ]
  },
  {
   "cell_type": "code",
   "execution_count": null,
   "metadata": {
    "collapsed": true,
    "deletable": true,
    "editable": true
   },
   "outputs": [],
   "source": [
    "gen_length = 200\n",
    "# homer_simpson, moe_szyslak, or Barney_Gumble\n",
    "prime_word = 'moe_szyslak'\n",
    "\n",
    "\"\"\"\n",
    "DON'T MODIFY ANYTHING IN THIS CELL THAT IS BELOW THIS LINE\n",
    "\"\"\"\n",
    "loaded_graph = tf.Graph()\n",
    "with tf.Session(graph=loaded_graph) as sess:\n",
    "    # Load saved model\n",
    "    loader = tf.train.import_meta_graph(load_dir + '.meta')\n",
    "    loader.restore(sess, load_dir)\n",
    "\n",
    "    # Get Tensors from loaded model\n",
    "    input_text, initial_state, final_state, probs = get_tensors(loaded_graph)\n",
    "\n",
    "    # Sentences generation setup\n",
    "    gen_sentences = [prime_word + ':']\n",
    "    prev_state = sess.run(initial_state, {input_text: np.array([[1]])})\n",
    "\n",
    "    # Generate sentences\n",
    "    for n in range(gen_length):\n",
    "        # Dynamic Input\n",
    "        dyn_input = [[vocab_to_int[word] for word in gen_sentences[-seq_length:]]]\n",
    "        dyn_seq_length = len(dyn_input[0])\n",
    "\n",
    "        # Get Prediction\n",
    "        probabilities, prev_state = sess.run(\n",
    "            [probs, final_state],\n",
    "            {input_text: dyn_input, initial_state: prev_state})\n",
    "        \n",
    "        pred_word = pick_word(probabilities[0][dyn_seq_length-1], int_to_vocab)\n",
    "\n",
    "        gen_sentences.append(pred_word)\n",
    "    \n",
    "    # Remove tokens\n",
    "    tv_script = ' '.join(gen_sentences)\n",
    "    for key, token in token_dict.items():\n",
    "        ending = ' ' if key in ['\\n', '(', '\"'] else ''\n",
    "        tv_script = tv_script.replace(' ' + token.lower(), key)\n",
    "    tv_script = tv_script.replace('\\n ', '\\n')\n",
    "    tv_script = tv_script.replace('( ', '(')\n",
    "        \n",
    "    print(tv_script)"
   ]
  },
  {
   "cell_type": "markdown",
   "metadata": {
    "deletable": true,
    "editable": true
   },
   "source": [
    "# The TV Script is Nonsensical\n",
    "It's ok if the TV script doesn't make any sense.  We trained on less than a megabyte of text.  In order to get good results, you'll have to use a smaller vocabulary or get more data.  Luckily there's more data!  As we mentioned in the beggining of this project, this is a subset of [another dataset](https://www.kaggle.com/wcukierski/the-simpsons-by-the-data).  We didn't have you train on all the data, because that would take too long.  However, you are free to train your neural network on all the data.  After you complete the project, of course.\n",
    "# Submitting This Project\n",
    "When submitting this project, make sure to run all the cells before saving the notebook. Save the notebook file as \"dlnd_tv_script_generation.ipynb\" and save it as a HTML file under \"File\" -> \"Download as\". Include the \"helper.py\" and \"problem_unittests.py\" files in your submission."
   ]
  }
 ],
 "metadata": {
  "kernelspec": {
   "display_name": "Python 3",
   "language": "python",
   "name": "python3"
  },
  "language_info": {
   "codemirror_mode": {
    "name": "ipython",
    "version": 3
   },
   "file_extension": ".py",
   "mimetype": "text/x-python",
   "name": "python",
   "nbconvert_exporter": "python",
   "pygments_lexer": "ipython3",
   "version": "3.5.5"
  },
  "widgets": {
   "state": {},
   "version": "1.1.2"
  }
 },
 "nbformat": 4,
 "nbformat_minor": 1
}
